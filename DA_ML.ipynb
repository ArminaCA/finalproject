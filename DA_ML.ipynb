{
 "cells": [
  {
   "cell_type": "code",
   "execution_count": 1,
   "metadata": {},
   "outputs": [],
   "source": [
    "# Import modules\n",
    "from warnings import simplefilter\n",
    "simplefilter(action='ignore', category=FutureWarning)\n",
    "import pandas as pd\n",
    "from pathlib import Path\n",
    "from sklearn.model_selection import train_test_split\n",
    "from sklearn.metrics import classification_report\n",
    "from sklearn.preprocessing import StandardScaler\n",
    "from sklearn.ensemble import RandomForestClassifier\n",
    "from sklearn.metrics import confusion_matrix, accuracy_score, classification_report\n",
    "import matplotlib.pyplot as plt\n",
    "import pandas as pd\n",
    "import seaborn as sns"
   ]
  },
  {
   "cell_type": "code",
   "execution_count": 21,
   "metadata": {},
   "outputs": [
    {
     "data": {
      "text/html": [
       "<div>\n",
       "<style scoped>\n",
       "    .dataframe tbody tr th:only-of-type {\n",
       "        vertical-align: middle;\n",
       "    }\n",
       "\n",
       "    .dataframe tbody tr th {\n",
       "        vertical-align: top;\n",
       "    }\n",
       "\n",
       "    .dataframe thead th {\n",
       "        text-align: right;\n",
       "    }\n",
       "</style>\n",
       "<table border=\"1\" class=\"dataframe\">\n",
       "  <thead>\n",
       "    <tr style=\"text-align: right;\">\n",
       "      <th></th>\n",
       "      <th>Unnamed: 0</th>\n",
       "      <th>loan_id</th>\n",
       "      <th>no_of_dependents</th>\n",
       "      <th>education</th>\n",
       "      <th>self_employed</th>\n",
       "      <th>income_annum</th>\n",
       "      <th>loan_amount</th>\n",
       "      <th>loan_term</th>\n",
       "      <th>cibil_score</th>\n",
       "      <th>residential_assets_value</th>\n",
       "      <th>commercial_assets_value</th>\n",
       "      <th>luxury_assets_value</th>\n",
       "      <th>bank_asset_value</th>\n",
       "      <th>loan_status</th>\n",
       "    </tr>\n",
       "  </thead>\n",
       "  <tbody>\n",
       "    <tr>\n",
       "      <th>0</th>\n",
       "      <td>0</td>\n",
       "      <td>1</td>\n",
       "      <td>2</td>\n",
       "      <td>Graduate</td>\n",
       "      <td>No</td>\n",
       "      <td>96000</td>\n",
       "      <td>299000</td>\n",
       "      <td>12</td>\n",
       "      <td>778</td>\n",
       "      <td>24000</td>\n",
       "      <td>176000</td>\n",
       "      <td>227000</td>\n",
       "      <td>80000</td>\n",
       "      <td>Approved</td>\n",
       "    </tr>\n",
       "    <tr>\n",
       "      <th>1</th>\n",
       "      <td>1</td>\n",
       "      <td>2</td>\n",
       "      <td>0</td>\n",
       "      <td>Not Graduate</td>\n",
       "      <td>Yes</td>\n",
       "      <td>41000</td>\n",
       "      <td>122000</td>\n",
       "      <td>8</td>\n",
       "      <td>417</td>\n",
       "      <td>27000</td>\n",
       "      <td>22000</td>\n",
       "      <td>88000</td>\n",
       "      <td>33000</td>\n",
       "      <td>Rejected</td>\n",
       "    </tr>\n",
       "    <tr>\n",
       "      <th>2</th>\n",
       "      <td>2</td>\n",
       "      <td>3</td>\n",
       "      <td>3</td>\n",
       "      <td>Graduate</td>\n",
       "      <td>No</td>\n",
       "      <td>91000</td>\n",
       "      <td>297000</td>\n",
       "      <td>20</td>\n",
       "      <td>506</td>\n",
       "      <td>71000</td>\n",
       "      <td>45000</td>\n",
       "      <td>333000</td>\n",
       "      <td>128000</td>\n",
       "      <td>Rejected</td>\n",
       "    </tr>\n",
       "    <tr>\n",
       "      <th>3</th>\n",
       "      <td>3</td>\n",
       "      <td>4</td>\n",
       "      <td>3</td>\n",
       "      <td>Graduate</td>\n",
       "      <td>No</td>\n",
       "      <td>82000</td>\n",
       "      <td>307000</td>\n",
       "      <td>8</td>\n",
       "      <td>467</td>\n",
       "      <td>182000</td>\n",
       "      <td>33000</td>\n",
       "      <td>233000</td>\n",
       "      <td>79000</td>\n",
       "      <td>Rejected</td>\n",
       "    </tr>\n",
       "    <tr>\n",
       "      <th>4</th>\n",
       "      <td>4</td>\n",
       "      <td>5</td>\n",
       "      <td>5</td>\n",
       "      <td>Not Graduate</td>\n",
       "      <td>Yes</td>\n",
       "      <td>98000</td>\n",
       "      <td>242000</td>\n",
       "      <td>20</td>\n",
       "      <td>382</td>\n",
       "      <td>124000</td>\n",
       "      <td>82000</td>\n",
       "      <td>294000</td>\n",
       "      <td>50000</td>\n",
       "      <td>Rejected</td>\n",
       "    </tr>\n",
       "  </tbody>\n",
       "</table>\n",
       "</div>"
      ],
      "text/plain": [
       "   Unnamed: 0  loan_id   no_of_dependents      education  self_employed  \\\n",
       "0           0        1                  2       Graduate             No   \n",
       "1           1        2                  0   Not Graduate            Yes   \n",
       "2           2        3                  3       Graduate             No   \n",
       "3           3        4                  3       Graduate             No   \n",
       "4           4        5                  5   Not Graduate            Yes   \n",
       "\n",
       "    income_annum   loan_amount   loan_term   cibil_score  \\\n",
       "0          96000        299000          12           778   \n",
       "1          41000        122000           8           417   \n",
       "2          91000        297000          20           506   \n",
       "3          82000        307000           8           467   \n",
       "4          98000        242000          20           382   \n",
       "\n",
       "    residential_assets_value   commercial_assets_value   luxury_assets_value  \\\n",
       "0                      24000                    176000                227000   \n",
       "1                      27000                     22000                 88000   \n",
       "2                      71000                     45000                333000   \n",
       "3                     182000                     33000                233000   \n",
       "4                     124000                     82000                294000   \n",
       "\n",
       "    bank_asset_value  loan_status  \n",
       "0              80000     Approved  \n",
       "1              33000     Rejected  \n",
       "2             128000     Rejected  \n",
       "3              79000     Rejected  \n",
       "4              50000     Rejected  "
      ]
     },
     "execution_count": 21,
     "metadata": {},
     "output_type": "execute_result"
    }
   ],
   "source": [
    "# Read the CSV file into a Pandas DataFrame\n",
    "data_df = pd.read_csv(\n",
    "    Path('Resources/loan_data_cleaned.csv')   \n",
    ")\n",
    "\n",
    "# Review the DataFrame\n",
    "data_df.head()"
   ]
  },
  {
   "cell_type": "code",
   "execution_count": 22,
   "metadata": {},
   "outputs": [
    {
     "name": "stdout",
     "output_type": "stream",
     "text": [
      "Index(['Unnamed: 0', 'loan_id', ' no_of_dependents', ' education',\n",
      "       ' self_employed', ' income_annum', ' loan_amount', ' loan_term',\n",
      "       ' cibil_score', ' residential_assets_value', ' commercial_assets_value',\n",
      "       ' luxury_assets_value', ' bank_asset_value', ' loan_status'],\n",
      "      dtype='object')\n"
     ]
    }
   ],
   "source": [
    "print(data_df.columns)"
   ]
  },
  {
   "cell_type": "code",
   "execution_count": 28,
   "metadata": {},
   "outputs": [],
   "source": [
    "# One-hot encode the 'education' and 'self_employed' columns\n",
    "data_df = data_df.replace({' loan_status': {'Approved': 1, 'Rejected': 0}, \n",
    "                 ' education': {' Graduate': 1, ' Not Graduate': 0}, \n",
    "                 ' self_employed': {' Yes': 1, ' No':0}})"
   ]
  },
  {
   "cell_type": "code",
   "execution_count": 25,
   "metadata": {},
   "outputs": [
    {
     "data": {
      "text/plain": [
       "array([1, 0], dtype=int64)"
      ]
     },
     "execution_count": 25,
     "metadata": {},
     "output_type": "execute_result"
    }
   ],
   "source": [
    "data_df[' loan_status'].unique()"
   ]
  },
  {
   "cell_type": "code",
   "execution_count": 29,
   "metadata": {},
   "outputs": [
    {
     "data": {
      "text/html": [
       "<div>\n",
       "<style scoped>\n",
       "    .dataframe tbody tr th:only-of-type {\n",
       "        vertical-align: middle;\n",
       "    }\n",
       "\n",
       "    .dataframe tbody tr th {\n",
       "        vertical-align: top;\n",
       "    }\n",
       "\n",
       "    .dataframe thead th {\n",
       "        text-align: right;\n",
       "    }\n",
       "</style>\n",
       "<table border=\"1\" class=\"dataframe\">\n",
       "  <thead>\n",
       "    <tr style=\"text-align: right;\">\n",
       "      <th></th>\n",
       "      <th>Unnamed: 0</th>\n",
       "      <th>loan_id</th>\n",
       "      <th>no_of_dependents</th>\n",
       "      <th>education</th>\n",
       "      <th>self_employed</th>\n",
       "      <th>income_annum</th>\n",
       "      <th>loan_amount</th>\n",
       "      <th>loan_term</th>\n",
       "      <th>cibil_score</th>\n",
       "      <th>residential_assets_value</th>\n",
       "      <th>commercial_assets_value</th>\n",
       "      <th>luxury_assets_value</th>\n",
       "      <th>bank_asset_value</th>\n",
       "      <th>loan_status</th>\n",
       "    </tr>\n",
       "  </thead>\n",
       "  <tbody>\n",
       "    <tr>\n",
       "      <th>0</th>\n",
       "      <td>0</td>\n",
       "      <td>1</td>\n",
       "      <td>2</td>\n",
       "      <td>1</td>\n",
       "      <td>0</td>\n",
       "      <td>96000</td>\n",
       "      <td>299000</td>\n",
       "      <td>12</td>\n",
       "      <td>778</td>\n",
       "      <td>24000</td>\n",
       "      <td>176000</td>\n",
       "      <td>227000</td>\n",
       "      <td>80000</td>\n",
       "      <td>1</td>\n",
       "    </tr>\n",
       "    <tr>\n",
       "      <th>1</th>\n",
       "      <td>1</td>\n",
       "      <td>2</td>\n",
       "      <td>0</td>\n",
       "      <td>0</td>\n",
       "      <td>1</td>\n",
       "      <td>41000</td>\n",
       "      <td>122000</td>\n",
       "      <td>8</td>\n",
       "      <td>417</td>\n",
       "      <td>27000</td>\n",
       "      <td>22000</td>\n",
       "      <td>88000</td>\n",
       "      <td>33000</td>\n",
       "      <td>0</td>\n",
       "    </tr>\n",
       "    <tr>\n",
       "      <th>2</th>\n",
       "      <td>2</td>\n",
       "      <td>3</td>\n",
       "      <td>3</td>\n",
       "      <td>1</td>\n",
       "      <td>0</td>\n",
       "      <td>91000</td>\n",
       "      <td>297000</td>\n",
       "      <td>20</td>\n",
       "      <td>506</td>\n",
       "      <td>71000</td>\n",
       "      <td>45000</td>\n",
       "      <td>333000</td>\n",
       "      <td>128000</td>\n",
       "      <td>0</td>\n",
       "    </tr>\n",
       "    <tr>\n",
       "      <th>3</th>\n",
       "      <td>3</td>\n",
       "      <td>4</td>\n",
       "      <td>3</td>\n",
       "      <td>1</td>\n",
       "      <td>0</td>\n",
       "      <td>82000</td>\n",
       "      <td>307000</td>\n",
       "      <td>8</td>\n",
       "      <td>467</td>\n",
       "      <td>182000</td>\n",
       "      <td>33000</td>\n",
       "      <td>233000</td>\n",
       "      <td>79000</td>\n",
       "      <td>0</td>\n",
       "    </tr>\n",
       "    <tr>\n",
       "      <th>4</th>\n",
       "      <td>4</td>\n",
       "      <td>5</td>\n",
       "      <td>5</td>\n",
       "      <td>0</td>\n",
       "      <td>1</td>\n",
       "      <td>98000</td>\n",
       "      <td>242000</td>\n",
       "      <td>20</td>\n",
       "      <td>382</td>\n",
       "      <td>124000</td>\n",
       "      <td>82000</td>\n",
       "      <td>294000</td>\n",
       "      <td>50000</td>\n",
       "      <td>0</td>\n",
       "    </tr>\n",
       "  </tbody>\n",
       "</table>\n",
       "</div>"
      ],
      "text/plain": [
       "   Unnamed: 0  loan_id   no_of_dependents   education   self_employed  \\\n",
       "0           0        1                  2           1               0   \n",
       "1           1        2                  0           0               1   \n",
       "2           2        3                  3           1               0   \n",
       "3           3        4                  3           1               0   \n",
       "4           4        5                  5           0               1   \n",
       "\n",
       "    income_annum   loan_amount   loan_term   cibil_score  \\\n",
       "0          96000        299000          12           778   \n",
       "1          41000        122000           8           417   \n",
       "2          91000        297000          20           506   \n",
       "3          82000        307000           8           467   \n",
       "4          98000        242000          20           382   \n",
       "\n",
       "    residential_assets_value   commercial_assets_value   luxury_assets_value  \\\n",
       "0                      24000                    176000                227000   \n",
       "1                      27000                     22000                 88000   \n",
       "2                      71000                     45000                333000   \n",
       "3                     182000                     33000                233000   \n",
       "4                     124000                     82000                294000   \n",
       "\n",
       "    bank_asset_value   loan_status  \n",
       "0              80000             1  \n",
       "1              33000             0  \n",
       "2             128000             0  \n",
       "3              79000             0  \n",
       "4              50000             0  "
      ]
     },
     "execution_count": 29,
     "metadata": {},
     "output_type": "execute_result"
    }
   ],
   "source": [
    "data_df.head()"
   ]
  },
  {
   "cell_type": "code",
   "execution_count": 30,
   "metadata": {},
   "outputs": [],
   "source": [
    "# Separate the features, X, from the target variable, y\n",
    "y = data_df[' loan_status']\n",
    "X = data_df.drop(columns=' loan_status')"
   ]
  },
  {
   "cell_type": "code",
   "execution_count": 31,
   "metadata": {},
   "outputs": [],
   "source": [
    "#drop the 'Unnamed: 0' and 'loan_id' columns\n",
    "X = X.drop(columns=['Unnamed: 0', 'loan_id'])"
   ]
  },
  {
   "cell_type": "code",
   "execution_count": 32,
   "metadata": {},
   "outputs": [
    {
     "name": "stdout",
     "output_type": "stream",
     "text": [
      "    no_of_dependents   education   self_employed   income_annum   loan_amount  \\\n",
      "0                  2           1               0          96000        299000   \n",
      "1                  0           0               1          41000        122000   \n",
      "2                  3           1               0          91000        297000   \n",
      "3                  3           1               0          82000        307000   \n",
      "4                  5           0               1          98000        242000   \n",
      "\n",
      "    loan_term   cibil_score   residential_assets_value  \\\n",
      "0          12           778                      24000   \n",
      "1           8           417                      27000   \n",
      "2          20           506                      71000   \n",
      "3           8           467                     182000   \n",
      "4          20           382                     124000   \n",
      "\n",
      "    commercial_assets_value   luxury_assets_value   bank_asset_value  \n",
      "0                    176000                227000              80000  \n",
      "1                     22000                 88000              33000  \n",
      "2                     45000                333000             128000  \n",
      "3                     33000                233000              79000  \n",
      "4                     82000                294000              50000  \n",
      "0    1\n",
      "1    0\n",
      "2    0\n",
      "3    0\n",
      "4    0\n",
      "Name:  loan_status, dtype: int64\n"
     ]
    }
   ],
   "source": [
    "print(X.head())\n",
    "print(y.head())"
   ]
  },
  {
   "cell_type": "code",
   "execution_count": 33,
   "metadata": {},
   "outputs": [],
   "source": [
    "# Splitting into Train and Test sets\n",
    "X_train, X_test, y_train, y_test = train_test_split(X, y, random_state=78)\n",
    "\n",
    "# Creating StandardScaler instance\n",
    "scaler = StandardScaler()\n",
    "\n",
    "# Fitting Standard Scaller\n",
    "X_scaler = scaler.fit(X_train)\n",
    "\n",
    "# Scaling data\n",
    "X_train_scaled = X_scaler.transform(X_train)\n",
    "X_test_scaled = X_scaler.transform(X_test)"
   ]
  },
  {
   "cell_type": "code",
   "execution_count": 34,
   "metadata": {},
   "outputs": [],
   "source": [
    "## Fitting the Random Forest Model\n",
    "# Create a random forest classifier\n",
    "rf_model = RandomForestClassifier(n_estimators=500, random_state=78)\n",
    "\n",
    "# Fitting the model\n",
    "rf_model = rf_model.fit(X_train_scaled, y_train)"
   ]
  },
  {
   "cell_type": "code",
   "execution_count": 35,
   "metadata": {},
   "outputs": [],
   "source": [
    "## Making Predictions Using the Random Forest Model\n",
    "# Making predictions using the testing data\n",
    "predictions = rf_model.predict(X_test_scaled)"
   ]
  },
  {
   "cell_type": "code",
   "execution_count": 36,
   "metadata": {},
   "outputs": [],
   "source": [
    "## Model Evaluation\n",
    "# Calculating the confusion matrix\n",
    "cm = confusion_matrix(y_test, predictions)\n",
    "cm_df = pd.DataFrame(\n",
    "    cm, index=[\"Actual Rejected\", \"Actual Approved\"], columns=[\"Predicted Rejected\", \"Predicted Approved\"]\n",
    ")\n",
    "# Calculating the accuracy score\n",
    "acc_score = accuracy_score(y_test, predictions)"
   ]
  },
  {
   "cell_type": "code",
   "execution_count": 37,
   "metadata": {},
   "outputs": [
    {
     "name": "stdout",
     "output_type": "stream",
     "text": [
      "Confusion Matrix\n"
     ]
    },
    {
     "data": {
      "text/html": [
       "<div>\n",
       "<style scoped>\n",
       "    .dataframe tbody tr th:only-of-type {\n",
       "        vertical-align: middle;\n",
       "    }\n",
       "\n",
       "    .dataframe tbody tr th {\n",
       "        vertical-align: top;\n",
       "    }\n",
       "\n",
       "    .dataframe thead th {\n",
       "        text-align: right;\n",
       "    }\n",
       "</style>\n",
       "<table border=\"1\" class=\"dataframe\">\n",
       "  <thead>\n",
       "    <tr style=\"text-align: right;\">\n",
       "      <th></th>\n",
       "      <th>Predicted Rejected</th>\n",
       "      <th>Predicted Approved</th>\n",
       "    </tr>\n",
       "  </thead>\n",
       "  <tbody>\n",
       "    <tr>\n",
       "      <th>Actual Rejected</th>\n",
       "      <td>402</td>\n",
       "      <td>15</td>\n",
       "    </tr>\n",
       "    <tr>\n",
       "      <th>Actual Approved</th>\n",
       "      <td>11</td>\n",
       "      <td>640</td>\n",
       "    </tr>\n",
       "  </tbody>\n",
       "</table>\n",
       "</div>"
      ],
      "text/plain": [
       "                 Predicted Rejected  Predicted Approved\n",
       "Actual Rejected                 402                  15\n",
       "Actual Approved                  11                 640"
      ]
     },
     "metadata": {},
     "output_type": "display_data"
    },
    {
     "name": "stdout",
     "output_type": "stream",
     "text": [
      "Accuracy Score : 0.9756554307116105\n",
      "Classification Report\n",
      "              precision    recall  f1-score   support\n",
      "\n",
      "           0       0.97      0.96      0.97       417\n",
      "           1       0.98      0.98      0.98       651\n",
      "\n",
      "    accuracy                           0.98      1068\n",
      "   macro avg       0.98      0.97      0.97      1068\n",
      "weighted avg       0.98      0.98      0.98      1068\n",
      "\n"
     ]
    }
   ],
   "source": [
    "# Displaying results\n",
    "print(\"Confusion Matrix\")\n",
    "display(cm_df)\n",
    "print(f\"Accuracy Score : {acc_score}\")\n",
    "print(\"Classification Report\")\n",
    "print(classification_report(y_test, predictions))"
   ]
  },
  {
   "cell_type": "code",
   "execution_count": 38,
   "metadata": {},
   "outputs": [],
   "source": [
    "# Convert confusion matrix into a DataFrame\n",
    "# confusion_df = pd.DataFrame(\n",
    "#     [[640, 11], [17, 400]], \n",
    "#     index=[\"Actual Rejected\", \"Actual Approved\"], \n",
    "#     columns=[\"Predicted Rejected\", \"Predicted Approved\"]\n",
    "# )\n",
    "\n",
    "# Save confusion matrix to CSV\n",
    "cm_df.to_csv(\"confusion_matrix.csv\")"
   ]
  },
  {
   "cell_type": "code",
   "execution_count": 42,
   "metadata": {},
   "outputs": [],
   "source": [
    "# Convert classification report into a dictionary (update below values to be populated automatically)\n",
    "from sklearn.metrics import classification_report\n",
    "\n",
    "# y_true = [\"Rejected\"]*640 + [\"Approved\"]*11 + [\"Rejected\"]*17 + [\"Approved\"]*400\n",
    "# y_pred = [\"Rejected\"]*651 + [\"Approved\"]*417\n",
    "\n",
    "report_dict = classification_report(y_test, predictions, output_dict=True)\n",
    "\n",
    "# Convert dictionary into a DataFrame\n",
    "report_df = pd.DataFrame(report_dict).transpose()\n",
    "\n",
    "# Save classification report to CSV\n",
    "report_df.to_csv(\"classification_report.csv\")"
   ]
  },
  {
   "cell_type": "code",
   "execution_count": 38,
   "metadata": {},
   "outputs": [],
   "source": [
    "# # Confusion Matrix Data\n",
    "# conf_matrix = [[640, 11], [17, 400]]\n",
    "\n",
    "# # Create a DataFrame from the confusion matrix\n",
    "# conf_matrix_df = pd.DataFrame(\n",
    "#     conf_matrix, \n",
    "#     index=[\"Actual Rejected\", \"Actual Approved\"], \n",
    "#     columns=[\"Predicted Rejected\", \"Predicted Approved\"]\n",
    "# )"
   ]
  },
  {
   "cell_type": "code",
   "execution_count": 39,
   "metadata": {},
   "outputs": [
    {
     "data": {
      "image/png": "[encoded data removed]",
      "text/plain": [
       "<Figure size 800x600 with 2 Axes>"
      ]
     },
     "metadata": {},
     "output_type": "display_data"
    }
   ],
   "source": [
    "# Plot the heatmap\n",
    "plt.figure(figsize=(8, 6))\n",
    "sns.heatmap(cm_df, annot=True, cmap='YlGnBu', fmt=\"g\")\n",
    "plt.title(\"Confusion Matrix\")\n",
    "plt.show()"
   ]
  },
  {
   "cell_type": "code",
   "execution_count": 44,
   "metadata": {},
   "outputs": [
    {
     "name": "stdout",
     "output_type": "stream",
     "text": [
      "[(0.8105972337484784, ' cibil_score'), (0.06380439360435389, ' loan_term'), (0.02922552196059581, ' loan_amount'), (0.01925086721078427, ' income_annum'), (0.01717029555286379, ' luxury_assets_value'), (0.0167826348916061, ' residential_assets_value'), (0.015863588059832238, ' commercial_assets_value'), (0.015053351824100794, ' bank_asset_value'), (0.007817679164149145, ' no_of_dependents'), (0.0024309607999167624, ' self_employed'), (0.0020034731833188436, ' education')]\n"
     ]
    }
   ],
   "source": [
    "## Feature Importance\n",
    "# Random Forests in sklearn will automatically calculate feature importance\n",
    "importances = rf_model.feature_importances_\n",
    "\n",
    "# We can sort the features by their importance\n",
    "sorted_importances = sorted(zip(rf_model.feature_importances_, X.columns), reverse=True)\n",
    "print(sorted_importances)"
   ]
  },
  {
   "cell_type": "code",
   "execution_count": 45,
   "metadata": {},
   "outputs": [
    {
     "data": {
      "image/png": "[encoded data removed]",
      "text/plain": [
       "<Figure size 640x480 with 1 Axes>"
      ]
     },
     "metadata": {},
     "output_type": "display_data"
    }
   ],
   "source": [
    "# Visualize the features by importance\n",
    "importances_df = pd.DataFrame(sorted_importances)\n",
    "importances_df.set_index(importances_df[1], inplace=True)\n",
    "importances_df.drop(columns=1, inplace=True)\n",
    "importances_df.rename(columns={0: 'Feature Importances'}, inplace=True)\n",
    "importances_sorted = importances_df.sort_values(by='Feature Importances')\n",
    "importances_sorted.plot(kind='barh', color='lightgreen', title='Features Importances', legend=False)\n",
    "plt.show()\n"
   ]
  },
  {
   "cell_type": "code",
   "execution_count": 46,
   "metadata": {},
   "outputs": [],
   "source": [
    "# Convert sorted importances to a DataFrame\n",
    "importances_df = pd.DataFrame(sorted_importances, columns=['Importance', 'Feature'])\n",
    "\n",
    "# Save the DataFrame to a CSV\n",
    "importances_sorted.to_csv('feature_importances.csv')"
   ]
  }
 ],
 "metadata": {
  "kernelspec": {
   "display_name": "dev",
   "language": "python",
   "name": "python3"
  },
  "language_info": {
   "codemirror_mode": {
    "name": "ipython",
    "version": 3
   },
   "file_extension": ".py",
   "mimetype": "text/x-python",
   "name": "python",
   "nbconvert_exporter": "python",
   "pygments_lexer": "ipython3",
   "version": "3.10.11"
  },
  "orig_nbformat": 4
 },
 "nbformat": 4,
 "nbformat_minor": 2
}
