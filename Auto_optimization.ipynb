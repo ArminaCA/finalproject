{
 "cells": [
  {
   "cell_type": "code",
   "execution_count": 9,
   "metadata": {},
   "outputs": [
    {
     "name": "stdout",
     "output_type": "stream",
     "text": [
      "Using TensorFlow backend\n"
     ]
    }
   ],
   "source": [
    "# Import necessary libraries\n",
    "import pandas as pd\n",
    "from sklearn.model_selection import train_test_split\n",
    "from sklearn.preprocessing import StandardScaler, LabelEncoder\n",
    "import tensorflow as tf\n",
    "import keras_tuner as kt\n",
    "import matplotlib.pyplot as plt\n"
   ]
  },
  {
   "cell_type": "code",
   "execution_count": 10,
   "metadata": {},
   "outputs": [
    {
     "data": {
      "text/html": [
       "<div>\n",
       "<style scoped>\n",
       "    .dataframe tbody tr th:only-of-type {\n",
       "        vertical-align: middle;\n",
       "    }\n",
       "\n",
       "    .dataframe tbody tr th {\n",
       "        vertical-align: top;\n",
       "    }\n",
       "\n",
       "    .dataframe thead th {\n",
       "        text-align: right;\n",
       "    }\n",
       "</style>\n",
       "<table border=\"1\" class=\"dataframe\">\n",
       "  <thead>\n",
       "    <tr style=\"text-align: right;\">\n",
       "      <th></th>\n",
       "      <th>Unnamed: 0</th>\n",
       "      <th>loan_id</th>\n",
       "      <th>no_of_dependents</th>\n",
       "      <th>education</th>\n",
       "      <th>self_employed</th>\n",
       "      <th>income_annum</th>\n",
       "      <th>loan_amount</th>\n",
       "      <th>loan_term</th>\n",
       "      <th>cibil_score</th>\n",
       "      <th>residential_assets_value</th>\n",
       "      <th>commercial_assets_value</th>\n",
       "      <th>luxury_assets_value</th>\n",
       "      <th>bank_asset_value</th>\n",
       "      <th>loan_status</th>\n",
       "    </tr>\n",
       "  </thead>\n",
       "  <tbody>\n",
       "    <tr>\n",
       "      <th>0</th>\n",
       "      <td>0</td>\n",
       "      <td>1</td>\n",
       "      <td>2</td>\n",
       "      <td>Graduate</td>\n",
       "      <td>No</td>\n",
       "      <td>96000</td>\n",
       "      <td>299000</td>\n",
       "      <td>12</td>\n",
       "      <td>778</td>\n",
       "      <td>24000</td>\n",
       "      <td>176000</td>\n",
       "      <td>227000</td>\n",
       "      <td>80000</td>\n",
       "      <td>Approved</td>\n",
       "    </tr>\n",
       "    <tr>\n",
       "      <th>1</th>\n",
       "      <td>1</td>\n",
       "      <td>2</td>\n",
       "      <td>0</td>\n",
       "      <td>Not Graduate</td>\n",
       "      <td>Yes</td>\n",
       "      <td>41000</td>\n",
       "      <td>122000</td>\n",
       "      <td>8</td>\n",
       "      <td>417</td>\n",
       "      <td>27000</td>\n",
       "      <td>22000</td>\n",
       "      <td>88000</td>\n",
       "      <td>33000</td>\n",
       "      <td>Rejected</td>\n",
       "    </tr>\n",
       "    <tr>\n",
       "      <th>2</th>\n",
       "      <td>2</td>\n",
       "      <td>3</td>\n",
       "      <td>3</td>\n",
       "      <td>Graduate</td>\n",
       "      <td>No</td>\n",
       "      <td>91000</td>\n",
       "      <td>297000</td>\n",
       "      <td>20</td>\n",
       "      <td>506</td>\n",
       "      <td>71000</td>\n",
       "      <td>45000</td>\n",
       "      <td>333000</td>\n",
       "      <td>128000</td>\n",
       "      <td>Rejected</td>\n",
       "    </tr>\n",
       "    <tr>\n",
       "      <th>3</th>\n",
       "      <td>3</td>\n",
       "      <td>4</td>\n",
       "      <td>3</td>\n",
       "      <td>Graduate</td>\n",
       "      <td>No</td>\n",
       "      <td>82000</td>\n",
       "      <td>307000</td>\n",
       "      <td>8</td>\n",
       "      <td>467</td>\n",
       "      <td>182000</td>\n",
       "      <td>33000</td>\n",
       "      <td>233000</td>\n",
       "      <td>79000</td>\n",
       "      <td>Rejected</td>\n",
       "    </tr>\n",
       "    <tr>\n",
       "      <th>4</th>\n",
       "      <td>4</td>\n",
       "      <td>5</td>\n",
       "      <td>5</td>\n",
       "      <td>Not Graduate</td>\n",
       "      <td>Yes</td>\n",
       "      <td>98000</td>\n",
       "      <td>242000</td>\n",
       "      <td>20</td>\n",
       "      <td>382</td>\n",
       "      <td>124000</td>\n",
       "      <td>82000</td>\n",
       "      <td>294000</td>\n",
       "      <td>50000</td>\n",
       "      <td>Rejected</td>\n",
       "    </tr>\n",
       "  </tbody>\n",
       "</table>\n",
       "</div>"
      ],
      "text/plain": [
       "   Unnamed: 0  loan_id   no_of_dependents      education  self_employed  \\\n",
       "0           0        1                  2       Graduate             No   \n",
       "1           1        2                  0   Not Graduate            Yes   \n",
       "2           2        3                  3       Graduate             No   \n",
       "3           3        4                  3       Graduate             No   \n",
       "4           4        5                  5   Not Graduate            Yes   \n",
       "\n",
       "    income_annum   loan_amount   loan_term   cibil_score  \\\n",
       "0          96000        299000          12           778   \n",
       "1          41000        122000           8           417   \n",
       "2          91000        297000          20           506   \n",
       "3          82000        307000           8           467   \n",
       "4          98000        242000          20           382   \n",
       "\n",
       "    residential_assets_value   commercial_assets_value   luxury_assets_value  \\\n",
       "0                      24000                    176000                227000   \n",
       "1                      27000                     22000                 88000   \n",
       "2                      71000                     45000                333000   \n",
       "3                     182000                     33000                233000   \n",
       "4                     124000                     82000                294000   \n",
       "\n",
       "    bank_asset_value  loan_status  \n",
       "0              80000     Approved  \n",
       "1              33000     Rejected  \n",
       "2             128000     Rejected  \n",
       "3              79000     Rejected  \n",
       "4              50000     Rejected  "
      ]
     },
     "execution_count": 10,
     "metadata": {},
     "output_type": "execute_result"
    }
   ],
   "source": [
    "# Load the data\n",
    "loan_data_df = pd.read_csv(\"./Resources/loan_data_cleaned.csv\")\n",
    "loan_data_df.head()"
   ]
  },
  {
   "cell_type": "code",
   "execution_count": 11,
   "metadata": {},
   "outputs": [],
   "source": [
    "# Convert categorical variables to numeric\n",
    "loan_data_df = pd.get_dummies(loan_data_df, columns=[' education', ' self_employed'])\n"
   ]
  },
  {
   "cell_type": "code",
   "execution_count": 5,
   "metadata": {},
   "outputs": [],
   "source": [
    "import shutil\n",
    "shutil.rmtree('hyperband/', ignore_errors=True)"
   ]
  },
  {
   "cell_type": "code",
   "execution_count": 6,
   "metadata": {},
   "outputs": [],
   "source": [
    "# Split data into features and target\n",
    "X = loan_data_df.drop(\" loan_status\", axis=1)\n",
    "y = LabelEncoder().fit_transform(loan_data_df[\" loan_status\"])\n",
    "\n",
    "# Split data into train and test sets\n",
    "X_train, X_test, y_train, y_test = train_test_split(X, y, test_size=0.25, random_state=42)\n",
    "\n",
    "# Scale the data\n",
    "scaler = StandardScaler()\n",
    "X_train_scaled = scaler.fit_transform(X_train)\n",
    "X_test_scaled = scaler.transform(X_test)"
   ]
  },
  {
   "cell_type": "code",
   "execution_count": 7,
   "metadata": {},
   "outputs": [
    {
     "name": "stdout",
     "output_type": "stream",
     "text": [
      "Trial 180 Complete [00h 00m 06s]\n",
      "val_accuracy: 0.9616104960441589\n",
      "\n",
      "Best val_accuracy So Far: 0.9719101190567017\n",
      "Total elapsed time: 00h 06m 43s\n",
      "{'activation': 'tanh', 'input_units': 30, 'num_layers': 4, 'layer_0_units': 30, 'layer_1_units': 10, 'layer_2_units': 20, 'layer_3_units': 20, 'layer_4_units': 15, 'layer_5_units': 15, 'tuner/epochs': 30, 'tuner/initial_epoch': 10, 'tuner/bracket': 2, 'tuner/round': 2, 'tuner/trial_id': '0069'}\n"
     ]
    }
   ],
   "source": [
    "# Define the model creation function for Keras Tuner\n",
    "def create_model(hp):\n",
    "    model = tf.keras.models.Sequential()\n",
    "    activation = hp.Choice('activation', ['relu', 'tanh', 'sigmoid'])\n",
    "\n",
    "    # Input layer\n",
    "    model.add(tf.keras.layers.Dense(units=hp.Int('input_units', min_value=10, max_value=30, step=5), activation=activation, input_dim=X_train_scaled.shape[1]))\n",
    "\n",
    "    # Hidden layers\n",
    "    for i in range(hp.Int('num_layers', 1, 6)):\n",
    "        model.add(tf.keras.layers.Dense(units=hp.Int(f'layer_{i}_units', min_value=10, max_value=30, step=5), activation=activation))\n",
    "\n",
    "    # Output layer\n",
    "    model.add(tf.keras.layers.Dense(units=1, activation=\"sigmoid\"))\n",
    "    \n",
    "    # Compile the model\n",
    "    model.compile(optimizer='adam', loss=\"binary_crossentropy\", metrics=[\"accuracy\"])\n",
    "    return model\n",
    "\n",
    "# Initialize Keras Tuner's Hyperband hypermodel\n",
    "tuner = kt.Hyperband(create_model, objective='val_accuracy', max_epochs=30, hyperband_iterations=2, directory='hyperband', project_name='loan_approval')\n",
    "\n",
    "# Create an EarlyStopping callback\n",
    "early_stopping = tf.keras.callbacks.EarlyStopping(monitor='val_loss', patience=5, restore_best_weights=True)\n",
    "\n",
    "# Search for the best hyperparameters with early stopping\n",
    "tuner.search(X_train_scaled, y_train, epochs=30, validation_data=(X_test_scaled, y_test), callbacks=[early_stopping])\n",
    "\n",
    "# Get and print the best hyperparameters\n",
    "best_hyperparameters = tuner.get_best_hyperparameters(1)[0]\n",
    "print(best_hyperparameters.values)\n",
    "\n"
   ]
  },
  {
   "cell_type": "code",
   "execution_count": 8,
   "metadata": {},
   "outputs": [
    {
     "name": "stdout",
     "output_type": "stream",
     "text": [
      "Model: \"sequential\"\n",
      "_________________________________________________________________\n",
      " Layer (type)                Output Shape              Param #   \n",
      "=================================================================\n",
      " dense (Dense)               (None, 30)                480       \n",
      "                                                                 \n",
      " dense_1 (Dense)             (None, 30)                930       \n",
      "                                                                 \n",
      " dense_2 (Dense)             (None, 10)                310       \n",
      "                                                                 \n",
      " dense_3 (Dense)             (None, 20)                220       \n",
      "                                                                 \n",
      " dense_4 (Dense)             (None, 20)                420       \n",
      "                                                                 \n",
      " dense_5 (Dense)             (None, 1)                 21        \n",
      "                                                                 \n",
      "=================================================================\n",
      "Total params: 2381 (9.30 KB)\n",
      "Trainable params: 2381 (9.30 KB)\n",
      "Non-trainable params: 0 (0.00 Byte)\n",
      "_________________________________________________________________\n"
     ]
    }
   ],
   "source": [
    "# Get the best model\n",
    "best_model = tuner.get_best_models(1)[0]\n",
    "\n",
    "# Print the architecture summary of the best model\n",
    "best_model.summary()"
   ]
  },
  {
   "cell_type": "code",
   "execution_count": 8,
   "metadata": {},
   "outputs": [
    {
     "data": {
      "image/png": "[encoded data removed]",
      "text/plain": [
       "<Figure size 1000x600 with 1 Axes>"
      ]
     },
     "metadata": {},
     "output_type": "display_data"
    },
    {
     "data": {
      "image/png": "[encoded data removed]",
      "text/plain": [
       "<Figure size 1200x700 with 1 Axes>"
      ]
     },
     "metadata": {},
     "output_type": "display_data"
    }
   ],
   "source": [
    "import matplotlib.pyplot as plt\n",
    "import pandas as pd\n",
    "\n",
    "# Comparison of Validation Accuracy\n",
    "accuracy_values = [0.9588015079498291, 0.9728464484214783]\n",
    "accuracy_labels = ['Current val_accuracy', 'Best val_accuracy So Far']\n",
    "\n",
    "plt.figure(figsize=(10, 6))\n",
    "plt.bar(accuracy_labels, accuracy_values, color=['blue', 'green'])\n",
    "plt.ylim([0.9, 1])\n",
    "plt.title('Validation Accuracy Comparison')\n",
    "plt.ylabel('Accuracy')\n",
    "for i, v in enumerate(accuracy_values):\n",
    "    plt.text(i, v + 0.01, f\"{v:.4f}\", ha='center', va='bottom', fontsize=10)\n",
    "plt.show()\n",
    "\n",
    "# Number of Units in Each Layer\n",
    "layer_labels = ['layer_0_units', 'layer_1_units', 'layer_2_units', 'layer_3_units', 'layer_4_units', 'layer_5_units']\n",
    "layer_values = [30, 25, 20, 15, 15, 25]\n",
    "\n",
    "plt.figure(figsize=(12, 7))\n",
    "plt.bar(layer_labels, layer_values, color=['purple', 'red', 'yellow', 'blue', 'green', 'orange'])\n",
    "plt.title('Number of Units in Each Layer')\n",
    "plt.ylabel('Number of Units')\n",
    "for i, v in enumerate(layer_values):\n",
    "    plt.text(i, v + 0.5, f\"{v}\", ha='center', va='bottom', fontsize=10)\n",
    "plt.show()\n",
    "\n",
    "\n",
    "# Save Comparison of Validation Accuracy to CSV\n",
    "accuracy_df = pd.DataFrame({\n",
    "    'Metric': accuracy_labels,\n",
    "    'Value': accuracy_values\n",
    "})\n",
    "\n",
    "accuracy_df.to_csv('validation_accuracy_comparison.csv', index=False)\n",
    "\n",
    "# Save Number of Units in Each Layer to CSV\n",
    "layers_df = pd.DataFrame({\n",
    "    'Layer': layer_labels,\n",
    "    'Units': layer_values\n",
    "})\n",
    "\n",
    "layers_df.to_csv('layer_units_distribution.csv', index=False)"
   ]
  },
  {
   "cell_type": "code",
   "execution_count": 12,
   "metadata": {},
   "outputs": [
    {
     "name": "stdout",
     "output_type": "stream",
     "text": [
      "34/34 [==============================] - 0s 922us/step - loss: 0.0743 - accuracy: 0.9719\n",
      "Best Model Performance on Test Data: Loss = 0.07433944940567017, Accuracy = 0.9719101190567017\n"
     ]
    }
   ],
   "source": [
    "# Evaluate the best model on test data\n",
    "best_model = tuner.get_best_models(1)[0]\n",
    "loss, accuracy = best_model.evaluate(X_test_scaled, y_test)\n",
    "print(f\"Best Model Performance on Test Data: Loss = {loss}, Accuracy = {accuracy}\")\n"
   ]
  },
  {
   "cell_type": "code",
   "execution_count": 4,
   "metadata": {},
   "outputs": [
    {
     "data": {
      "image/png": "[encoded data removed]",
      "text/plain": [
       "<Figure size 1000x600 with 1 Axes>"
      ]
     },
     "metadata": {},
     "output_type": "display_data"
    }
   ],
   "source": [
    "import pandas as pd\n",
    "import matplotlib.pyplot as plt\n",
    "\n",
    "# Values from the evaluation\n",
    "metrics = ['Loss', 'Accuracy']\n",
    "values = [0.08791938424110413, 0.9728464484214783]\n",
    "\n",
    "# Convert the metrics and values to a DataFrame\n",
    "df = pd.DataFrame({\n",
    "    'Metric': metrics,\n",
    "    'Value': values\n",
    "})\n",
    "\n",
    "# Save the DataFrame to a CSV\n",
    "df.to_csv('Optimization_metrics.csv', index=False)\n",
    "\n",
    "# Plotting\n",
    "plt.figure(figsize=(10, 6))\n",
    "plt.bar(metrics, values, color=['blue', 'green'])\n",
    "plt.ylim([0, 1])\n",
    "plt.title('Best Model Performance on Test Data')\n",
    "plt.ylabel('Value')\n",
    "for i, v in enumerate(values):\n",
    "    plt.text(i, v + 0.01, f\"{v:.4f}\", ha='center', va='bottom', fontsize=10)\n",
    "plt.show()"
   ]
  }
 ],
 "metadata": {
  "kernelspec": {
   "display_name": "dev",
   "language": "python",
   "name": "python3"
  },
  "language_info": {
   "codemirror_mode": {
    "name": "ipython",
    "version": 3
   },
   "file_extension": ".py",
   "mimetype": "text/x-python",
   "name": "python",
   "nbconvert_exporter": "python",
   "pygments_lexer": "ipython3",
   "version": "3.10.12"
  }
 },
 "nbformat": 4,
 "nbformat_minor": 2
}
