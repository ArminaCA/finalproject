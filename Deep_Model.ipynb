{
 "cells": [
  {
   "cell_type": "code",
   "execution_count": 2,
   "metadata": {},
   "outputs": [],
   "source": [
    "# Import our dependencies\n",
    "import pandas as pd\n",
    "import numpy as np\n",
    "import matplotlib.pyplot as plt\n",
    "from sklearn.model_selection import train_test_split\n",
    "from sklearn.preprocessing import StandardScaler, LabelEncoder\n",
    "\n",
    "import tensorflow as tf\n",
    "from tensorflow.keras.models import Sequential\n",
    "from tensorflow.keras.layers import Dense, LeakyReLU\n",
    "from tensorflow.keras.regularizers import l2\n",
    "from tensorflow.keras.optimizers import Adam\n",
    "from tensorflow.keras.callbacks import EarlyStopping\n"
   ]
  },
  {
   "cell_type": "code",
   "execution_count": 4,
   "metadata": {},
   "outputs": [
    {
     "data": {
      "text/html": [
       "<div>\n",
       "<style scoped>\n",
       "    .dataframe tbody tr th:only-of-type {\n",
       "        vertical-align: middle;\n",
       "    }\n",
       "\n",
       "    .dataframe tbody tr th {\n",
       "        vertical-align: top;\n",
       "    }\n",
       "\n",
       "    .dataframe thead th {\n",
       "        text-align: right;\n",
       "    }\n",
       "</style>\n",
       "<table border=\"1\" class=\"dataframe\">\n",
       "  <thead>\n",
       "    <tr style=\"text-align: right;\">\n",
       "      <th></th>\n",
       "      <th>Unnamed: 0</th>\n",
       "      <th>loan_id</th>\n",
       "      <th>no_of_dependents</th>\n",
       "      <th>education</th>\n",
       "      <th>self_employed</th>\n",
       "      <th>income_annum</th>\n",
       "      <th>loan_amount</th>\n",
       "      <th>loan_term</th>\n",
       "      <th>cibil_score</th>\n",
       "      <th>residential_assets_value</th>\n",
       "      <th>commercial_assets_value</th>\n",
       "      <th>luxury_assets_value</th>\n",
       "      <th>bank_asset_value</th>\n",
       "      <th>loan_status</th>\n",
       "    </tr>\n",
       "  </thead>\n",
       "  <tbody>\n",
       "    <tr>\n",
       "      <th>0</th>\n",
       "      <td>0</td>\n",
       "      <td>1</td>\n",
       "      <td>2</td>\n",
       "      <td>Graduate</td>\n",
       "      <td>No</td>\n",
       "      <td>96000</td>\n",
       "      <td>299000</td>\n",
       "      <td>12</td>\n",
       "      <td>778</td>\n",
       "      <td>24000</td>\n",
       "      <td>176000</td>\n",
       "      <td>227000</td>\n",
       "      <td>80000</td>\n",
       "      <td>Approved</td>\n",
       "    </tr>\n",
       "    <tr>\n",
       "      <th>1</th>\n",
       "      <td>1</td>\n",
       "      <td>2</td>\n",
       "      <td>0</td>\n",
       "      <td>Not Graduate</td>\n",
       "      <td>Yes</td>\n",
       "      <td>41000</td>\n",
       "      <td>122000</td>\n",
       "      <td>8</td>\n",
       "      <td>417</td>\n",
       "      <td>27000</td>\n",
       "      <td>22000</td>\n",
       "      <td>88000</td>\n",
       "      <td>33000</td>\n",
       "      <td>Rejected</td>\n",
       "    </tr>\n",
       "    <tr>\n",
       "      <th>2</th>\n",
       "      <td>2</td>\n",
       "      <td>3</td>\n",
       "      <td>3</td>\n",
       "      <td>Graduate</td>\n",
       "      <td>No</td>\n",
       "      <td>91000</td>\n",
       "      <td>297000</td>\n",
       "      <td>20</td>\n",
       "      <td>506</td>\n",
       "      <td>71000</td>\n",
       "      <td>45000</td>\n",
       "      <td>333000</td>\n",
       "      <td>128000</td>\n",
       "      <td>Rejected</td>\n",
       "    </tr>\n",
       "    <tr>\n",
       "      <th>3</th>\n",
       "      <td>3</td>\n",
       "      <td>4</td>\n",
       "      <td>3</td>\n",
       "      <td>Graduate</td>\n",
       "      <td>No</td>\n",
       "      <td>82000</td>\n",
       "      <td>307000</td>\n",
       "      <td>8</td>\n",
       "      <td>467</td>\n",
       "      <td>182000</td>\n",
       "      <td>33000</td>\n",
       "      <td>233000</td>\n",
       "      <td>79000</td>\n",
       "      <td>Rejected</td>\n",
       "    </tr>\n",
       "    <tr>\n",
       "      <th>4</th>\n",
       "      <td>4</td>\n",
       "      <td>5</td>\n",
       "      <td>5</td>\n",
       "      <td>Not Graduate</td>\n",
       "      <td>Yes</td>\n",
       "      <td>98000</td>\n",
       "      <td>242000</td>\n",
       "      <td>20</td>\n",
       "      <td>382</td>\n",
       "      <td>124000</td>\n",
       "      <td>82000</td>\n",
       "      <td>294000</td>\n",
       "      <td>50000</td>\n",
       "      <td>Rejected</td>\n",
       "    </tr>\n",
       "  </tbody>\n",
       "</table>\n",
       "</div>"
      ],
      "text/plain": [
       "   Unnamed: 0  loan_id   no_of_dependents      education  self_employed  \\\n",
       "0           0        1                  2       Graduate             No   \n",
       "1           1        2                  0   Not Graduate            Yes   \n",
       "2           2        3                  3       Graduate             No   \n",
       "3           3        4                  3       Graduate             No   \n",
       "4           4        5                  5   Not Graduate            Yes   \n",
       "\n",
       "    income_annum   loan_amount   loan_term   cibil_score  \\\n",
       "0          96000        299000          12           778   \n",
       "1          41000        122000           8           417   \n",
       "2          91000        297000          20           506   \n",
       "3          82000        307000           8           467   \n",
       "4          98000        242000          20           382   \n",
       "\n",
       "    residential_assets_value   commercial_assets_value   luxury_assets_value  \\\n",
       "0                      24000                    176000                227000   \n",
       "1                      27000                     22000                 88000   \n",
       "2                      71000                     45000                333000   \n",
       "3                     182000                     33000                233000   \n",
       "4                     124000                     82000                294000   \n",
       "\n",
       "    bank_asset_value  loan_status  \n",
       "0              80000     Approved  \n",
       "1              33000     Rejected  \n",
       "2             128000     Rejected  \n",
       "3              79000     Rejected  \n",
       "4              50000     Rejected  "
      ]
     },
     "execution_count": 4,
     "metadata": {},
     "output_type": "execute_result"
    }
   ],
   "source": [
    "# Import and read the loan_data_cleaned.csv.\n",
    "loan_data_df = pd.read_csv(\"./Resources/loan_data_cleaned.csv\")  \n",
    "loan_data_df.head()\n"
   ]
  },
  {
   "cell_type": "code",
   "execution_count": 16,
   "metadata": {},
   "outputs": [
    {
     "name": "stderr",
     "output_type": "stream",
     "text": [
      "C:\\Users\\NCout\\AppData\\Local\\Temp\\ipykernel_11432\\3317597038.py:5: FutureWarning: The default value of numeric_only in DataFrame.mean is deprecated. In a future version, it will default to False. In addition, specifying 'numeric_only=None' is deprecated. Select only valid columns or specify the value of numeric_only to silence this warning.\n",
      "  loan_data_df.fillna(loan_data_df.mean(), inplace=True)\n"
     ]
    }
   ],
   "source": [
    "# Drop loan_id\n",
    "loan_data_df = loan_data_df.drop(\"loan_id\", axis=1)\n",
    "\n",
    "# Handle missing values (if any). \n",
    "loan_data_df.fillna(loan_data_df.mean(), inplace=True)\n"
   ]
  },
  {
   "cell_type": "code",
   "execution_count": 17,
   "metadata": {},
   "outputs": [
    {
     "data": {
      "text/html": [
       "<div>\n",
       "<style scoped>\n",
       "    .dataframe tbody tr th:only-of-type {\n",
       "        vertical-align: middle;\n",
       "    }\n",
       "\n",
       "    .dataframe tbody tr th {\n",
       "        vertical-align: top;\n",
       "    }\n",
       "\n",
       "    .dataframe thead th {\n",
       "        text-align: right;\n",
       "    }\n",
       "</style>\n",
       "<table border=\"1\" class=\"dataframe\">\n",
       "  <thead>\n",
       "    <tr style=\"text-align: right;\">\n",
       "      <th></th>\n",
       "      <th>no_of_dependents</th>\n",
       "      <th>education</th>\n",
       "      <th>self_employed</th>\n",
       "      <th>income_annum</th>\n",
       "      <th>loan_amount</th>\n",
       "      <th>loan_term</th>\n",
       "      <th>cibil_score</th>\n",
       "      <th>residential_assets_value</th>\n",
       "      <th>commercial_assets_value</th>\n",
       "      <th>luxury_assets_value</th>\n",
       "      <th>bank_asset_value</th>\n",
       "      <th>loan_status</th>\n",
       "    </tr>\n",
       "  </thead>\n",
       "  <tbody>\n",
       "    <tr>\n",
       "      <th>0</th>\n",
       "      <td>2</td>\n",
       "      <td>Graduate</td>\n",
       "      <td>No</td>\n",
       "      <td>9600000</td>\n",
       "      <td>29900000</td>\n",
       "      <td>12</td>\n",
       "      <td>778</td>\n",
       "      <td>2400000</td>\n",
       "      <td>17600000</td>\n",
       "      <td>22700000</td>\n",
       "      <td>8000000</td>\n",
       "      <td>Approved</td>\n",
       "    </tr>\n",
       "    <tr>\n",
       "      <th>1</th>\n",
       "      <td>0</td>\n",
       "      <td>Not Graduate</td>\n",
       "      <td>Yes</td>\n",
       "      <td>4100000</td>\n",
       "      <td>12200000</td>\n",
       "      <td>8</td>\n",
       "      <td>417</td>\n",
       "      <td>2700000</td>\n",
       "      <td>2200000</td>\n",
       "      <td>8800000</td>\n",
       "      <td>3300000</td>\n",
       "      <td>Rejected</td>\n",
       "    </tr>\n",
       "    <tr>\n",
       "      <th>2</th>\n",
       "      <td>3</td>\n",
       "      <td>Graduate</td>\n",
       "      <td>No</td>\n",
       "      <td>9100000</td>\n",
       "      <td>29700000</td>\n",
       "      <td>20</td>\n",
       "      <td>506</td>\n",
       "      <td>7100000</td>\n",
       "      <td>4500000</td>\n",
       "      <td>33300000</td>\n",
       "      <td>12800000</td>\n",
       "      <td>Rejected</td>\n",
       "    </tr>\n",
       "    <tr>\n",
       "      <th>3</th>\n",
       "      <td>3</td>\n",
       "      <td>Graduate</td>\n",
       "      <td>No</td>\n",
       "      <td>8200000</td>\n",
       "      <td>30700000</td>\n",
       "      <td>8</td>\n",
       "      <td>467</td>\n",
       "      <td>18200000</td>\n",
       "      <td>3300000</td>\n",
       "      <td>23300000</td>\n",
       "      <td>7900000</td>\n",
       "      <td>Rejected</td>\n",
       "    </tr>\n",
       "    <tr>\n",
       "      <th>4</th>\n",
       "      <td>5</td>\n",
       "      <td>Not Graduate</td>\n",
       "      <td>Yes</td>\n",
       "      <td>9800000</td>\n",
       "      <td>24200000</td>\n",
       "      <td>20</td>\n",
       "      <td>382</td>\n",
       "      <td>12400000</td>\n",
       "      <td>8200000</td>\n",
       "      <td>29400000</td>\n",
       "      <td>5000000</td>\n",
       "      <td>Rejected</td>\n",
       "    </tr>\n",
       "  </tbody>\n",
       "</table>\n",
       "</div>"
      ],
      "text/plain": [
       "    no_of_dependents      education  self_employed   income_annum  \\\n",
       "0                  2       Graduate             No        9600000   \n",
       "1                  0   Not Graduate            Yes        4100000   \n",
       "2                  3       Graduate             No        9100000   \n",
       "3                  3       Graduate             No        8200000   \n",
       "4                  5   Not Graduate            Yes        9800000   \n",
       "\n",
       "    loan_amount   loan_term   cibil_score   residential_assets_value  \\\n",
       "0      29900000          12           778                    2400000   \n",
       "1      12200000           8           417                    2700000   \n",
       "2      29700000          20           506                    7100000   \n",
       "3      30700000           8           467                   18200000   \n",
       "4      24200000          20           382                   12400000   \n",
       "\n",
       "    commercial_assets_value   luxury_assets_value   bank_asset_value  \\\n",
       "0                  17600000              22700000            8000000   \n",
       "1                   2200000               8800000            3300000   \n",
       "2                   4500000              33300000           12800000   \n",
       "3                   3300000              23300000            7900000   \n",
       "4                   8200000              29400000            5000000   \n",
       "\n",
       "   loan_status  \n",
       "0     Approved  \n",
       "1     Rejected  \n",
       "2     Rejected  \n",
       "3     Rejected  \n",
       "4     Rejected  "
      ]
     },
     "execution_count": 17,
     "metadata": {},
     "output_type": "execute_result"
    }
   ],
   "source": [
    "loan_data_df.head()"
   ]
  },
  {
   "cell_type": "code",
   "execution_count": 7,
   "metadata": {},
   "outputs": [
    {
     "name": "stdout",
     "output_type": "stream",
     "text": [
      "Unnamed: 0                   4269\n",
      "loan_id                      4269\n",
      " no_of_dependents               6\n",
      " education                      2\n",
      " self_employed                  2\n",
      " income_annum                  98\n",
      " loan_amount                  378\n",
      " loan_term                     10\n",
      " cibil_score                  601\n",
      " residential_assets_value     278\n",
      " commercial_assets_value      188\n",
      " luxury_assets_value          379\n",
      " bank_asset_value             146\n",
      " loan_status                    2\n",
      "dtype: int64\n"
     ]
    }
   ],
   "source": [
    "unique_counts = loan_data_df.nunique()\n",
    "print(unique_counts)"
   ]
  },
  {
   "cell_type": "code",
   "execution_count": 8,
   "metadata": {},
   "outputs": [
    {
     "name": "stdout",
     "output_type": "stream",
     "text": [
      "count    4269.000000\n",
      "mean        6.353741\n",
      "std         0.306425\n",
      "min         5.707110\n",
      "25%         6.118097\n",
      "50%         6.398595\n",
      "75%         6.618739\n",
      "max         6.803505\n",
      "Name:  cibil_score, dtype: float64\n"
     ]
    }
   ],
   "source": [
    "# Check the distribution\n",
    "print(loan_data_df[' cibil_score'].describe())\n"
   ]
  },
  {
   "cell_type": "code",
   "execution_count": 9,
   "metadata": {},
   "outputs": [],
   "source": [
    "# Outlier Removal: For numerical column cibil_score\n",
    "loan_data_df[' cibil_score'] = np.log(loan_data_df[' cibil_score'] + 1)"
   ]
  },
  {
   "cell_type": "code",
   "execution_count": 10,
   "metadata": {},
   "outputs": [
    {
     "name": "stdout",
     "output_type": "stream",
     "text": [
      "      Unnamed: 0  loan_id   no_of_dependents      education  self_employed  \\\n",
      "0              0        1                  2       Graduate             No   \n",
      "1              1        2                  0   Not Graduate            Yes   \n",
      "2              2        3                  3       Graduate             No   \n",
      "3              3        4                  3       Graduate             No   \n",
      "4              4        5                  5   Not Graduate            Yes   \n",
      "...          ...      ...                ...            ...            ...   \n",
      "4264        4264     4265                  5       Graduate            Yes   \n",
      "4265        4265     4266                  0   Not Graduate            Yes   \n",
      "4266        4266     4267                  2   Not Graduate             No   \n",
      "4267        4267     4268                  1   Not Graduate             No   \n",
      "4268        4268     4269                  1       Graduate             No   \n",
      "\n",
      "       income_annum   loan_amount   loan_term   cibil_score  \\\n",
      "0             96000        299000          12      2.035752   \n",
      "1             41000        122000           8      1.950966   \n",
      "2             91000        297000          20      1.978033   \n",
      "3             82000        307000           8      1.966898   \n",
      "4             98000        242000          20      1.938459   \n",
      "...             ...           ...         ...           ...   \n",
      "4264          10000         23000          12      1.911326   \n",
      "4265          33000        113000          20      1.991694   \n",
      "4266          65000        239000          18      1.963872   \n",
      "4267          41000        128000           8      2.036087   \n",
      "4268          92000        297000          10      2.002854   \n",
      "\n",
      "       residential_assets_value   commercial_assets_value  \\\n",
      "0                         24000                    176000   \n",
      "1                         27000                     22000   \n",
      "2                         71000                     45000   \n",
      "3                        182000                     33000   \n",
      "4                        124000                     82000   \n",
      "...                         ...                       ...   \n",
      "4264                      28000                      5000   \n",
      "4265                      42000                     29000   \n",
      "4266                      12000                    124000   \n",
      "4267                      82000                      7000   \n",
      "4268                     178000                    118000   \n",
      "\n",
      "       luxury_assets_value   bank_asset_value  loan_status  \n",
      "0                   227000              80000     Approved  \n",
      "1                    88000              33000     Rejected  \n",
      "2                   333000             128000     Rejected  \n",
      "3                   233000              79000     Rejected  \n",
      "4                   294000              50000     Rejected  \n",
      "...                    ...                ...          ...  \n",
      "4264                 33000               8000     Rejected  \n",
      "4265                110000              19000     Approved  \n",
      "4266                181000              73000     Rejected  \n",
      "4267                141000              58000     Approved  \n",
      "4268                357000             120000     Approved  \n",
      "\n",
      "[4269 rows x 14 columns]\n"
     ]
    }
   ],
   "source": [
    "# Convert categorical data to numeric with `pd.get_dummies`\n",
    "application_df = pd.get_dummies(loan_data_df)\n",
    "print(loan_data_df)"
   ]
  },
  {
   "cell_type": "code",
   "execution_count": 11,
   "metadata": {},
   "outputs": [],
   "source": [
    "label_encoders = {}\n",
    "for column in [' education', ' self_employed', ' loan_status']:\n",
    "    le = LabelEncoder()\n",
    "    loan_data_df[column] = le.fit_transform(loan_data_df[column])\n",
    "    label_encoders[column] = le"
   ]
  },
  {
   "cell_type": "code",
   "execution_count": 13,
   "metadata": {},
   "outputs": [],
   "source": [
    "# Splitting the data\n",
    "X = loan_data_df.drop(\" loan_status\", axis=1)\n",
    "y = loan_data_df[\" loan_status\"]\n",
    "\n",
    "X_train, X_test, y_train, y_test = train_test_split(X, y, test_size=0.25, random_state=42)\n",
    "\n",
    "# Standardize the numerical features\n",
    "scaler = StandardScaler()\n",
    "X_train_scaled = scaler.fit_transform(X_train)\n",
    "X_test_scaled = scaler.transform(X_test)"
   ]
  },
  {
   "cell_type": "code",
   "execution_count": 15,
   "metadata": {},
   "outputs": [
    {
     "name": "stdout",
     "output_type": "stream",
     "text": [
      "Model: \"sequential_1\"\n",
      "_________________________________________________________________\n",
      " Layer (type)                Output Shape              Param #   \n",
      "=================================================================\n",
      " dense_3 (Dense)             (None, 26)                364       \n",
      "                                                                 \n",
      " dropout_2 (Dropout)         (None, 26)                0         \n",
      "                                                                 \n",
      " dense_4 (Dense)             (None, 13)                351       \n",
      "                                                                 \n",
      " dropout_3 (Dropout)         (None, 13)                0         \n",
      "                                                                 \n",
      " dense_5 (Dense)             (None, 1)                 14        \n",
      "                                                                 \n",
      "=================================================================\n",
      "Total params: 729 (2.85 KB)\n",
      "Trainable params: 729 (2.85 KB)\n",
      "Non-trainable params: 0 (0.00 Byte)\n",
      "_________________________________________________________________\n"
     ]
    }
   ],
   "source": [
    "# Define the model - deep neural net, i.e., the number of input features and hidden nodes for each layer.\n",
    "number_input_features = len(X_train_scaled[0])\n",
    "\n",
    "nn = tf.keras.models.Sequential()\n",
    "\n",
    "# First hidden layer with L2 regularization\n",
    "nn.add(tf.keras.layers.Dense(units=number_input_features*2, activation=\"relu\", kernel_regularizer=l2(0.01), input_dim=number_input_features))\n",
    "nn.add(tf.keras.layers.Dropout(0.2))  # 20% dropout\n",
    "\n",
    "# Second hidden layer with L2 regularization\n",
    "nn.add(tf.keras.layers.Dense(units=number_input_features, activation=\"relu\", kernel_regularizer=l2(0.01)))\n",
    "nn.add(tf.keras.layers.Dropout(0.2))  # 20% dropout\n",
    "\n",
    "# Output layer\n",
    "nn.add(tf.keras.layers.Dense(units=1, activation=\"sigmoid\"))\n",
    "\n",
    "# Check the structure of the model\n",
    "nn.summary()\n"
   ]
  },
  {
   "cell_type": "code",
   "execution_count": 16,
   "metadata": {},
   "outputs": [],
   "source": [
    "# Create callback for early stopping\n",
    "early_stopping = EarlyStopping(monitor='val_loss', patience=10, restore_best_weights=True)\n",
    "\n",
    "# Define the optimizer\n",
    "optimizer = Adam(learning_rate=0.001)\n",
    "\n",
    "# Compile the model\n",
    "nn.compile(loss='binary_crossentropy', optimizer=optimizer, metrics=['accuracy'])"
   ]
  },
  {
   "cell_type": "code",
   "execution_count": 17,
   "metadata": {},
   "outputs": [
    {
     "name": "stdout",
     "output_type": "stream",
     "text": [
      "Epoch 1/100\n",
      "101/101 [==============================] - 1s 3ms/step - loss: 0.9351 - accuracy: 0.6364 - val_loss: 0.7910 - val_accuracy: 0.7846\n",
      "Epoch 2/100\n",
      "101/101 [==============================] - 0s 1ms/step - loss: 0.7072 - accuracy: 0.7976 - val_loss: 0.5700 - val_accuracy: 0.8820\n",
      "Epoch 3/100\n",
      "101/101 [==============================] - 0s 1ms/step - loss: 0.5438 - accuracy: 0.8660 - val_loss: 0.4548 - val_accuracy: 0.9139\n",
      "Epoch 4/100\n",
      "101/101 [==============================] - 0s 1ms/step - loss: 0.4462 - accuracy: 0.8991 - val_loss: 0.3931 - val_accuracy: 0.9176\n",
      "Epoch 5/100\n",
      "101/101 [==============================] - 0s 1ms/step - loss: 0.3931 - accuracy: 0.9094 - val_loss: 0.3558 - val_accuracy: 0.9213\n",
      "Epoch 6/100\n",
      "101/101 [==============================] - 0s 1ms/step - loss: 0.3590 - accuracy: 0.9219 - val_loss: 0.3285 - val_accuracy: 0.9279\n",
      "Epoch 7/100\n",
      "101/101 [==============================] - 0s 1ms/step - loss: 0.3428 - accuracy: 0.9206 - val_loss: 0.3084 - val_accuracy: 0.9260\n",
      "Epoch 8/100\n",
      "101/101 [==============================] - 0s 1ms/step - loss: 0.3203 - accuracy: 0.9185 - val_loss: 0.2931 - val_accuracy: 0.9307\n",
      "Epoch 9/100\n",
      "101/101 [==============================] - 0s 1ms/step - loss: 0.3050 - accuracy: 0.9253 - val_loss: 0.2804 - val_accuracy: 0.9316\n",
      "Epoch 10/100\n",
      "101/101 [==============================] - 0s 1ms/step - loss: 0.2899 - accuracy: 0.9247 - val_loss: 0.2707 - val_accuracy: 0.9335\n",
      "Epoch 11/100\n",
      "101/101 [==============================] - 0s 2ms/step - loss: 0.2767 - accuracy: 0.9313 - val_loss: 0.2689 - val_accuracy: 0.9279\n",
      "Epoch 12/100\n",
      "101/101 [==============================] - 0s 1ms/step - loss: 0.2780 - accuracy: 0.9260 - val_loss: 0.2549 - val_accuracy: 0.9345\n",
      "Epoch 13/100\n",
      "101/101 [==============================] - 0s 1ms/step - loss: 0.2682 - accuracy: 0.9350 - val_loss: 0.2470 - val_accuracy: 0.9335\n",
      "Epoch 14/100\n",
      "101/101 [==============================] - 0s 1ms/step - loss: 0.2648 - accuracy: 0.9350 - val_loss: 0.2424 - val_accuracy: 0.9419\n",
      "Epoch 15/100\n",
      "101/101 [==============================] - 0s 1ms/step - loss: 0.2550 - accuracy: 0.9303 - val_loss: 0.2338 - val_accuracy: 0.9448\n",
      "Epoch 16/100\n",
      "101/101 [==============================] - 0s 1ms/step - loss: 0.2552 - accuracy: 0.9328 - val_loss: 0.2295 - val_accuracy: 0.9476\n",
      "Epoch 17/100\n",
      "101/101 [==============================] - 0s 1ms/step - loss: 0.2471 - accuracy: 0.9316 - val_loss: 0.2268 - val_accuracy: 0.9457\n",
      "Epoch 18/100\n",
      "101/101 [==============================] - 0s 1ms/step - loss: 0.2470 - accuracy: 0.9338 - val_loss: 0.2262 - val_accuracy: 0.9382\n",
      "Epoch 19/100\n",
      "101/101 [==============================] - 0s 1ms/step - loss: 0.2425 - accuracy: 0.9344 - val_loss: 0.2179 - val_accuracy: 0.9466\n",
      "Epoch 20/100\n",
      "101/101 [==============================] - 0s 1ms/step - loss: 0.2483 - accuracy: 0.9285 - val_loss: 0.2161 - val_accuracy: 0.9429\n",
      "Epoch 21/100\n",
      "101/101 [==============================] - 0s 1ms/step - loss: 0.2393 - accuracy: 0.9356 - val_loss: 0.2126 - val_accuracy: 0.9466\n",
      "Epoch 22/100\n",
      "101/101 [==============================] - 0s 1ms/step - loss: 0.2267 - accuracy: 0.9435 - val_loss: 0.2108 - val_accuracy: 0.9448\n",
      "Epoch 23/100\n",
      "101/101 [==============================] - 0s 1ms/step - loss: 0.2303 - accuracy: 0.9369 - val_loss: 0.2053 - val_accuracy: 0.9448\n",
      "Epoch 24/100\n",
      "101/101 [==============================] - 0s 1ms/step - loss: 0.2338 - accuracy: 0.9360 - val_loss: 0.2030 - val_accuracy: 0.9448\n",
      "Epoch 25/100\n",
      "101/101 [==============================] - 0s 1ms/step - loss: 0.2294 - accuracy: 0.9400 - val_loss: 0.1997 - val_accuracy: 0.9466\n",
      "Epoch 26/100\n",
      "101/101 [==============================] - 0s 1ms/step - loss: 0.2236 - accuracy: 0.9456 - val_loss: 0.1978 - val_accuracy: 0.9448\n",
      "Epoch 27/100\n",
      "101/101 [==============================] - 0s 1ms/step - loss: 0.2287 - accuracy: 0.9369 - val_loss: 0.2011 - val_accuracy: 0.9457\n",
      "Epoch 28/100\n",
      "101/101 [==============================] - 0s 1ms/step - loss: 0.2214 - accuracy: 0.9428 - val_loss: 0.1925 - val_accuracy: 0.9541\n",
      "Epoch 29/100\n",
      "101/101 [==============================] - 0s 2ms/step - loss: 0.2219 - accuracy: 0.9416 - val_loss: 0.1922 - val_accuracy: 0.9504\n",
      "Epoch 30/100\n",
      "101/101 [==============================] - 0s 1ms/step - loss: 0.2242 - accuracy: 0.9394 - val_loss: 0.1953 - val_accuracy: 0.9448\n",
      "Epoch 31/100\n",
      "101/101 [==============================] - 0s 1ms/step - loss: 0.2139 - accuracy: 0.9406 - val_loss: 0.1901 - val_accuracy: 0.9504\n",
      "Epoch 32/100\n",
      "101/101 [==============================] - 0s 1ms/step - loss: 0.2177 - accuracy: 0.9391 - val_loss: 0.1853 - val_accuracy: 0.9551\n",
      "Epoch 33/100\n",
      "101/101 [==============================] - 0s 1ms/step - loss: 0.2113 - accuracy: 0.9444 - val_loss: 0.1847 - val_accuracy: 0.9504\n",
      "Epoch 34/100\n",
      "101/101 [==============================] - 0s 1ms/step - loss: 0.2170 - accuracy: 0.9400 - val_loss: 0.1841 - val_accuracy: 0.9541\n",
      "Epoch 35/100\n",
      "101/101 [==============================] - 0s 1ms/step - loss: 0.2079 - accuracy: 0.9444 - val_loss: 0.1871 - val_accuracy: 0.9485\n",
      "Epoch 36/100\n",
      "101/101 [==============================] - 0s 1ms/step - loss: 0.2089 - accuracy: 0.9435 - val_loss: 0.1798 - val_accuracy: 0.9569\n",
      "Epoch 37/100\n",
      "101/101 [==============================] - 0s 1ms/step - loss: 0.2117 - accuracy: 0.9444 - val_loss: 0.1811 - val_accuracy: 0.9522\n",
      "Epoch 38/100\n",
      "101/101 [==============================] - 0s 2ms/step - loss: 0.2090 - accuracy: 0.9413 - val_loss: 0.1807 - val_accuracy: 0.9560\n",
      "Epoch 39/100\n",
      "101/101 [==============================] - 0s 1ms/step - loss: 0.2046 - accuracy: 0.9425 - val_loss: 0.1749 - val_accuracy: 0.9597\n",
      "Epoch 40/100\n",
      "101/101 [==============================] - 0s 1ms/step - loss: 0.1997 - accuracy: 0.9528 - val_loss: 0.1770 - val_accuracy: 0.9597\n",
      "Epoch 41/100\n",
      "101/101 [==============================] - 0s 1ms/step - loss: 0.2008 - accuracy: 0.9472 - val_loss: 0.1729 - val_accuracy: 0.9597\n",
      "Epoch 42/100\n",
      "101/101 [==============================] - 0s 2ms/step - loss: 0.2018 - accuracy: 0.9472 - val_loss: 0.1762 - val_accuracy: 0.9579\n",
      "Epoch 43/100\n",
      "101/101 [==============================] - 0s 1ms/step - loss: 0.2003 - accuracy: 0.9472 - val_loss: 0.1750 - val_accuracy: 0.9541\n",
      "Epoch 44/100\n",
      "101/101 [==============================] - 0s 1ms/step - loss: 0.2039 - accuracy: 0.9463 - val_loss: 0.1726 - val_accuracy: 0.9560\n",
      "Epoch 45/100\n",
      "101/101 [==============================] - 0s 1ms/step - loss: 0.2022 - accuracy: 0.9475 - val_loss: 0.1693 - val_accuracy: 0.9607\n",
      "Epoch 46/100\n",
      "101/101 [==============================] - 0s 1ms/step - loss: 0.1997 - accuracy: 0.9488 - val_loss: 0.1688 - val_accuracy: 0.9597\n",
      "Epoch 47/100\n",
      "101/101 [==============================] - 0s 1ms/step - loss: 0.1971 - accuracy: 0.9460 - val_loss: 0.1708 - val_accuracy: 0.9625\n",
      "Epoch 48/100\n",
      "101/101 [==============================] - 0s 1ms/step - loss: 0.1972 - accuracy: 0.9494 - val_loss: 0.1687 - val_accuracy: 0.9625\n",
      "Epoch 49/100\n",
      "101/101 [==============================] - 0s 1ms/step - loss: 0.1926 - accuracy: 0.9510 - val_loss: 0.1670 - val_accuracy: 0.9616\n",
      "Epoch 50/100\n",
      "101/101 [==============================] - 0s 1ms/step - loss: 0.1974 - accuracy: 0.9497 - val_loss: 0.1675 - val_accuracy: 0.9625\n",
      "Epoch 51/100\n",
      "101/101 [==============================] - 0s 1ms/step - loss: 0.2033 - accuracy: 0.9435 - val_loss: 0.1663 - val_accuracy: 0.9588\n",
      "Epoch 52/100\n",
      "101/101 [==============================] - 0s 1ms/step - loss: 0.1943 - accuracy: 0.9516 - val_loss: 0.1658 - val_accuracy: 0.9625\n",
      "Epoch 53/100\n",
      "101/101 [==============================] - 0s 1ms/step - loss: 0.1949 - accuracy: 0.9500 - val_loss: 0.1632 - val_accuracy: 0.9644\n",
      "Epoch 54/100\n",
      "101/101 [==============================] - 0s 1ms/step - loss: 0.1898 - accuracy: 0.9563 - val_loss: 0.1614 - val_accuracy: 0.9663\n",
      "Epoch 55/100\n",
      "101/101 [==============================] - 0s 1ms/step - loss: 0.1915 - accuracy: 0.9519 - val_loss: 0.1602 - val_accuracy: 0.9635\n",
      "Epoch 56/100\n",
      "101/101 [==============================] - 0s 1ms/step - loss: 0.1912 - accuracy: 0.9506 - val_loss: 0.1597 - val_accuracy: 0.9607\n",
      "Epoch 57/100\n",
      "101/101 [==============================] - 0s 1ms/step - loss: 0.1928 - accuracy: 0.9488 - val_loss: 0.1594 - val_accuracy: 0.9672\n",
      "Epoch 58/100\n",
      "101/101 [==============================] - 0s 2ms/step - loss: 0.1868 - accuracy: 0.9553 - val_loss: 0.1635 - val_accuracy: 0.9551\n",
      "Epoch 59/100\n",
      "101/101 [==============================] - 0s 1ms/step - loss: 0.1901 - accuracy: 0.9488 - val_loss: 0.1596 - val_accuracy: 0.9607\n",
      "Epoch 60/100\n",
      "101/101 [==============================] - 0s 1ms/step - loss: 0.1884 - accuracy: 0.9481 - val_loss: 0.1601 - val_accuracy: 0.9597\n",
      "Epoch 61/100\n",
      "101/101 [==============================] - 0s 1ms/step - loss: 0.1886 - accuracy: 0.9497 - val_loss: 0.1584 - val_accuracy: 0.9625\n",
      "Epoch 62/100\n",
      "101/101 [==============================] - 0s 1ms/step - loss: 0.1885 - accuracy: 0.9497 - val_loss: 0.1582 - val_accuracy: 0.9616\n",
      "Epoch 63/100\n",
      "101/101 [==============================] - 0s 1ms/step - loss: 0.1889 - accuracy: 0.9497 - val_loss: 0.1586 - val_accuracy: 0.9541\n",
      "Epoch 64/100\n",
      "101/101 [==============================] - 0s 1ms/step - loss: 0.1903 - accuracy: 0.9522 - val_loss: 0.1550 - val_accuracy: 0.9635\n",
      "Epoch 65/100\n",
      "101/101 [==============================] - 0s 1ms/step - loss: 0.1877 - accuracy: 0.9500 - val_loss: 0.1606 - val_accuracy: 0.9569\n",
      "Epoch 66/100\n",
      "101/101 [==============================] - 0s 1ms/step - loss: 0.1872 - accuracy: 0.9491 - val_loss: 0.1594 - val_accuracy: 0.9569\n",
      "Epoch 67/100\n",
      "101/101 [==============================] - 0s 1ms/step - loss: 0.1864 - accuracy: 0.9528 - val_loss: 0.1528 - val_accuracy: 0.9654\n",
      "Epoch 68/100\n",
      "101/101 [==============================] - 0s 2ms/step - loss: 0.1898 - accuracy: 0.9497 - val_loss: 0.1526 - val_accuracy: 0.9654\n",
      "Epoch 69/100\n",
      "101/101 [==============================] - 0s 1ms/step - loss: 0.1866 - accuracy: 0.9510 - val_loss: 0.1528 - val_accuracy: 0.9635\n",
      "Epoch 70/100\n",
      "101/101 [==============================] - 0s 1ms/step - loss: 0.1851 - accuracy: 0.9494 - val_loss: 0.1525 - val_accuracy: 0.9607\n",
      "Epoch 71/100\n",
      "101/101 [==============================] - 0s 2ms/step - loss: 0.1797 - accuracy: 0.9525 - val_loss: 0.1540 - val_accuracy: 0.9607\n",
      "Epoch 72/100\n",
      "101/101 [==============================] - 0s 2ms/step - loss: 0.1816 - accuracy: 0.9525 - val_loss: 0.1484 - val_accuracy: 0.9663\n",
      "Epoch 73/100\n",
      "101/101 [==============================] - 0s 1ms/step - loss: 0.1786 - accuracy: 0.9547 - val_loss: 0.1532 - val_accuracy: 0.9616\n",
      "Epoch 74/100\n",
      "101/101 [==============================] - 0s 1ms/step - loss: 0.1896 - accuracy: 0.9500 - val_loss: 0.1527 - val_accuracy: 0.9569\n",
      "Epoch 75/100\n",
      "101/101 [==============================] - 0s 1ms/step - loss: 0.1804 - accuracy: 0.9494 - val_loss: 0.1551 - val_accuracy: 0.9625\n",
      "Epoch 76/100\n",
      "101/101 [==============================] - 0s 1ms/step - loss: 0.1822 - accuracy: 0.9522 - val_loss: 0.1471 - val_accuracy: 0.9719\n",
      "Epoch 77/100\n",
      "101/101 [==============================] - 0s 1ms/step - loss: 0.1787 - accuracy: 0.9519 - val_loss: 0.1489 - val_accuracy: 0.9644\n",
      "Epoch 78/100\n",
      "101/101 [==============================] - 0s 1ms/step - loss: 0.1780 - accuracy: 0.9513 - val_loss: 0.1473 - val_accuracy: 0.9635\n",
      "Epoch 79/100\n",
      "101/101 [==============================] - 0s 1ms/step - loss: 0.1861 - accuracy: 0.9491 - val_loss: 0.1503 - val_accuracy: 0.9569\n",
      "Epoch 80/100\n",
      "101/101 [==============================] - 0s 1ms/step - loss: 0.1842 - accuracy: 0.9506 - val_loss: 0.1494 - val_accuracy: 0.9579\n",
      "Epoch 81/100\n",
      "101/101 [==============================] - 0s 1ms/step - loss: 0.1767 - accuracy: 0.9522 - val_loss: 0.1433 - val_accuracy: 0.9654\n",
      "Epoch 82/100\n",
      "101/101 [==============================] - 0s 1ms/step - loss: 0.1862 - accuracy: 0.9516 - val_loss: 0.1478 - val_accuracy: 0.9616\n",
      "Epoch 83/100\n",
      "101/101 [==============================] - 0s 1ms/step - loss: 0.1842 - accuracy: 0.9513 - val_loss: 0.1479 - val_accuracy: 0.9635\n",
      "Epoch 84/100\n",
      "101/101 [==============================] - 0s 2ms/step - loss: 0.1749 - accuracy: 0.9550 - val_loss: 0.1464 - val_accuracy: 0.9625\n",
      "Epoch 85/100\n",
      "101/101 [==============================] - 0s 1ms/step - loss: 0.1825 - accuracy: 0.9544 - val_loss: 0.1488 - val_accuracy: 0.9616\n",
      "Epoch 86/100\n",
      "101/101 [==============================] - 0s 1ms/step - loss: 0.1780 - accuracy: 0.9494 - val_loss: 0.1445 - val_accuracy: 0.9635\n",
      "Epoch 87/100\n",
      "101/101 [==============================] - 0s 1ms/step - loss: 0.1701 - accuracy: 0.9547 - val_loss: 0.1467 - val_accuracy: 0.9663\n",
      "Epoch 88/100\n",
      "101/101 [==============================] - 0s 1ms/step - loss: 0.1743 - accuracy: 0.9575 - val_loss: 0.1419 - val_accuracy: 0.9672\n",
      "Epoch 89/100\n",
      "101/101 [==============================] - 0s 1ms/step - loss: 0.1718 - accuracy: 0.9572 - val_loss: 0.1407 - val_accuracy: 0.9663\n",
      "Epoch 90/100\n",
      "101/101 [==============================] - 0s 1ms/step - loss: 0.1744 - accuracy: 0.9510 - val_loss: 0.1477 - val_accuracy: 0.9560\n",
      "Epoch 91/100\n",
      "101/101 [==============================] - 0s 1ms/step - loss: 0.1718 - accuracy: 0.9563 - val_loss: 0.1435 - val_accuracy: 0.9682\n",
      "Epoch 92/100\n",
      "101/101 [==============================] - 0s 1ms/step - loss: 0.1753 - accuracy: 0.9535 - val_loss: 0.1439 - val_accuracy: 0.9625\n",
      "Epoch 93/100\n",
      "101/101 [==============================] - 0s 1ms/step - loss: 0.1773 - accuracy: 0.9535 - val_loss: 0.1447 - val_accuracy: 0.9625\n",
      "Epoch 94/100\n",
      "101/101 [==============================] - 0s 1ms/step - loss: 0.1776 - accuracy: 0.9513 - val_loss: 0.1405 - val_accuracy: 0.9682\n",
      "Epoch 95/100\n",
      "101/101 [==============================] - 0s 1ms/step - loss: 0.1743 - accuracy: 0.9575 - val_loss: 0.1481 - val_accuracy: 0.9569\n",
      "Epoch 96/100\n",
      "101/101 [==============================] - 0s 1ms/step - loss: 0.1762 - accuracy: 0.9578 - val_loss: 0.1429 - val_accuracy: 0.9625\n",
      "Epoch 97/100\n",
      "101/101 [==============================] - 0s 1ms/step - loss: 0.1614 - accuracy: 0.9628 - val_loss: 0.1384 - val_accuracy: 0.9682\n",
      "Epoch 98/100\n",
      "101/101 [==============================] - 0s 1ms/step - loss: 0.1709 - accuracy: 0.9556 - val_loss: 0.1506 - val_accuracy: 0.9579\n",
      "Epoch 99/100\n",
      "101/101 [==============================] - 0s 2ms/step - loss: 0.1735 - accuracy: 0.9535 - val_loss: 0.1431 - val_accuracy: 0.9588\n",
      "Epoch 100/100\n",
      "101/101 [==============================] - 0s 1ms/step - loss: 0.1793 - accuracy: 0.9481 - val_loss: 0.1386 - val_accuracy: 0.9654\n"
     ]
    }
   ],
   "source": [
    "# Train the model\n",
    "history = nn.fit(\n",
    "    X_train_scaled,\n",
    "    y_train,\n",
    "    epochs=100,\n",
    "    batch_size=32,\n",
    "    validation_data=(X_test_scaled, y_test),\n",
    "    verbose=1,\n",
    "    callbacks=[early_stopping]\n",
    ")\n"
   ]
  },
  {
   "cell_type": "code",
   "execution_count": 18,
   "metadata": {},
   "outputs": [
    {
     "name": "stdout",
     "output_type": "stream",
     "text": [
      "34/34 - 0s - loss: 0.1386 - accuracy: 0.9654 - 40ms/epoch - 1ms/step\n",
      "Loss: 0.1385868936777115, Accuracy: 0.9653558135032654\n"
     ]
    }
   ],
   "source": [
    "# Evaluate the model using the test data\n",
    "model_loss, model_accuracy = nn.evaluate(X_test_scaled, y_test, verbose=2)\n",
    "print(f\"Loss: {model_loss}, Accuracy: {model_accuracy}\")"
   ]
  },
  {
   "cell_type": "code",
   "execution_count": 19,
   "metadata": {},
   "outputs": [],
   "source": [
    "# Save the trained model\n",
    "#nn.save(\"loan_approval_model.h5\")\n",
    "#print(\"Model saved to loan_approval_model.h5\")"
   ]
  },
  {
   "cell_type": "code",
   "execution_count": 20,
   "metadata": {},
   "outputs": [
    {
     "name": "stdout",
     "output_type": "stream",
     "text": [
      "Model: \"sequential_2\"\n",
      "_________________________________________________________________\n",
      " Layer (type)                Output Shape              Param #   \n",
      "=================================================================\n",
      " dense_6 (Dense)             (None, 39)                546       \n",
      "                                                                 \n",
      " dropout_4 (Dropout)         (None, 39)                0         \n",
      "                                                                 \n",
      " dense_7 (Dense)             (None, 26)                1040      \n",
      "                                                                 \n",
      " dropout_5 (Dropout)         (None, 26)                0         \n",
      "                                                                 \n",
      " dense_8 (Dense)             (None, 13)                351       \n",
      "                                                                 \n",
      " dense_9 (Dense)             (None, 1)                 14        \n",
      "                                                                 \n",
      "=================================================================\n",
      "Total params: 1951 (7.62 KB)\n",
      "Trainable params: 1951 (7.62 KB)\n",
      "Non-trainable params: 0 (0.00 Byte)\n",
      "_________________________________________________________________\n"
     ]
    }
   ],
   "source": [
    "# Define an optimized deep neural network model\n",
    "number_input_features = len(X_train_scaled[0])\n",
    "\n",
    "optimized_nn = tf.keras.models.Sequential()\n",
    "\n",
    "# First hidden layer with L2 regularization and swish activation\n",
    "optimized_nn.add(tf.keras.layers.Dense(units=number_input_features*3, activation=\"swish\", kernel_regularizer=l2(0.01), input_dim=number_input_features))\n",
    "optimized_nn.add(tf.keras.layers.Dropout(0.3))  # 30% dropout\n",
    "\n",
    "# Second hidden layer with L2 regularization and swish activation\n",
    "optimized_nn.add(tf.keras.layers.Dense(units=number_input_features*2, activation=\"swish\", kernel_regularizer=l2(0.01)))\n",
    "optimized_nn.add(tf.keras.layers.Dropout(0.3))  # 30% dropout\n",
    "\n",
    "# Third hidden layer\n",
    "optimized_nn.add(tf.keras.layers.Dense(units=number_input_features, activation=\"relu\"))\n",
    "\n",
    "# Output layer\n",
    "optimized_nn.add(tf.keras.layers.Dense(units=1, activation=\"sigmoid\"))\n",
    "\n",
    "#display\n",
    "optimized_nn.summary()\n",
    "\n"
   ]
  },
  {
   "cell_type": "code",
   "execution_count": 21,
   "metadata": {},
   "outputs": [],
   "source": [
    "# Create callback for early stopping\n",
    "early_stopping = EarlyStopping(monitor='val_loss', patience=15, restore_best_weights=True)\n",
    "\n",
    "# Define the optimizer with a learning rate decay\n",
    "lr_schedule = tf.keras.optimizers.schedules.ExponentialDecay(\n",
    "    initial_learning_rate=1e-2,\n",
    "    decay_steps=10000,\n",
    "    decay_rate=0.9)\n",
    "optimizer = Adam(learning_rate=lr_schedule)\n",
    "\n",
    "# Compile the model\n",
    "optimized_nn.compile(loss='binary_crossentropy', optimizer=optimizer, metrics=['accuracy'])"
   ]
  },
  {
   "cell_type": "code",
   "execution_count": 22,
   "metadata": {},
   "outputs": [
    {
     "name": "stdout",
     "output_type": "stream",
     "text": [
      "Epoch 1/150\n",
      "51/51 [==============================] - 1s 4ms/step - loss: 0.5463 - accuracy: 0.8472 - val_loss: 0.3064 - val_accuracy: 0.9045\n",
      "Epoch 2/150\n",
      "51/51 [==============================] - 0s 2ms/step - loss: 0.3051 - accuracy: 0.9153 - val_loss: 0.2902 - val_accuracy: 0.9148\n",
      "Epoch 3/150\n",
      "51/51 [==============================] - 0s 2ms/step - loss: 0.2762 - accuracy: 0.9210 - val_loss: 0.2598 - val_accuracy: 0.9242\n",
      "Epoch 4/150\n",
      "51/51 [==============================] - 0s 3ms/step - loss: 0.2701 - accuracy: 0.9206 - val_loss: 0.2520 - val_accuracy: 0.9279\n",
      "Epoch 5/150\n",
      "51/51 [==============================] - 0s 2ms/step - loss: 0.2795 - accuracy: 0.9132 - val_loss: 0.2511 - val_accuracy: 0.9270\n",
      "Epoch 6/150\n",
      "51/51 [==============================] - 0s 2ms/step - loss: 0.2738 - accuracy: 0.9203 - val_loss: 0.2605 - val_accuracy: 0.9270\n",
      "Epoch 7/150\n",
      "51/51 [==============================] - 0s 2ms/step - loss: 0.2740 - accuracy: 0.9185 - val_loss: 0.2511 - val_accuracy: 0.9110\n",
      "Epoch 8/150\n",
      "51/51 [==============================] - 0s 2ms/step - loss: 0.2608 - accuracy: 0.9241 - val_loss: 0.2467 - val_accuracy: 0.9139\n",
      "Epoch 9/150\n",
      "51/51 [==============================] - 0s 2ms/step - loss: 0.2727 - accuracy: 0.9163 - val_loss: 0.2815 - val_accuracy: 0.9073\n",
      "Epoch 10/150\n",
      "51/51 [==============================] - 0s 2ms/step - loss: 0.2610 - accuracy: 0.9210 - val_loss: 0.2460 - val_accuracy: 0.9148\n",
      "Epoch 11/150\n",
      "51/51 [==============================] - 0s 2ms/step - loss: 0.2738 - accuracy: 0.9175 - val_loss: 0.2417 - val_accuracy: 0.9204\n",
      "Epoch 12/150\n",
      "51/51 [==============================] - 0s 2ms/step - loss: 0.2771 - accuracy: 0.9135 - val_loss: 0.2664 - val_accuracy: 0.9110\n",
      "Epoch 13/150\n",
      "51/51 [==============================] - 0s 2ms/step - loss: 0.2734 - accuracy: 0.9188 - val_loss: 0.2173 - val_accuracy: 0.9466\n",
      "Epoch 14/150\n",
      "51/51 [==============================] - 0s 2ms/step - loss: 0.2448 - accuracy: 0.9291 - val_loss: 0.2347 - val_accuracy: 0.9232\n",
      "Epoch 15/150\n",
      "51/51 [==============================] - 0s 2ms/step - loss: 0.2502 - accuracy: 0.9269 - val_loss: 0.2344 - val_accuracy: 0.9335\n",
      "Epoch 16/150\n",
      "51/51 [==============================] - 0s 2ms/step - loss: 0.2601 - accuracy: 0.9222 - val_loss: 0.2180 - val_accuracy: 0.9363\n",
      "Epoch 17/150\n",
      "51/51 [==============================] - 0s 2ms/step - loss: 0.2496 - accuracy: 0.9300 - val_loss: 0.2346 - val_accuracy: 0.9213\n",
      "Epoch 18/150\n",
      "51/51 [==============================] - 0s 2ms/step - loss: 0.2595 - accuracy: 0.9238 - val_loss: 0.2586 - val_accuracy: 0.9176\n",
      "Epoch 19/150\n",
      "51/51 [==============================] - 0s 2ms/step - loss: 0.2682 - accuracy: 0.9210 - val_loss: 0.2360 - val_accuracy: 0.9176\n",
      "Epoch 20/150\n",
      "51/51 [==============================] - 0s 5ms/step - loss: 0.3565 - accuracy: 0.9007 - val_loss: 0.2635 - val_accuracy: 0.9288\n",
      "Epoch 21/150\n",
      "51/51 [==============================] - 0s 2ms/step - loss: 0.2767 - accuracy: 0.9272 - val_loss: 0.2574 - val_accuracy: 0.9148\n",
      "Epoch 22/150\n",
      "51/51 [==============================] - 0s 2ms/step - loss: 0.2802 - accuracy: 0.9235 - val_loss: 0.2211 - val_accuracy: 0.9345\n",
      "Epoch 23/150\n",
      "51/51 [==============================] - 0s 2ms/step - loss: 0.2474 - accuracy: 0.9294 - val_loss: 0.2195 - val_accuracy: 0.9345\n",
      "Epoch 24/150\n",
      "51/51 [==============================] - 0s 2ms/step - loss: 0.2387 - accuracy: 0.9341 - val_loss: 0.2222 - val_accuracy: 0.9298\n",
      "Epoch 25/150\n",
      "51/51 [==============================] - 0s 2ms/step - loss: 0.2553 - accuracy: 0.9178 - val_loss: 0.2091 - val_accuracy: 0.9391\n",
      "Epoch 26/150\n",
      "51/51 [==============================] - 0s 2ms/step - loss: 0.2634 - accuracy: 0.9203 - val_loss: 0.2138 - val_accuracy: 0.9429\n",
      "Epoch 27/150\n",
      "51/51 [==============================] - 0s 2ms/step - loss: 0.2424 - accuracy: 0.9341 - val_loss: 0.2271 - val_accuracy: 0.9185\n",
      "Epoch 28/150\n",
      "51/51 [==============================] - 0s 2ms/step - loss: 0.2319 - accuracy: 0.9341 - val_loss: 0.2067 - val_accuracy: 0.9429\n",
      "Epoch 29/150\n",
      "51/51 [==============================] - 0s 2ms/step - loss: 0.2553 - accuracy: 0.9241 - val_loss: 0.2257 - val_accuracy: 0.9260\n",
      "Epoch 30/150\n",
      "51/51 [==============================] - 0s 2ms/step - loss: 0.2837 - accuracy: 0.9244 - val_loss: 0.2092 - val_accuracy: 0.9551\n",
      "Epoch 31/150\n",
      "51/51 [==============================] - 0s 2ms/step - loss: 0.2532 - accuracy: 0.9294 - val_loss: 0.1932 - val_accuracy: 0.9579\n",
      "Epoch 32/150\n",
      "51/51 [==============================] - 0s 2ms/step - loss: 0.2396 - accuracy: 0.9325 - val_loss: 0.1999 - val_accuracy: 0.9466\n",
      "Epoch 33/150\n",
      "51/51 [==============================] - 0s 2ms/step - loss: 0.2285 - accuracy: 0.9316 - val_loss: 0.1931 - val_accuracy: 0.9457\n",
      "Epoch 34/150\n",
      "51/51 [==============================] - 0s 2ms/step - loss: 0.2467 - accuracy: 0.9228 - val_loss: 0.2068 - val_accuracy: 0.9307\n",
      "Epoch 35/150\n",
      "51/51 [==============================] - 0s 2ms/step - loss: 0.2280 - accuracy: 0.9356 - val_loss: 0.2092 - val_accuracy: 0.9448\n",
      "Epoch 36/150\n",
      "51/51 [==============================] - 0s 2ms/step - loss: 0.3089 - accuracy: 0.9247 - val_loss: 0.2551 - val_accuracy: 0.9213\n",
      "Epoch 37/150\n",
      "51/51 [==============================] - 0s 2ms/step - loss: 0.2634 - accuracy: 0.9253 - val_loss: 0.2276 - val_accuracy: 0.9429\n",
      "Epoch 38/150\n",
      "51/51 [==============================] - 0s 2ms/step - loss: 0.2480 - accuracy: 0.9316 - val_loss: 0.2325 - val_accuracy: 0.9185\n",
      "Epoch 39/150\n",
      "51/51 [==============================] - 0s 2ms/step - loss: 0.2769 - accuracy: 0.9160 - val_loss: 0.2339 - val_accuracy: 0.9213\n",
      "Epoch 40/150\n",
      "51/51 [==============================] - 0s 2ms/step - loss: 0.2465 - accuracy: 0.9263 - val_loss: 0.2884 - val_accuracy: 0.8942\n",
      "Epoch 41/150\n",
      "51/51 [==============================] - 0s 2ms/step - loss: 0.3707 - accuracy: 0.9022 - val_loss: 0.3082 - val_accuracy: 0.9092\n",
      "Epoch 42/150\n",
      "51/51 [==============================] - 0s 2ms/step - loss: 0.2650 - accuracy: 0.9310 - val_loss: 0.1990 - val_accuracy: 0.9597\n",
      "Epoch 43/150\n",
      "51/51 [==============================] - 0s 2ms/step - loss: 0.2260 - accuracy: 0.9360 - val_loss: 0.2015 - val_accuracy: 0.9354\n",
      "Epoch 44/150\n",
      "51/51 [==============================] - 0s 2ms/step - loss: 0.2247 - accuracy: 0.9350 - val_loss: 0.2022 - val_accuracy: 0.9504\n",
      "Epoch 45/150\n",
      "51/51 [==============================] - 0s 2ms/step - loss: 0.2302 - accuracy: 0.9350 - val_loss: 0.2078 - val_accuracy: 0.9391\n",
      "Epoch 46/150\n",
      "51/51 [==============================] - 0s 2ms/step - loss: 0.2250 - accuracy: 0.9403 - val_loss: 0.2297 - val_accuracy: 0.9213\n",
      "Epoch 47/150\n",
      "51/51 [==============================] - 0s 2ms/step - loss: 0.3529 - accuracy: 0.9069 - val_loss: 0.2585 - val_accuracy: 0.9298\n",
      "Epoch 48/150\n",
      "51/51 [==============================] - 0s 2ms/step - loss: 0.2696 - accuracy: 0.9247 - val_loss: 0.1975 - val_accuracy: 0.9419\n"
     ]
    }
   ],
   "source": [
    "# Train the model\n",
    "history = optimized_nn.fit(\n",
    "    X_train_scaled,\n",
    "    y_train,\n",
    "    epochs=150,\n",
    "    batch_size=64,\n",
    "    validation_data=(X_test_scaled, y_test),\n",
    "    verbose=1,\n",
    "    callbacks=[early_stopping]\n",
    ")\n"
   ]
  },
  {
   "cell_type": "code",
   "execution_count": 23,
   "metadata": {},
   "outputs": [
    {
     "name": "stdout",
     "output_type": "stream",
     "text": [
      "34/34 - 0s - loss: 0.1931 - accuracy: 0.9457 - 39ms/epoch - 1ms/step\n",
      "Loss: 0.19305168092250824, Accuracy: 0.9456928968429565\n"
     ]
    }
   ],
   "source": [
    "\n",
    "# Evaluate the model using the test data\n",
    "model_loss, model_accuracy = optimized_nn.evaluate(X_test_scaled, y_test, verbose=2)\n",
    "print(f\"Loss: {model_loss}, Accuracy: {model_accuracy}\")"
   ]
  },
  {
   "cell_type": "code",
   "execution_count": 25,
   "metadata": {},
   "outputs": [
    {
     "name": "stdout",
     "output_type": "stream",
     "text": [
      "Model: \"sequential_4\"\n",
      "_________________________________________________________________\n",
      " Layer (type)                Output Shape              Param #   \n",
      "=================================================================\n",
      " dense_15 (Dense)            (None, 39)                546       \n",
      "                                                                 \n",
      " leaky_re_lu_2 (LeakyReLU)   (None, 39)                0         \n",
      "                                                                 \n",
      " dense_16 (Dense)            (None, 26)                1040      \n",
      "                                                                 \n",
      " leaky_re_lu_3 (LeakyReLU)   (None, 26)                0         \n",
      "                                                                 \n",
      " dense_17 (Dense)            (None, 13)                351       \n",
      "                                                                 \n",
      " dense_18 (Dense)            (None, 6)                 84        \n",
      "                                                                 \n",
      " dense_19 (Dense)            (None, 1)                 7         \n",
      "                                                                 \n",
      "=================================================================\n",
      "Total params: 2028 (7.92 KB)\n",
      "Trainable params: 2028 (7.92 KB)\n",
      "Non-trainable params: 0 (0.00 Byte)\n",
      "_________________________________________________________________\n"
     ]
    }
   ],
   "source": [
    "# Define the model\n",
    "number_input_features = len(X_train_scaled[0])\n",
    "\n",
    "advanced_nn = tf.keras.models.Sequential()\n",
    "\n",
    "# Input and first hidden layer with LeakyReLU\n",
    "advanced_nn.add(Dense(units=number_input_features*3, input_dim=number_input_features))\n",
    "advanced_nn.add(LeakyReLU(alpha=0.01))\n",
    "\n",
    "# Second hidden layer with LeakyReLU\n",
    "advanced_nn.add(Dense(units=number_input_features*2))\n",
    "advanced_nn.add(LeakyReLU(alpha=0.01))\n",
    "\n",
    "# Third hidden layer with tanh\n",
    "advanced_nn.add(Dense(units=number_input_features, activation='tanh'))\n",
    "\n",
    "# Fourth hidden layer with tanh\n",
    "advanced_nn.add(Dense(units=number_input_features//2, activation='tanh'))\n",
    "\n",
    "# Output layer\n",
    "advanced_nn.add(Dense(units=1, activation=\"sigmoid\"))\n",
    "\n",
    "#Display\n",
    "advanced_nn.summary()\n",
    "\n"
   ]
  },
  {
   "cell_type": "code",
   "execution_count": 26,
   "metadata": {},
   "outputs": [],
   "source": [
    "# Compile the model with an adaptive learning rate\n",
    "optimizer = Adam(learning_rate=0.001)\n",
    "advanced_nn.compile(loss='binary_crossentropy', optimizer=optimizer, metrics=['accuracy'])"
   ]
  },
  {
   "cell_type": "code",
   "execution_count": 27,
   "metadata": {},
   "outputs": [
    {
     "name": "stdout",
     "output_type": "stream",
     "text": [
      "Epoch 1/150\n",
      "101/101 [==============================] - 1s 2ms/step - loss: 0.4691 - accuracy: 0.7982 - val_loss: 0.3051 - val_accuracy: 0.8998\n",
      "Epoch 2/150\n",
      "101/101 [==============================] - 0s 1ms/step - loss: 0.2585 - accuracy: 0.9185 - val_loss: 0.2367 - val_accuracy: 0.9204\n",
      "Epoch 3/150\n",
      "101/101 [==============================] - 0s 1ms/step - loss: 0.2134 - accuracy: 0.9322 - val_loss: 0.2152 - val_accuracy: 0.9288\n",
      "Epoch 4/150\n",
      "101/101 [==============================] - 0s 1ms/step - loss: 0.1947 - accuracy: 0.9356 - val_loss: 0.1985 - val_accuracy: 0.9316\n",
      "Epoch 5/150\n",
      "101/101 [==============================] - 0s 1ms/step - loss: 0.1825 - accuracy: 0.9381 - val_loss: 0.1884 - val_accuracy: 0.9316\n",
      "Epoch 6/150\n",
      "101/101 [==============================] - 0s 1ms/step - loss: 0.1694 - accuracy: 0.9416 - val_loss: 0.1762 - val_accuracy: 0.9326\n",
      "Epoch 7/150\n",
      "101/101 [==============================] - 0s 1ms/step - loss: 0.1564 - accuracy: 0.9444 - val_loss: 0.1582 - val_accuracy: 0.9354\n",
      "Epoch 8/150\n",
      "101/101 [==============================] - 0s 1ms/step - loss: 0.1425 - accuracy: 0.9456 - val_loss: 0.1552 - val_accuracy: 0.9335\n",
      "Epoch 9/150\n",
      "101/101 [==============================] - 0s 1ms/step - loss: 0.1307 - accuracy: 0.9488 - val_loss: 0.1371 - val_accuracy: 0.9363\n",
      "Epoch 10/150\n",
      "101/101 [==============================] - 0s 1ms/step - loss: 0.1208 - accuracy: 0.9500 - val_loss: 0.1304 - val_accuracy: 0.9373\n",
      "Epoch 11/150\n",
      "101/101 [==============================] - 0s 1ms/step - loss: 0.1132 - accuracy: 0.9528 - val_loss: 0.1252 - val_accuracy: 0.9373\n",
      "Epoch 12/150\n",
      "101/101 [==============================] - 0s 1ms/step - loss: 0.1098 - accuracy: 0.9535 - val_loss: 0.1241 - val_accuracy: 0.9429\n",
      "Epoch 13/150\n",
      "101/101 [==============================] - 0s 1ms/step - loss: 0.1011 - accuracy: 0.9569 - val_loss: 0.1107 - val_accuracy: 0.9541\n",
      "Epoch 14/150\n",
      "101/101 [==============================] - 0s 1ms/step - loss: 0.0943 - accuracy: 0.9622 - val_loss: 0.1133 - val_accuracy: 0.9513\n",
      "Epoch 15/150\n",
      "101/101 [==============================] - 0s 1ms/step - loss: 0.0908 - accuracy: 0.9638 - val_loss: 0.1080 - val_accuracy: 0.9513\n",
      "Epoch 16/150\n",
      "101/101 [==============================] - 0s 1ms/step - loss: 0.0866 - accuracy: 0.9653 - val_loss: 0.1180 - val_accuracy: 0.9476\n",
      "Epoch 17/150\n",
      "101/101 [==============================] - 0s 1ms/step - loss: 0.0818 - accuracy: 0.9703 - val_loss: 0.1050 - val_accuracy: 0.9588\n",
      "Epoch 18/150\n",
      "101/101 [==============================] - 0s 2ms/step - loss: 0.0777 - accuracy: 0.9713 - val_loss: 0.1130 - val_accuracy: 0.9541\n",
      "Epoch 19/150\n",
      "101/101 [==============================] - 0s 1ms/step - loss: 0.0841 - accuracy: 0.9694 - val_loss: 0.1138 - val_accuracy: 0.9569\n",
      "Epoch 20/150\n",
      "101/101 [==============================] - 0s 1ms/step - loss: 0.0725 - accuracy: 0.9741 - val_loss: 0.1037 - val_accuracy: 0.9541\n",
      "Epoch 21/150\n",
      "101/101 [==============================] - 0s 2ms/step - loss: 0.0683 - accuracy: 0.9772 - val_loss: 0.1100 - val_accuracy: 0.9532\n",
      "Epoch 22/150\n",
      "101/101 [==============================] - 0s 1ms/step - loss: 0.0690 - accuracy: 0.9769 - val_loss: 0.1116 - val_accuracy: 0.9569\n",
      "Epoch 23/150\n",
      "101/101 [==============================] - 0s 1ms/step - loss: 0.0671 - accuracy: 0.9778 - val_loss: 0.1050 - val_accuracy: 0.9607\n",
      "Epoch 24/150\n",
      "101/101 [==============================] - 0s 1ms/step - loss: 0.0649 - accuracy: 0.9788 - val_loss: 0.1082 - val_accuracy: 0.9532\n",
      "Epoch 25/150\n",
      "101/101 [==============================] - 0s 1ms/step - loss: 0.0630 - accuracy: 0.9797 - val_loss: 0.1114 - val_accuracy: 0.9551\n",
      "Epoch 26/150\n",
      "101/101 [==============================] - 0s 1ms/step - loss: 0.0615 - accuracy: 0.9800 - val_loss: 0.1151 - val_accuracy: 0.9551\n",
      "Epoch 27/150\n",
      "101/101 [==============================] - 0s 1ms/step - loss: 0.0619 - accuracy: 0.9797 - val_loss: 0.1018 - val_accuracy: 0.9616\n",
      "Epoch 28/150\n",
      "101/101 [==============================] - 0s 1ms/step - loss: 0.0583 - accuracy: 0.9816 - val_loss: 0.1110 - val_accuracy: 0.9560\n",
      "Epoch 29/150\n",
      "101/101 [==============================] - 0s 1ms/step - loss: 0.0620 - accuracy: 0.9791 - val_loss: 0.1270 - val_accuracy: 0.9551\n",
      "Epoch 30/150\n",
      "101/101 [==============================] - 0s 1ms/step - loss: 0.0617 - accuracy: 0.9797 - val_loss: 0.1088 - val_accuracy: 0.9579\n",
      "Epoch 31/150\n",
      "101/101 [==============================] - 0s 2ms/step - loss: 0.0594 - accuracy: 0.9813 - val_loss: 0.1189 - val_accuracy: 0.9541\n",
      "Epoch 32/150\n",
      "101/101 [==============================] - 0s 1ms/step - loss: 0.0524 - accuracy: 0.9828 - val_loss: 0.1170 - val_accuracy: 0.9551\n",
      "Epoch 33/150\n",
      "101/101 [==============================] - 0s 1ms/step - loss: 0.0517 - accuracy: 0.9828 - val_loss: 0.1146 - val_accuracy: 0.9541\n",
      "Epoch 34/150\n",
      "101/101 [==============================] - 0s 1ms/step - loss: 0.0524 - accuracy: 0.9838 - val_loss: 0.1147 - val_accuracy: 0.9569\n",
      "Epoch 35/150\n",
      "101/101 [==============================] - 0s 1ms/step - loss: 0.0528 - accuracy: 0.9834 - val_loss: 0.1187 - val_accuracy: 0.9597\n",
      "Epoch 36/150\n",
      "101/101 [==============================] - 0s 1ms/step - loss: 0.0548 - accuracy: 0.9816 - val_loss: 0.1098 - val_accuracy: 0.9588\n",
      "Epoch 37/150\n",
      "101/101 [==============================] - 0s 1ms/step - loss: 0.0478 - accuracy: 0.9853 - val_loss: 0.1138 - val_accuracy: 0.9560\n",
      "Epoch 38/150\n",
      "101/101 [==============================] - 0s 1ms/step - loss: 0.0490 - accuracy: 0.9856 - val_loss: 0.1302 - val_accuracy: 0.9551\n",
      "Epoch 39/150\n",
      "101/101 [==============================] - 0s 1ms/step - loss: 0.0483 - accuracy: 0.9859 - val_loss: 0.1390 - val_accuracy: 0.9504\n",
      "Epoch 40/150\n",
      "101/101 [==============================] - 0s 1ms/step - loss: 0.0482 - accuracy: 0.9853 - val_loss: 0.1171 - val_accuracy: 0.9551\n",
      "Epoch 41/150\n",
      "101/101 [==============================] - 0s 1ms/step - loss: 0.0488 - accuracy: 0.9850 - val_loss: 0.1234 - val_accuracy: 0.9551\n",
      "Epoch 42/150\n",
      "101/101 [==============================] - 0s 1ms/step - loss: 0.0509 - accuracy: 0.9850 - val_loss: 0.1143 - val_accuracy: 0.9607\n",
      "Epoch 43/150\n",
      "101/101 [==============================] - 0s 1ms/step - loss: 0.0495 - accuracy: 0.9856 - val_loss: 0.1154 - val_accuracy: 0.9569\n",
      "Epoch 44/150\n",
      "101/101 [==============================] - 0s 1ms/step - loss: 0.0445 - accuracy: 0.9884 - val_loss: 0.1281 - val_accuracy: 0.9579\n",
      "Epoch 45/150\n",
      "101/101 [==============================] - 0s 1ms/step - loss: 0.0476 - accuracy: 0.9878 - val_loss: 0.1217 - val_accuracy: 0.9588\n",
      "Epoch 46/150\n",
      "101/101 [==============================] - 0s 1ms/step - loss: 0.0411 - accuracy: 0.9900 - val_loss: 0.1239 - val_accuracy: 0.9588\n",
      "Epoch 47/150\n",
      "101/101 [==============================] - 0s 1ms/step - loss: 0.0407 - accuracy: 0.9900 - val_loss: 0.1259 - val_accuracy: 0.9588\n",
      "Epoch 48/150\n",
      "101/101 [==============================] - 0s 2ms/step - loss: 0.0431 - accuracy: 0.9881 - val_loss: 0.1315 - val_accuracy: 0.9522\n",
      "Epoch 49/150\n",
      "101/101 [==============================] - 0s 1ms/step - loss: 0.0428 - accuracy: 0.9884 - val_loss: 0.1135 - val_accuracy: 0.9597\n",
      "Epoch 50/150\n",
      "101/101 [==============================] - 0s 1ms/step - loss: 0.0403 - accuracy: 0.9900 - val_loss: 0.1218 - val_accuracy: 0.9560\n",
      "Epoch 51/150\n",
      "101/101 [==============================] - 0s 1ms/step - loss: 0.0441 - accuracy: 0.9888 - val_loss: 0.1514 - val_accuracy: 0.9551\n",
      "Epoch 52/150\n",
      "101/101 [==============================] - 0s 1ms/step - loss: 0.0485 - accuracy: 0.9850 - val_loss: 0.1284 - val_accuracy: 0.9569\n",
      "Epoch 53/150\n",
      "101/101 [==============================] - 0s 1ms/step - loss: 0.0462 - accuracy: 0.9866 - val_loss: 0.1307 - val_accuracy: 0.9579\n",
      "Epoch 54/150\n",
      "101/101 [==============================] - 0s 1ms/step - loss: 0.0415 - accuracy: 0.9894 - val_loss: 0.1233 - val_accuracy: 0.9569\n",
      "Epoch 55/150\n",
      "101/101 [==============================] - 0s 1ms/step - loss: 0.0390 - accuracy: 0.9903 - val_loss: 0.1359 - val_accuracy: 0.9569\n",
      "Epoch 56/150\n",
      "101/101 [==============================] - 0s 1ms/step - loss: 0.0420 - accuracy: 0.9888 - val_loss: 0.1359 - val_accuracy: 0.9560\n",
      "Epoch 57/150\n",
      "101/101 [==============================] - 0s 1ms/step - loss: 0.0965 - accuracy: 0.9725 - val_loss: 0.1438 - val_accuracy: 0.9569\n",
      "Epoch 58/150\n",
      "101/101 [==============================] - 0s 1ms/step - loss: 0.0594 - accuracy: 0.9831 - val_loss: 0.1201 - val_accuracy: 0.9551\n",
      "Epoch 59/150\n",
      "101/101 [==============================] - 0s 1ms/step - loss: 0.0468 - accuracy: 0.9878 - val_loss: 0.1188 - val_accuracy: 0.9588\n",
      "Epoch 60/150\n",
      "101/101 [==============================] - 0s 1ms/step - loss: 0.0438 - accuracy: 0.9894 - val_loss: 0.1136 - val_accuracy: 0.9616\n",
      "Epoch 61/150\n",
      "101/101 [==============================] - 0s 1ms/step - loss: 0.0403 - accuracy: 0.9903 - val_loss: 0.1201 - val_accuracy: 0.9560\n",
      "Epoch 62/150\n",
      "101/101 [==============================] - 0s 1ms/step - loss: 0.0411 - accuracy: 0.9906 - val_loss: 0.1096 - val_accuracy: 0.9597\n",
      "Epoch 63/150\n",
      "101/101 [==============================] - 0s 1ms/step - loss: 0.0395 - accuracy: 0.9916 - val_loss: 0.1196 - val_accuracy: 0.9579\n",
      "Epoch 64/150\n",
      "101/101 [==============================] - 0s 1ms/step - loss: 0.0393 - accuracy: 0.9916 - val_loss: 0.1097 - val_accuracy: 0.9625\n",
      "Epoch 65/150\n",
      "101/101 [==============================] - 0s 1ms/step - loss: 0.0392 - accuracy: 0.9894 - val_loss: 0.1148 - val_accuracy: 0.9625\n",
      "Epoch 66/150\n",
      "101/101 [==============================] - 0s 2ms/step - loss: 0.0383 - accuracy: 0.9913 - val_loss: 0.1130 - val_accuracy: 0.9597\n",
      "Epoch 67/150\n",
      "101/101 [==============================] - 0s 1ms/step - loss: 0.0358 - accuracy: 0.9934 - val_loss: 0.1218 - val_accuracy: 0.9541\n",
      "Epoch 68/150\n",
      "101/101 [==============================] - 0s 1ms/step - loss: 0.0371 - accuracy: 0.9922 - val_loss: 0.1192 - val_accuracy: 0.9588\n",
      "Epoch 69/150\n",
      "101/101 [==============================] - 0s 1ms/step - loss: 0.0370 - accuracy: 0.9925 - val_loss: 0.1228 - val_accuracy: 0.9569\n",
      "Epoch 70/150\n",
      "101/101 [==============================] - 0s 1ms/step - loss: 0.0392 - accuracy: 0.9913 - val_loss: 0.1225 - val_accuracy: 0.9616\n",
      "Epoch 71/150\n",
      "101/101 [==============================] - 0s 1ms/step - loss: 0.0370 - accuracy: 0.9913 - val_loss: 0.1271 - val_accuracy: 0.9560\n",
      "Epoch 72/150\n",
      "101/101 [==============================] - 0s 1ms/step - loss: 0.0391 - accuracy: 0.9891 - val_loss: 0.1207 - val_accuracy: 0.9560\n",
      "Epoch 73/150\n",
      "101/101 [==============================] - 0s 1ms/step - loss: 0.0356 - accuracy: 0.9913 - val_loss: 0.1258 - val_accuracy: 0.9588\n",
      "Epoch 74/150\n",
      "101/101 [==============================] - 0s 1ms/step - loss: 0.0376 - accuracy: 0.9916 - val_loss: 0.1226 - val_accuracy: 0.9597\n",
      "Epoch 75/150\n",
      "101/101 [==============================] - 0s 1ms/step - loss: 0.0364 - accuracy: 0.9925 - val_loss: 0.1226 - val_accuracy: 0.9588\n",
      "Epoch 76/150\n",
      "101/101 [==============================] - 0s 1ms/step - loss: 0.0349 - accuracy: 0.9928 - val_loss: 0.1267 - val_accuracy: 0.9560\n",
      "Epoch 77/150\n",
      "101/101 [==============================] - 0s 1ms/step - loss: 0.0353 - accuracy: 0.9922 - val_loss: 0.1376 - val_accuracy: 0.9588\n",
      "Epoch 78/150\n",
      "101/101 [==============================] - 0s 1ms/step - loss: 0.0370 - accuracy: 0.9925 - val_loss: 0.1353 - val_accuracy: 0.9560\n",
      "Epoch 79/150\n",
      "101/101 [==============================] - 0s 1ms/step - loss: 0.1208 - accuracy: 0.9700 - val_loss: 0.1453 - val_accuracy: 0.9522\n",
      "Epoch 80/150\n",
      "101/101 [==============================] - 0s 1ms/step - loss: 0.0560 - accuracy: 0.9844 - val_loss: 0.1298 - val_accuracy: 0.9541\n",
      "Epoch 81/150\n",
      "101/101 [==============================] - 0s 1ms/step - loss: 0.0447 - accuracy: 0.9884 - val_loss: 0.1184 - val_accuracy: 0.9607\n",
      "Epoch 82/150\n",
      "101/101 [==============================] - 0s 1ms/step - loss: 0.0382 - accuracy: 0.9922 - val_loss: 0.1196 - val_accuracy: 0.9579\n",
      "Epoch 83/150\n",
      "101/101 [==============================] - 0s 2ms/step - loss: 0.0358 - accuracy: 0.9922 - val_loss: 0.1166 - val_accuracy: 0.9560\n",
      "Epoch 84/150\n",
      "101/101 [==============================] - 0s 1ms/step - loss: 0.0345 - accuracy: 0.9925 - val_loss: 0.1170 - val_accuracy: 0.9607\n",
      "Epoch 85/150\n",
      "101/101 [==============================] - 0s 1ms/step - loss: 0.0344 - accuracy: 0.9925 - val_loss: 0.1249 - val_accuracy: 0.9541\n",
      "Epoch 86/150\n",
      "101/101 [==============================] - 0s 1ms/step - loss: 0.0337 - accuracy: 0.9934 - val_loss: 0.1222 - val_accuracy: 0.9560\n",
      "Epoch 87/150\n",
      "101/101 [==============================] - 0s 1ms/step - loss: 0.0324 - accuracy: 0.9941 - val_loss: 0.1223 - val_accuracy: 0.9579\n",
      "Epoch 88/150\n",
      "101/101 [==============================] - 0s 1ms/step - loss: 0.0339 - accuracy: 0.9925 - val_loss: 0.1204 - val_accuracy: 0.9597\n",
      "Epoch 89/150\n",
      "101/101 [==============================] - 0s 1ms/step - loss: 0.0339 - accuracy: 0.9928 - val_loss: 0.1222 - val_accuracy: 0.9616\n",
      "Epoch 90/150\n",
      "101/101 [==============================] - 0s 1ms/step - loss: 0.0331 - accuracy: 0.9928 - val_loss: 0.1255 - val_accuracy: 0.9597\n",
      "Epoch 91/150\n",
      "101/101 [==============================] - 0s 1ms/step - loss: 0.0346 - accuracy: 0.9934 - val_loss: 0.1273 - val_accuracy: 0.9597\n",
      "Epoch 92/150\n",
      "101/101 [==============================] - 0s 1ms/step - loss: 0.0325 - accuracy: 0.9938 - val_loss: 0.1202 - val_accuracy: 0.9597\n",
      "Epoch 93/150\n",
      "101/101 [==============================] - 0s 1ms/step - loss: 0.0331 - accuracy: 0.9931 - val_loss: 0.1339 - val_accuracy: 0.9597\n",
      "Epoch 94/150\n",
      "101/101 [==============================] - 0s 1ms/step - loss: 0.0395 - accuracy: 0.9897 - val_loss: 0.1574 - val_accuracy: 0.9532\n",
      "Epoch 95/150\n",
      "101/101 [==============================] - 0s 1ms/step - loss: 0.0446 - accuracy: 0.9891 - val_loss: 0.1196 - val_accuracy: 0.9597\n",
      "Epoch 96/150\n",
      "101/101 [==============================] - 0s 1ms/step - loss: 0.0377 - accuracy: 0.9897 - val_loss: 0.1319 - val_accuracy: 0.9569\n",
      "Epoch 97/150\n",
      "101/101 [==============================] - 0s 1ms/step - loss: 0.0363 - accuracy: 0.9922 - val_loss: 0.1456 - val_accuracy: 0.9541\n",
      "Epoch 98/150\n",
      "101/101 [==============================] - 0s 2ms/step - loss: 0.0408 - accuracy: 0.9900 - val_loss: 0.1369 - val_accuracy: 0.9579\n",
      "Epoch 99/150\n",
      "101/101 [==============================] - 0s 1ms/step - loss: 0.0402 - accuracy: 0.9913 - val_loss: 0.1471 - val_accuracy: 0.9625\n",
      "Epoch 100/150\n",
      "101/101 [==============================] - 0s 1ms/step - loss: 0.0444 - accuracy: 0.9869 - val_loss: 0.1464 - val_accuracy: 0.9541\n",
      "Epoch 101/150\n",
      "101/101 [==============================] - 0s 1ms/step - loss: 0.0382 - accuracy: 0.9900 - val_loss: 0.1227 - val_accuracy: 0.9625\n",
      "Epoch 102/150\n",
      "101/101 [==============================] - 0s 1ms/step - loss: 0.0329 - accuracy: 0.9925 - val_loss: 0.1144 - val_accuracy: 0.9625\n",
      "Epoch 103/150\n",
      "101/101 [==============================] - 0s 1ms/step - loss: 0.0319 - accuracy: 0.9938 - val_loss: 0.1346 - val_accuracy: 0.9569\n",
      "Epoch 104/150\n",
      "101/101 [==============================] - 0s 1ms/step - loss: 0.0314 - accuracy: 0.9922 - val_loss: 0.1269 - val_accuracy: 0.9588\n",
      "Epoch 105/150\n",
      "101/101 [==============================] - 0s 1ms/step - loss: 0.0412 - accuracy: 0.9897 - val_loss: 0.1186 - val_accuracy: 0.9597\n",
      "Epoch 106/150\n",
      "101/101 [==============================] - 0s 1ms/step - loss: 0.0321 - accuracy: 0.9928 - val_loss: 0.1274 - val_accuracy: 0.9588\n",
      "Epoch 107/150\n",
      "101/101 [==============================] - 0s 1ms/step - loss: 0.0319 - accuracy: 0.9931 - val_loss: 0.1363 - val_accuracy: 0.9607\n",
      "Epoch 108/150\n",
      "101/101 [==============================] - 0s 1ms/step - loss: 0.0309 - accuracy: 0.9938 - val_loss: 0.1297 - val_accuracy: 0.9579\n",
      "Epoch 109/150\n",
      "101/101 [==============================] - 0s 1ms/step - loss: 0.0299 - accuracy: 0.9944 - val_loss: 0.1335 - val_accuracy: 0.9588\n",
      "Epoch 110/150\n",
      "101/101 [==============================] - 0s 1ms/step - loss: 0.0304 - accuracy: 0.9938 - val_loss: 0.1549 - val_accuracy: 0.9560\n",
      "Epoch 111/150\n",
      "101/101 [==============================] - 0s 1ms/step - loss: 0.0463 - accuracy: 0.9875 - val_loss: 0.1494 - val_accuracy: 0.9569\n",
      "Epoch 112/150\n",
      "101/101 [==============================] - 0s 1ms/step - loss: 0.0340 - accuracy: 0.9922 - val_loss: 0.1379 - val_accuracy: 0.9551\n",
      "Epoch 113/150\n",
      "101/101 [==============================] - 0s 2ms/step - loss: 0.0333 - accuracy: 0.9928 - val_loss: 0.1276 - val_accuracy: 0.9616\n",
      "Epoch 114/150\n",
      "101/101 [==============================] - 0s 1ms/step - loss: 0.0294 - accuracy: 0.9941 - val_loss: 0.1459 - val_accuracy: 0.9541\n",
      "Epoch 115/150\n",
      "101/101 [==============================] - 0s 1ms/step - loss: 0.0280 - accuracy: 0.9950 - val_loss: 0.1428 - val_accuracy: 0.9541\n",
      "Epoch 116/150\n",
      "101/101 [==============================] - 0s 1ms/step - loss: 0.0314 - accuracy: 0.9934 - val_loss: 0.1555 - val_accuracy: 0.9560\n",
      "Epoch 117/150\n",
      "101/101 [==============================] - 0s 1ms/step - loss: 0.0354 - accuracy: 0.9919 - val_loss: 0.1490 - val_accuracy: 0.9569\n",
      "Epoch 118/150\n",
      "101/101 [==============================] - 0s 1ms/step - loss: 0.0484 - accuracy: 0.9884 - val_loss: 0.1532 - val_accuracy: 0.9532\n",
      "Epoch 119/150\n",
      "101/101 [==============================] - 0s 1ms/step - loss: 0.0373 - accuracy: 0.9906 - val_loss: 0.1413 - val_accuracy: 0.9551\n",
      "Epoch 120/150\n",
      "101/101 [==============================] - 0s 1ms/step - loss: 0.0317 - accuracy: 0.9931 - val_loss: 0.1288 - val_accuracy: 0.9616\n",
      "Epoch 121/150\n",
      "101/101 [==============================] - 0s 1ms/step - loss: 0.0314 - accuracy: 0.9925 - val_loss: 0.1319 - val_accuracy: 0.9597\n",
      "Epoch 122/150\n",
      "101/101 [==============================] - 0s 1ms/step - loss: 0.0337 - accuracy: 0.9919 - val_loss: 0.1303 - val_accuracy: 0.9607\n",
      "Epoch 123/150\n",
      "101/101 [==============================] - 0s 1ms/step - loss: 0.0286 - accuracy: 0.9944 - val_loss: 0.1394 - val_accuracy: 0.9579\n",
      "Epoch 124/150\n",
      "101/101 [==============================] - 0s 1ms/step - loss: 0.0278 - accuracy: 0.9953 - val_loss: 0.1413 - val_accuracy: 0.9616\n",
      "Epoch 125/150\n",
      "101/101 [==============================] - 0s 1ms/step - loss: 0.0278 - accuracy: 0.9941 - val_loss: 0.1428 - val_accuracy: 0.9569\n",
      "Epoch 126/150\n",
      "101/101 [==============================] - 0s 1ms/step - loss: 0.0284 - accuracy: 0.9947 - val_loss: 0.1420 - val_accuracy: 0.9625\n",
      "Epoch 127/150\n",
      "101/101 [==============================] - 0s 2ms/step - loss: 0.0269 - accuracy: 0.9947 - val_loss: 0.1453 - val_accuracy: 0.9579\n",
      "Epoch 128/150\n",
      "101/101 [==============================] - 0s 1ms/step - loss: 0.0270 - accuracy: 0.9950 - val_loss: 0.1522 - val_accuracy: 0.9560\n",
      "Epoch 129/150\n",
      "101/101 [==============================] - 0s 1ms/step - loss: 0.0273 - accuracy: 0.9947 - val_loss: 0.1640 - val_accuracy: 0.9579\n",
      "Epoch 130/150\n",
      "101/101 [==============================] - 0s 1ms/step - loss: 0.0335 - accuracy: 0.9916 - val_loss: 0.1475 - val_accuracy: 0.9579\n",
      "Epoch 131/150\n",
      "101/101 [==============================] - 0s 1ms/step - loss: 0.0276 - accuracy: 0.9944 - val_loss: 0.1542 - val_accuracy: 0.9569\n",
      "Epoch 132/150\n",
      "101/101 [==============================] - 0s 1ms/step - loss: 0.0300 - accuracy: 0.9931 - val_loss: 0.1431 - val_accuracy: 0.9588\n",
      "Epoch 133/150\n",
      "101/101 [==============================] - 0s 1ms/step - loss: 0.0315 - accuracy: 0.9925 - val_loss: 0.1608 - val_accuracy: 0.9579\n",
      "Epoch 134/150\n",
      "101/101 [==============================] - 0s 1ms/step - loss: 0.0288 - accuracy: 0.9934 - val_loss: 0.1550 - val_accuracy: 0.9579\n",
      "Epoch 135/150\n",
      "101/101 [==============================] - 0s 1ms/step - loss: 0.0312 - accuracy: 0.9931 - val_loss: 0.1584 - val_accuracy: 0.9588\n",
      "Epoch 136/150\n",
      "101/101 [==============================] - 0s 1ms/step - loss: 0.0325 - accuracy: 0.9925 - val_loss: 0.1658 - val_accuracy: 0.9541\n",
      "Epoch 137/150\n",
      "101/101 [==============================] - 0s 1ms/step - loss: 0.0440 - accuracy: 0.9881 - val_loss: 0.1507 - val_accuracy: 0.9560\n",
      "Epoch 138/150\n",
      "101/101 [==============================] - 0s 1ms/step - loss: 0.0409 - accuracy: 0.9900 - val_loss: 0.1648 - val_accuracy: 0.9551\n",
      "Epoch 139/150\n",
      "101/101 [==============================] - 0s 1ms/step - loss: 0.0323 - accuracy: 0.9928 - val_loss: 0.1510 - val_accuracy: 0.9569\n",
      "Epoch 140/150\n",
      "101/101 [==============================] - 0s 1ms/step - loss: 0.0294 - accuracy: 0.9938 - val_loss: 0.1328 - val_accuracy: 0.9597\n",
      "Epoch 141/150\n",
      "101/101 [==============================] - 0s 2ms/step - loss: 0.0281 - accuracy: 0.9941 - val_loss: 0.1450 - val_accuracy: 0.9560\n",
      "Epoch 142/150\n",
      "101/101 [==============================] - 0s 1ms/step - loss: 0.0297 - accuracy: 0.9928 - val_loss: 0.1493 - val_accuracy: 0.9607\n",
      "Epoch 143/150\n",
      "101/101 [==============================] - 0s 1ms/step - loss: 0.0775 - accuracy: 0.9825 - val_loss: 0.1421 - val_accuracy: 0.9569\n",
      "Epoch 144/150\n",
      "101/101 [==============================] - 0s 1ms/step - loss: 0.0337 - accuracy: 0.9916 - val_loss: 0.1397 - val_accuracy: 0.9569\n",
      "Epoch 145/150\n",
      "101/101 [==============================] - 0s 1ms/step - loss: 0.0283 - accuracy: 0.9947 - val_loss: 0.1278 - val_accuracy: 0.9588\n",
      "Epoch 146/150\n",
      "101/101 [==============================] - 0s 1ms/step - loss: 0.0266 - accuracy: 0.9950 - val_loss: 0.1313 - val_accuracy: 0.9551\n",
      "Epoch 147/150\n",
      "101/101 [==============================] - 0s 1ms/step - loss: 0.0260 - accuracy: 0.9953 - val_loss: 0.1291 - val_accuracy: 0.9588\n",
      "Epoch 148/150\n",
      "101/101 [==============================] - 0s 1ms/step - loss: 0.0257 - accuracy: 0.9956 - val_loss: 0.1598 - val_accuracy: 0.9588\n",
      "Epoch 149/150\n",
      "101/101 [==============================] - 0s 1ms/step - loss: 0.0302 - accuracy: 0.9925 - val_loss: 0.1522 - val_accuracy: 0.9569\n",
      "Epoch 150/150\n",
      "101/101 [==============================] - 0s 1ms/step - loss: 0.0263 - accuracy: 0.9953 - val_loss: 0.1454 - val_accuracy: 0.9579\n"
     ]
    }
   ],
   "source": [
    "# Train the model\n",
    "num_epochs = 150\n",
    "history = advanced_nn.fit(\n",
    "    X_train_scaled,\n",
    "    y_train,\n",
    "    epochs=num_epochs,\n",
    "    batch_size=32,\n",
    "    validation_data=(X_test_scaled, y_test),\n",
    "    verbose=1\n",
    ")"
   ]
  },
  {
   "cell_type": "code",
   "execution_count": 28,
   "metadata": {},
   "outputs": [
    {
     "name": "stdout",
     "output_type": "stream",
     "text": [
      "34/34 - 0s - loss: 0.1454 - accuracy: 0.9579 - 39ms/epoch - 1ms/step\n",
      "Loss: 0.14542284607887268, Accuracy: 0.9578651785850525\n"
     ]
    }
   ],
   "source": [
    "# Evaluate the model using the test data\n",
    "model_loss, model_accuracy = advanced_nn.evaluate(X_test_scaled, y_test, verbose=2)\n",
    "print(f\"Loss: {model_loss}, Accuracy: {model_accuracy}\")\n"
   ]
  },
  {
   "cell_type": "code",
   "execution_count": 39,
   "metadata": {},
   "outputs": [],
   "source": [
    "import pandas as pd\n",
    "\n",
    "# Capture the model summaries as strings\n",
    "from io import StringIO\n",
    "import sys\n",
    "\n",
    "def get_model_summary(model):\n",
    "    stream = StringIO()\n",
    "    sys.stdout = stream\n",
    "    model.summary()\n",
    "    sys.stdout = sys.__stdout__\n",
    "    return stream.getvalue()\n",
    "\n",
    "# Get model summaries\n",
    "nn_summary = get_model_summary(nn)\n",
    "optimized_nn_summary = get_model_summary(optimized_nn)\n",
    "advanced_nn_summary = get_model_summary(advanced_nn)\n",
    "\n",
    "# Data for each model\n",
    "data = {\n",
    "    'Model': ['nn', 'optimized_nn', 'advanced_nn'],\n",
    "    'Summary': [nn_summary, optimized_nn_summary, advanced_nn_summary],\n",
    "    'Loss': [0.1478002965450287, 1.0808980464935303, 0.11039558053016663],\n",
    "    'Accuracy': [0.9700374603271484, 0.6385768055915833, 0.9691011309623718]\n",
    "}\n",
    "\n",
    "# Convert the data to a DataFrame\n",
    "df = pd.DataFrame(data)\n",
    "\n",
    "# Save to CSV\n",
    "df.to_csv('Deep_model_comparison.csv', index=False)\n"
   ]
  },
  {
   "cell_type": "code",
   "execution_count": 43,
   "metadata": {},
   "outputs": [
    {
     "data": {
      "application/vnd.plotly.v1+json": {
       "config": {
        "plotlyServerURL": "https://plot.ly"
       },
       "data": [
        {
         "hoverinfo": "y",
         "hovertemplate": "<b>Model</b>: %{x}<br><b>Accuracy</b>: %{y:.2f}%<extra></extra>",
         "marker": {
          "color": [
           "blue",
           "green",
           "red"
          ]
         },
         "name": "Accuracy",
         "text": [
          "97.00374603271484",
          "63.85768055915833",
          "96.91011309623718"
         ],
         "textposition": "auto",
         "type": "bar",
         "x": [
          "nn",
          "optimized_nn",
          "advanced_nn"
         ],
         "y": [
          97.00374603271484,
          63.85768055915833,
          96.91011309623718
         ]
        },
        {
         "hoverinfo": "y",
         "hovertemplate": "<b>Model</b>: %{x}<br><b>Loss</b>: %{y:.2f}%<extra></extra>",
         "marker": {
          "color": [
           "lightblue",
           "lightgreen",
           "lightcoral"
          ]
         },
         "name": "Loss",
         "text": [
          "14.78002965450287",
          "108.08980464935303",
          "11.039558053016663"
         ],
         "textposition": "auto",
         "type": "bar",
         "x": [
          "nn",
          "optimized_nn",
          "advanced_nn"
         ],
         "y": [
          14.78002965450287,
          108.08980464935303,
          11.039558053016663
         ]
        }
       ],
       "layout": {
        "barmode": "group",
        "template": {
         "data": {
          "bar": [
           {
            "error_x": {
             "color": "#2a3f5f"
            },
            "error_y": {
             "color": "#2a3f5f"
            },
            "marker": {
             "line": {
              "color": "#E5ECF6",
              "width": 0.5
             },
             "pattern": {
              "fillmode": "overlay",
              "size": 10,
              "solidity": 0.2
             }
            },
            "type": "bar"
           }
          ],
          "barpolar": [
           {
            "marker": {
             "line": {
              "color": "#E5ECF6",
              "width": 0.5
             },
             "pattern": {
              "fillmode": "overlay",
              "size": 10,
              "solidity": 0.2
             }
            },
            "type": "barpolar"
           }
          ],
          "carpet": [
           {
            "aaxis": {
             "endlinecolor": "#2a3f5f",
             "gridcolor": "white",
             "linecolor": "white",
             "minorgridcolor": "white",
             "startlinecolor": "#2a3f5f"
            },
            "baxis": {
             "endlinecolor": "#2a3f5f",
             "gridcolor": "white",
             "linecolor": "white",
             "minorgridcolor": "white",
             "startlinecolor": "#2a3f5f"
            },
            "type": "carpet"
           }
          ],
          "choropleth": [
           {
            "colorbar": {
             "outlinewidth": 0,
             "ticks": ""
            },
            "type": "choropleth"
           }
          ],
          "contour": [
           {
            "colorbar": {
             "outlinewidth": 0,
             "ticks": ""
            },
            "colorscale": [
             [
              0,
              "#0d0887"
             ],
             [
              0.1111111111111111,
              "#46039f"
             ],
             [
              0.2222222222222222,
              "#7201a8"
             ],
             [
              0.3333333333333333,
              "#9c179e"
             ],
             [
              0.4444444444444444,
              "#bd3786"
             ],
             [
              0.5555555555555556,
              "#d8576b"
             ],
             [
              0.6666666666666666,
              "#ed7953"
             ],
             [
              0.7777777777777778,
              "#fb9f3a"
             ],
             [
              0.8888888888888888,
              "#fdca26"
             ],
             [
              1,
              "#f0f921"
             ]
            ],
            "type": "contour"
           }
          ],
          "contourcarpet": [
           {
            "colorbar": {
             "outlinewidth": 0,
             "ticks": ""
            },
            "type": "contourcarpet"
           }
          ],
          "heatmap": [
           {
            "colorbar": {
             "outlinewidth": 0,
             "ticks": ""
            },
            "colorscale": [
             [
              0,
              "#0d0887"
             ],
             [
              0.1111111111111111,
              "#46039f"
             ],
             [
              0.2222222222222222,
              "#7201a8"
             ],
             [
              0.3333333333333333,
              "#9c179e"
             ],
             [
              0.4444444444444444,
              "#bd3786"
             ],
             [
              0.5555555555555556,
              "#d8576b"
             ],
             [
              0.6666666666666666,
              "#ed7953"
             ],
             [
              0.7777777777777778,
              "#fb9f3a"
             ],
             [
              0.8888888888888888,
              "#fdca26"
             ],
             [
              1,
              "#f0f921"
             ]
            ],
            "type": "heatmap"
           }
          ],
          "heatmapgl": [
           {
            "colorbar": {
             "outlinewidth": 0,
             "ticks": ""
            },
            "colorscale": [
             [
              0,
              "#0d0887"
             ],
             [
              0.1111111111111111,
              "#46039f"
             ],
             [
              0.2222222222222222,
              "#7201a8"
             ],
             [
              0.3333333333333333,
              "#9c179e"
             ],
             [
              0.4444444444444444,
              "#bd3786"
             ],
             [
              0.5555555555555556,
              "#d8576b"
             ],
             [
              0.6666666666666666,
              "#ed7953"
             ],
             [
              0.7777777777777778,
              "#fb9f3a"
             ],
             [
              0.8888888888888888,
              "#fdca26"
             ],
             [
              1,
              "#f0f921"
             ]
            ],
            "type": "heatmapgl"
           }
          ],
          "histogram": [
           {
            "marker": {
             "pattern": {
              "fillmode": "overlay",
              "size": 10,
              "solidity": 0.2
             }
            },
            "type": "histogram"
           }
          ],
          "histogram2d": [
           {
            "colorbar": {
             "outlinewidth": 0,
             "ticks": ""
            },
            "colorscale": [
             [
              0,
              "#0d0887"
             ],
             [
              0.1111111111111111,
              "#46039f"
             ],
             [
              0.2222222222222222,
              "#7201a8"
             ],
             [
              0.3333333333333333,
              "#9c179e"
             ],
             [
              0.4444444444444444,
              "#bd3786"
             ],
             [
              0.5555555555555556,
              "#d8576b"
             ],
             [
              0.6666666666666666,
              "#ed7953"
             ],
             [
              0.7777777777777778,
              "#fb9f3a"
             ],
             [
              0.8888888888888888,
              "#fdca26"
             ],
             [
              1,
              "#f0f921"
             ]
            ],
            "type": "histogram2d"
           }
          ],
          "histogram2dcontour": [
           {
            "colorbar": {
             "outlinewidth": 0,
             "ticks": ""
            },
            "colorscale": [
             [
              0,
              "#0d0887"
             ],
             [
              0.1111111111111111,
              "#46039f"
             ],
             [
              0.2222222222222222,
              "#7201a8"
             ],
             [
              0.3333333333333333,
              "#9c179e"
             ],
             [
              0.4444444444444444,
              "#bd3786"
             ],
             [
              0.5555555555555556,
              "#d8576b"
             ],
             [
              0.6666666666666666,
              "#ed7953"
             ],
             [
              0.7777777777777778,
              "#fb9f3a"
             ],
             [
              0.8888888888888888,
              "#fdca26"
             ],
             [
              1,
              "#f0f921"
             ]
            ],
            "type": "histogram2dcontour"
           }
          ],
          "mesh3d": [
           {
            "colorbar": {
             "outlinewidth": 0,
             "ticks": ""
            },
            "type": "mesh3d"
           }
          ],
          "parcoords": [
           {
            "line": {
             "colorbar": {
              "outlinewidth": 0,
              "ticks": ""
             }
            },
            "type": "parcoords"
           }
          ],
          "pie": [
           {
            "automargin": true,
            "type": "pie"
           }
          ],
          "scatter": [
           {
            "fillpattern": {
             "fillmode": "overlay",
             "size": 10,
             "solidity": 0.2
            },
            "type": "scatter"
           }
          ],
          "scatter3d": [
           {
            "line": {
             "colorbar": {
              "outlinewidth": 0,
              "ticks": ""
             }
            },
            "marker": {
             "colorbar": {
              "outlinewidth": 0,
              "ticks": ""
             }
            },
            "type": "scatter3d"
           }
          ],
          "scattercarpet": [
           {
            "marker": {
             "colorbar": {
              "outlinewidth": 0,
              "ticks": ""
             }
            },
            "type": "scattercarpet"
           }
          ],
          "scattergeo": [
           {
            "marker": {
             "colorbar": {
              "outlinewidth": 0,
              "ticks": ""
             }
            },
            "type": "scattergeo"
           }
          ],
          "scattergl": [
           {
            "marker": {
             "colorbar": {
              "outlinewidth": 0,
              "ticks": ""
             }
            },
            "type": "scattergl"
           }
          ],
          "scattermapbox": [
           {
            "marker": {
             "colorbar": {
              "outlinewidth": 0,
              "ticks": ""
             }
            },
            "type": "scattermapbox"
           }
          ],
          "scatterpolar": [
           {
            "marker": {
             "colorbar": {
              "outlinewidth": 0,
              "ticks": ""
             }
            },
            "type": "scatterpolar"
           }
          ],
          "scatterpolargl": [
           {
            "marker": {
             "colorbar": {
              "outlinewidth": 0,
              "ticks": ""
             }
            },
            "type": "scatterpolargl"
           }
          ],
          "scatterternary": [
           {
            "marker": {
             "colorbar": {
              "outlinewidth": 0,
              "ticks": ""
             }
            },
            "type": "scatterternary"
           }
          ],
          "surface": [
           {
            "colorbar": {
             "outlinewidth": 0,
             "ticks": ""
            },
            "colorscale": [
             [
              0,
              "#0d0887"
             ],
             [
              0.1111111111111111,
              "#46039f"
             ],
             [
              0.2222222222222222,
              "#7201a8"
             ],
             [
              0.3333333333333333,
              "#9c179e"
             ],
             [
              0.4444444444444444,
              "#bd3786"
             ],
             [
              0.5555555555555556,
              "#d8576b"
             ],
             [
              0.6666666666666666,
              "#ed7953"
             ],
             [
              0.7777777777777778,
              "#fb9f3a"
             ],
             [
              0.8888888888888888,
              "#fdca26"
             ],
             [
              1,
              "#f0f921"
             ]
            ],
            "type": "surface"
           }
          ],
          "table": [
           {
            "cells": {
             "fill": {
              "color": "#EBF0F8"
             },
             "line": {
              "color": "white"
             }
            },
            "header": {
             "fill": {
              "color": "#C8D4E3"
             },
             "line": {
              "color": "white"
             }
            },
            "type": "table"
           }
          ]
         },
         "layout": {
          "annotationdefaults": {
           "arrowcolor": "#2a3f5f",
           "arrowhead": 0,
           "arrowwidth": 1
          },
          "autotypenumbers": "strict",
          "coloraxis": {
           "colorbar": {
            "outlinewidth": 0,
            "ticks": ""
           }
          },
          "colorscale": {
           "diverging": [
            [
             0,
             "#8e0152"
            ],
            [
             0.1,
             "#c51b7d"
            ],
            [
             0.2,
             "#de77ae"
            ],
            [
             0.3,
             "#f1b6da"
            ],
            [
             0.4,
             "#fde0ef"
            ],
            [
             0.5,
             "#f7f7f7"
            ],
            [
             0.6,
             "#e6f5d0"
            ],
            [
             0.7,
             "#b8e186"
            ],
            [
             0.8,
             "#7fbc41"
            ],
            [
             0.9,
             "#4d9221"
            ],
            [
             1,
             "#276419"
            ]
           ],
           "sequential": [
            [
             0,
             "#0d0887"
            ],
            [
             0.1111111111111111,
             "#46039f"
            ],
            [
             0.2222222222222222,
             "#7201a8"
            ],
            [
             0.3333333333333333,
             "#9c179e"
            ],
            [
             0.4444444444444444,
             "#bd3786"
            ],
            [
             0.5555555555555556,
             "#d8576b"
            ],
            [
             0.6666666666666666,
             "#ed7953"
            ],
            [
             0.7777777777777778,
             "#fb9f3a"
            ],
            [
             0.8888888888888888,
             "#fdca26"
            ],
            [
             1,
             "#f0f921"
            ]
           ],
           "sequentialminus": [
            [
             0,
             "#0d0887"
            ],
            [
             0.1111111111111111,
             "#46039f"
            ],
            [
             0.2222222222222222,
             "#7201a8"
            ],
            [
             0.3333333333333333,
             "#9c179e"
            ],
            [
             0.4444444444444444,
             "#bd3786"
            ],
            [
             0.5555555555555556,
             "#d8576b"
            ],
            [
             0.6666666666666666,
             "#ed7953"
            ],
            [
             0.7777777777777778,
             "#fb9f3a"
            ],
            [
             0.8888888888888888,
             "#fdca26"
            ],
            [
             1,
             "#f0f921"
            ]
           ]
          },
          "colorway": [
           "#636efa",
           "#EF553B",
           "#00cc96",
           "#ab63fa",
           "#FFA15A",
           "#19d3f3",
           "#FF6692",
           "#B6E880",
           "#FF97FF",
           "#FECB52"
          ],
          "font": {
           "color": "#2a3f5f"
          },
          "geo": {
           "bgcolor": "white",
           "lakecolor": "white",
           "landcolor": "#E5ECF6",
           "showlakes": true,
           "showland": true,
           "subunitcolor": "white"
          },
          "hoverlabel": {
           "align": "left"
          },
          "hovermode": "closest",
          "mapbox": {
           "style": "light"
          },
          "paper_bgcolor": "white",
          "plot_bgcolor": "#E5ECF6",
          "polar": {
           "angularaxis": {
            "gridcolor": "white",
            "linecolor": "white",
            "ticks": ""
           },
           "bgcolor": "#E5ECF6",
           "radialaxis": {
            "gridcolor": "white",
            "linecolor": "white",
            "ticks": ""
           }
          },
          "scene": {
           "xaxis": {
            "backgroundcolor": "#E5ECF6",
            "gridcolor": "white",
            "gridwidth": 2,
            "linecolor": "white",
            "showbackground": true,
            "ticks": "",
            "zerolinecolor": "white"
           },
           "yaxis": {
            "backgroundcolor": "#E5ECF6",
            "gridcolor": "white",
            "gridwidth": 2,
            "linecolor": "white",
            "showbackground": true,
            "ticks": "",
            "zerolinecolor": "white"
           },
           "zaxis": {
            "backgroundcolor": "#E5ECF6",
            "gridcolor": "white",
            "gridwidth": 2,
            "linecolor": "white",
            "showbackground": true,
            "ticks": "",
            "zerolinecolor": "white"
           }
          },
          "shapedefaults": {
           "line": {
            "color": "#2a3f5f"
           }
          },
          "ternary": {
           "aaxis": {
            "gridcolor": "white",
            "linecolor": "white",
            "ticks": ""
           },
           "baxis": {
            "gridcolor": "white",
            "linecolor": "white",
            "ticks": ""
           },
           "bgcolor": "#E5ECF6",
           "caxis": {
            "gridcolor": "white",
            "linecolor": "white",
            "ticks": ""
           }
          },
          "title": {
           "x": 0.05
          },
          "xaxis": {
           "automargin": true,
           "gridcolor": "white",
           "linecolor": "white",
           "ticks": "",
           "title": {
            "standoff": 15
           },
           "zerolinecolor": "white",
           "zerolinewidth": 2
          },
          "yaxis": {
           "automargin": true,
           "gridcolor": "white",
           "linecolor": "white",
           "ticks": "",
           "title": {
            "standoff": 15
           },
           "zerolinecolor": "white",
           "zerolinewidth": 2
          }
         }
        },
        "title": {
         "text": "Comparison of Accuracy and Loss for Models"
        }
       }
      }
     },
     "metadata": {},
     "output_type": "display_data"
    }
   ],
   "source": [
    "import plotly.graph_objects as go\n",
    "\n",
    "# Data for each model\n",
    "models = ['nn', 'optimized_nn', 'advanced_nn']\n",
    "accuracies = [97.00374603271484, 63.85768055915833, 96.91011309623718]  \n",
    "losses = [14.78002965450287, 108.08980464935303, 11.039558053016663]  \n",
    "\n",
    "# Create traces for accuracies and losses\n",
    "trace1 = go.Bar(\n",
    "    x=models,\n",
    "    y=accuracies,\n",
    "    name='Accuracy',\n",
    "    marker=dict(color=['blue', 'green', 'red']),\n",
    "    hoverinfo='y',\n",
    "    text=accuracies,\n",
    "    textposition='auto',\n",
    "    hovertemplate=\n",
    "    '<b>Model</b>: %{x}<br><b>Accuracy</b>: %{y:.2f}%<extra></extra>'  # Display value as percentage\n",
    ")\n",
    "\n",
    "trace2 = go.Bar(\n",
    "    x=models,\n",
    "    y=losses,\n",
    "    name='Loss',\n",
    "    marker=dict(color=['lightblue', 'lightgreen', 'lightcoral']),\n",
    "    hoverinfo='y',\n",
    "    text=losses,\n",
    "    textposition='auto',\n",
    "    hovertemplate=\n",
    "    '<b>Model</b>: %{x}<br><b>Loss</b>: %{y:.2f}%<extra></extra>'  # Display value as percentage\n",
    ")\n",
    "\n",
    "# Create the layout and add traces\n",
    "layout = go.Layout(\n",
    "    title='Comparison of Accuracy and Loss for Models',\n",
    "    barmode='group'\n",
    ")\n",
    "\n",
    "fig = go.Figure(data=[trace1, trace2], layout=layout)\n",
    "\n",
    "# Show plot\n",
    "fig.show()\n",
    "\n"
   ]
  }
 ],
 "metadata": {
  "kernelspec": {
   "display_name": "dev",
   "language": "python",
   "name": "python3"
  },
  "language_info": {
   "codemirror_mode": {
    "name": "ipython",
    "version": 3
   },
   "file_extension": ".py",
   "mimetype": "text/x-python",
   "name": "python",
   "nbconvert_exporter": "python",
   "pygments_lexer": "ipython3",
   "version": "3.10.12"
  },
  "orig_nbformat": 4
 },
 "nbformat": 4,
 "nbformat_minor": 2
}
