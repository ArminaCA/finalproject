{
 "cells": [
  {
   "cell_type": "code",
   "execution_count": 1,
   "metadata": {},
   "outputs": [],
   "source": [
    "# Import our dependencies\n",
    "import pandas as pd\n",
    "import numpy as np\n",
    "import matplotlib.pyplot as plt\n",
    "from sklearn.model_selection import train_test_split\n",
    "from sklearn.preprocessing import StandardScaler, LabelEncoder\n",
    "\n",
    "import tensorflow as tf\n",
    "from tensorflow.keras.models import Sequential\n",
    "from tensorflow.keras.layers import Dense, LeakyReLU\n",
    "from tensorflow.keras.regularizers import l2\n",
    "from tensorflow.keras.optimizers import Adam\n",
    "from tensorflow.keras.callbacks import EarlyStopping\n"
   ]
  },
  {
   "cell_type": "code",
   "execution_count": 2,
   "metadata": {},
   "outputs": [
    {
     "data": {
      "text/html": [
       "<div>\n",
       "<style scoped>\n",
       "    .dataframe tbody tr th:only-of-type {\n",
       "        vertical-align: middle;\n",
       "    }\n",
       "\n",
       "    .dataframe tbody tr th {\n",
       "        vertical-align: top;\n",
       "    }\n",
       "\n",
       "    .dataframe thead th {\n",
       "        text-align: right;\n",
       "    }\n",
       "</style>\n",
       "<table border=\"1\" class=\"dataframe\">\n",
       "  <thead>\n",
       "    <tr style=\"text-align: right;\">\n",
       "      <th></th>\n",
       "      <th>Unnamed: 0</th>\n",
       "      <th>loan_id</th>\n",
       "      <th>no_of_dependents</th>\n",
       "      <th>education</th>\n",
       "      <th>self_employed</th>\n",
       "      <th>income_annum</th>\n",
       "      <th>loan_amount</th>\n",
       "      <th>loan_term</th>\n",
       "      <th>cibil_score</th>\n",
       "      <th>residential_assets_value</th>\n",
       "      <th>commercial_assets_value</th>\n",
       "      <th>luxury_assets_value</th>\n",
       "      <th>bank_asset_value</th>\n",
       "      <th>loan_status</th>\n",
       "    </tr>\n",
       "  </thead>\n",
       "  <tbody>\n",
       "    <tr>\n",
       "      <th>0</th>\n",
       "      <td>0</td>\n",
       "      <td>1</td>\n",
       "      <td>2</td>\n",
       "      <td>Graduate</td>\n",
       "      <td>No</td>\n",
       "      <td>96000</td>\n",
       "      <td>299000</td>\n",
       "      <td>12</td>\n",
       "      <td>778</td>\n",
       "      <td>24000</td>\n",
       "      <td>176000</td>\n",
       "      <td>227000</td>\n",
       "      <td>80000</td>\n",
       "      <td>Approved</td>\n",
       "    </tr>\n",
       "    <tr>\n",
       "      <th>1</th>\n",
       "      <td>1</td>\n",
       "      <td>2</td>\n",
       "      <td>0</td>\n",
       "      <td>Not Graduate</td>\n",
       "      <td>Yes</td>\n",
       "      <td>41000</td>\n",
       "      <td>122000</td>\n",
       "      <td>8</td>\n",
       "      <td>417</td>\n",
       "      <td>27000</td>\n",
       "      <td>22000</td>\n",
       "      <td>88000</td>\n",
       "      <td>33000</td>\n",
       "      <td>Rejected</td>\n",
       "    </tr>\n",
       "    <tr>\n",
       "      <th>2</th>\n",
       "      <td>2</td>\n",
       "      <td>3</td>\n",
       "      <td>3</td>\n",
       "      <td>Graduate</td>\n",
       "      <td>No</td>\n",
       "      <td>91000</td>\n",
       "      <td>297000</td>\n",
       "      <td>20</td>\n",
       "      <td>506</td>\n",
       "      <td>71000</td>\n",
       "      <td>45000</td>\n",
       "      <td>333000</td>\n",
       "      <td>128000</td>\n",
       "      <td>Rejected</td>\n",
       "    </tr>\n",
       "    <tr>\n",
       "      <th>3</th>\n",
       "      <td>3</td>\n",
       "      <td>4</td>\n",
       "      <td>3</td>\n",
       "      <td>Graduate</td>\n",
       "      <td>No</td>\n",
       "      <td>82000</td>\n",
       "      <td>307000</td>\n",
       "      <td>8</td>\n",
       "      <td>467</td>\n",
       "      <td>182000</td>\n",
       "      <td>33000</td>\n",
       "      <td>233000</td>\n",
       "      <td>79000</td>\n",
       "      <td>Rejected</td>\n",
       "    </tr>\n",
       "    <tr>\n",
       "      <th>4</th>\n",
       "      <td>4</td>\n",
       "      <td>5</td>\n",
       "      <td>5</td>\n",
       "      <td>Not Graduate</td>\n",
       "      <td>Yes</td>\n",
       "      <td>98000</td>\n",
       "      <td>242000</td>\n",
       "      <td>20</td>\n",
       "      <td>382</td>\n",
       "      <td>124000</td>\n",
       "      <td>82000</td>\n",
       "      <td>294000</td>\n",
       "      <td>50000</td>\n",
       "      <td>Rejected</td>\n",
       "    </tr>\n",
       "  </tbody>\n",
       "</table>\n",
       "</div>"
      ],
      "text/plain": [
       "   Unnamed: 0  loan_id   no_of_dependents      education  self_employed  \\\n",
       "0           0        1                  2       Graduate             No   \n",
       "1           1        2                  0   Not Graduate            Yes   \n",
       "2           2        3                  3       Graduate             No   \n",
       "3           3        4                  3       Graduate             No   \n",
       "4           4        5                  5   Not Graduate            Yes   \n",
       "\n",
       "    income_annum   loan_amount   loan_term   cibil_score  \\\n",
       "0          96000        299000          12           778   \n",
       "1          41000        122000           8           417   \n",
       "2          91000        297000          20           506   \n",
       "3          82000        307000           8           467   \n",
       "4          98000        242000          20           382   \n",
       "\n",
       "    residential_assets_value   commercial_assets_value   luxury_assets_value  \\\n",
       "0                      24000                    176000                227000   \n",
       "1                      27000                     22000                 88000   \n",
       "2                      71000                     45000                333000   \n",
       "3                     182000                     33000                233000   \n",
       "4                     124000                     82000                294000   \n",
       "\n",
       "    bank_asset_value  loan_status  \n",
       "0              80000     Approved  \n",
       "1              33000     Rejected  \n",
       "2             128000     Rejected  \n",
       "3              79000     Rejected  \n",
       "4              50000     Rejected  "
      ]
     },
     "execution_count": 2,
     "metadata": {},
     "output_type": "execute_result"
    }
   ],
   "source": [
    "# Import and read the loan_data_cleaned.csv.\n",
    "loan_data_df = pd.read_csv(\"./Resources/loan_data_cleaned.csv\")  \n",
    "loan_data_df.head()\n"
   ]
  },
  {
   "cell_type": "code",
   "execution_count": 3,
   "metadata": {},
   "outputs": [
    {
     "name": "stderr",
     "output_type": "stream",
     "text": [
      "C:\\Users\\NCout\\AppData\\Local\\Temp\\ipykernel_17320\\3317597038.py:5: FutureWarning: The default value of numeric_only in DataFrame.mean is deprecated. In a future version, it will default to False. In addition, specifying 'numeric_only=None' is deprecated. Select only valid columns or specify the value of numeric_only to silence this warning.\n",
      "  loan_data_df.fillna(loan_data_df.mean(), inplace=True)\n"
     ]
    }
   ],
   "source": [
    "# Drop loan_id\n",
    "loan_data_df = loan_data_df.drop(\"loan_id\", axis=1)\n",
    "\n",
    "# Handle missing values (if any). \n",
    "loan_data_df.fillna(loan_data_df.mean(), inplace=True)\n"
   ]
  },
  {
   "cell_type": "code",
   "execution_count": 4,
   "metadata": {},
   "outputs": [
    {
     "data": {
      "text/html": [
       "<div>\n",
       "<style scoped>\n",
       "    .dataframe tbody tr th:only-of-type {\n",
       "        vertical-align: middle;\n",
       "    }\n",
       "\n",
       "    .dataframe tbody tr th {\n",
       "        vertical-align: top;\n",
       "    }\n",
       "\n",
       "    .dataframe thead th {\n",
       "        text-align: right;\n",
       "    }\n",
       "</style>\n",
       "<table border=\"1\" class=\"dataframe\">\n",
       "  <thead>\n",
       "    <tr style=\"text-align: right;\">\n",
       "      <th></th>\n",
       "      <th>Unnamed: 0</th>\n",
       "      <th>no_of_dependents</th>\n",
       "      <th>education</th>\n",
       "      <th>self_employed</th>\n",
       "      <th>income_annum</th>\n",
       "      <th>loan_amount</th>\n",
       "      <th>loan_term</th>\n",
       "      <th>cibil_score</th>\n",
       "      <th>residential_assets_value</th>\n",
       "      <th>commercial_assets_value</th>\n",
       "      <th>luxury_assets_value</th>\n",
       "      <th>bank_asset_value</th>\n",
       "      <th>loan_status</th>\n",
       "    </tr>\n",
       "  </thead>\n",
       "  <tbody>\n",
       "    <tr>\n",
       "      <th>0</th>\n",
       "      <td>0</td>\n",
       "      <td>2</td>\n",
       "      <td>Graduate</td>\n",
       "      <td>No</td>\n",
       "      <td>96000</td>\n",
       "      <td>299000</td>\n",
       "      <td>12</td>\n",
       "      <td>778</td>\n",
       "      <td>24000</td>\n",
       "      <td>176000</td>\n",
       "      <td>227000</td>\n",
       "      <td>80000</td>\n",
       "      <td>Approved</td>\n",
       "    </tr>\n",
       "    <tr>\n",
       "      <th>1</th>\n",
       "      <td>1</td>\n",
       "      <td>0</td>\n",
       "      <td>Not Graduate</td>\n",
       "      <td>Yes</td>\n",
       "      <td>41000</td>\n",
       "      <td>122000</td>\n",
       "      <td>8</td>\n",
       "      <td>417</td>\n",
       "      <td>27000</td>\n",
       "      <td>22000</td>\n",
       "      <td>88000</td>\n",
       "      <td>33000</td>\n",
       "      <td>Rejected</td>\n",
       "    </tr>\n",
       "    <tr>\n",
       "      <th>2</th>\n",
       "      <td>2</td>\n",
       "      <td>3</td>\n",
       "      <td>Graduate</td>\n",
       "      <td>No</td>\n",
       "      <td>91000</td>\n",
       "      <td>297000</td>\n",
       "      <td>20</td>\n",
       "      <td>506</td>\n",
       "      <td>71000</td>\n",
       "      <td>45000</td>\n",
       "      <td>333000</td>\n",
       "      <td>128000</td>\n",
       "      <td>Rejected</td>\n",
       "    </tr>\n",
       "    <tr>\n",
       "      <th>3</th>\n",
       "      <td>3</td>\n",
       "      <td>3</td>\n",
       "      <td>Graduate</td>\n",
       "      <td>No</td>\n",
       "      <td>82000</td>\n",
       "      <td>307000</td>\n",
       "      <td>8</td>\n",
       "      <td>467</td>\n",
       "      <td>182000</td>\n",
       "      <td>33000</td>\n",
       "      <td>233000</td>\n",
       "      <td>79000</td>\n",
       "      <td>Rejected</td>\n",
       "    </tr>\n",
       "    <tr>\n",
       "      <th>4</th>\n",
       "      <td>4</td>\n",
       "      <td>5</td>\n",
       "      <td>Not Graduate</td>\n",
       "      <td>Yes</td>\n",
       "      <td>98000</td>\n",
       "      <td>242000</td>\n",
       "      <td>20</td>\n",
       "      <td>382</td>\n",
       "      <td>124000</td>\n",
       "      <td>82000</td>\n",
       "      <td>294000</td>\n",
       "      <td>50000</td>\n",
       "      <td>Rejected</td>\n",
       "    </tr>\n",
       "  </tbody>\n",
       "</table>\n",
       "</div>"
      ],
      "text/plain": [
       "   Unnamed: 0   no_of_dependents      education  self_employed   income_annum  \\\n",
       "0           0                  2       Graduate             No          96000   \n",
       "1           1                  0   Not Graduate            Yes          41000   \n",
       "2           2                  3       Graduate             No          91000   \n",
       "3           3                  3       Graduate             No          82000   \n",
       "4           4                  5   Not Graduate            Yes          98000   \n",
       "\n",
       "    loan_amount   loan_term   cibil_score   residential_assets_value  \\\n",
       "0        299000          12           778                      24000   \n",
       "1        122000           8           417                      27000   \n",
       "2        297000          20           506                      71000   \n",
       "3        307000           8           467                     182000   \n",
       "4        242000          20           382                     124000   \n",
       "\n",
       "    commercial_assets_value   luxury_assets_value   bank_asset_value  \\\n",
       "0                    176000                227000              80000   \n",
       "1                     22000                 88000              33000   \n",
       "2                     45000                333000             128000   \n",
       "3                     33000                233000              79000   \n",
       "4                     82000                294000              50000   \n",
       "\n",
       "   loan_status  \n",
       "0     Approved  \n",
       "1     Rejected  \n",
       "2     Rejected  \n",
       "3     Rejected  \n",
       "4     Rejected  "
      ]
     },
     "execution_count": 4,
     "metadata": {},
     "output_type": "execute_result"
    }
   ],
   "source": [
    "loan_data_df.head()"
   ]
  },
  {
   "cell_type": "code",
   "execution_count": 5,
   "metadata": {},
   "outputs": [
    {
     "name": "stdout",
     "output_type": "stream",
     "text": [
      "Unnamed: 0                   4269\n",
      " no_of_dependents               6\n",
      " education                      2\n",
      " self_employed                  2\n",
      " income_annum                  98\n",
      " loan_amount                  378\n",
      " loan_term                     10\n",
      " cibil_score                  601\n",
      " residential_assets_value     278\n",
      " commercial_assets_value      188\n",
      " luxury_assets_value          379\n",
      " bank_asset_value             146\n",
      " loan_status                    2\n",
      "dtype: int64\n"
     ]
    }
   ],
   "source": [
    "unique_counts = loan_data_df.nunique()\n",
    "print(unique_counts)"
   ]
  },
  {
   "cell_type": "code",
   "execution_count": 6,
   "metadata": {},
   "outputs": [
    {
     "name": "stdout",
     "output_type": "stream",
     "text": [
      "count    4269.000000\n",
      "mean      599.936051\n",
      "std       172.430401\n",
      "min       300.000000\n",
      "25%       453.000000\n",
      "50%       600.000000\n",
      "75%       748.000000\n",
      "max       900.000000\n",
      "Name:  cibil_score, dtype: float64\n"
     ]
    }
   ],
   "source": [
    "# Check the distribution\n",
    "print(loan_data_df[' cibil_score'].describe())\n"
   ]
  },
  {
   "cell_type": "code",
   "execution_count": 7,
   "metadata": {},
   "outputs": [],
   "source": [
    "# Outlier Removal: For numerical column cibil_score\n",
    "loan_data_df[' cibil_score'] = np.log(loan_data_df[' cibil_score'] + 1)"
   ]
  },
  {
   "cell_type": "code",
   "execution_count": 8,
   "metadata": {},
   "outputs": [
    {
     "name": "stdout",
     "output_type": "stream",
     "text": [
      "      Unnamed: 0   no_of_dependents      education  self_employed  \\\n",
      "0              0                  2       Graduate             No   \n",
      "1              1                  0   Not Graduate            Yes   \n",
      "2              2                  3       Graduate             No   \n",
      "3              3                  3       Graduate             No   \n",
      "4              4                  5   Not Graduate            Yes   \n",
      "...          ...                ...            ...            ...   \n",
      "4264        4264                  5       Graduate            Yes   \n",
      "4265        4265                  0   Not Graduate            Yes   \n",
      "4266        4266                  2   Not Graduate             No   \n",
      "4267        4267                  1   Not Graduate             No   \n",
      "4268        4268                  1       Graduate             No   \n",
      "\n",
      "       income_annum   loan_amount   loan_term   cibil_score  \\\n",
      "0             96000        299000          12      6.658011   \n",
      "1             41000        122000           8      6.035481   \n",
      "2             91000        297000          20      6.228511   \n",
      "3             82000        307000           8      6.148468   \n",
      "4             98000        242000          20      5.948035   \n",
      "...             ...           ...         ...           ...   \n",
      "4264          10000         23000          12      5.762051   \n",
      "4265          33000        113000          20      6.327937   \n",
      "4266          65000        239000          18      6.126869   \n",
      "4267          41000        128000           8      6.660575   \n",
      "4268          92000        297000          10      6.410175   \n",
      "\n",
      "       residential_assets_value   commercial_assets_value  \\\n",
      "0                         24000                    176000   \n",
      "1                         27000                     22000   \n",
      "2                         71000                     45000   \n",
      "3                        182000                     33000   \n",
      "4                        124000                     82000   \n",
      "...                         ...                       ...   \n",
      "4264                      28000                      5000   \n",
      "4265                      42000                     29000   \n",
      "4266                      12000                    124000   \n",
      "4267                      82000                      7000   \n",
      "4268                     178000                    118000   \n",
      "\n",
      "       luxury_assets_value   bank_asset_value  loan_status  \n",
      "0                   227000              80000     Approved  \n",
      "1                    88000              33000     Rejected  \n",
      "2                   333000             128000     Rejected  \n",
      "3                   233000              79000     Rejected  \n",
      "4                   294000              50000     Rejected  \n",
      "...                    ...                ...          ...  \n",
      "4264                 33000               8000     Rejected  \n",
      "4265                110000              19000     Approved  \n",
      "4266                181000              73000     Rejected  \n",
      "4267                141000              58000     Approved  \n",
      "4268                357000             120000     Approved  \n",
      "\n",
      "[4269 rows x 13 columns]\n"
     ]
    }
   ],
   "source": [
    "# Convert categorical data to numeric with `pd.get_dummies`\n",
    "application_df = pd.get_dummies(loan_data_df)\n",
    "print(loan_data_df)"
   ]
  },
  {
   "cell_type": "code",
   "execution_count": 9,
   "metadata": {},
   "outputs": [],
   "source": [
    "label_encoders = {}\n",
    "for column in [' education', ' self_employed', ' loan_status']:\n",
    "    le = LabelEncoder()\n",
    "    loan_data_df[column] = le.fit_transform(loan_data_df[column])\n",
    "    label_encoders[column] = le"
   ]
  },
  {
   "cell_type": "code",
   "execution_count": 10,
   "metadata": {},
   "outputs": [],
   "source": [
    "# Splitting the data\n",
    "X = loan_data_df.drop(\" loan_status\", axis=1)\n",
    "y = loan_data_df[\" loan_status\"]\n",
    "\n",
    "X_train, X_test, y_train, y_test = train_test_split(X, y, test_size=0.25, random_state=42)\n",
    "\n",
    "# Standardize the numerical features\n",
    "scaler = StandardScaler()\n",
    "X_train_scaled = scaler.fit_transform(X_train)\n",
    "X_test_scaled = scaler.transform(X_test)"
   ]
  },
  {
   "cell_type": "code",
   "execution_count": 11,
   "metadata": {},
   "outputs": [
    {
     "name": "stdout",
     "output_type": "stream",
     "text": [
      "Model: \"sequential\"\n",
      "_________________________________________________________________\n",
      " Layer (type)                Output Shape              Param #   \n",
      "=================================================================\n",
      " dense (Dense)               (None, 24)                312       \n",
      "                                                                 \n",
      " dropout (Dropout)           (None, 24)                0         \n",
      "                                                                 \n",
      " dense_1 (Dense)             (None, 12)                300       \n",
      "                                                                 \n",
      " dropout_1 (Dropout)         (None, 12)                0         \n",
      "                                                                 \n",
      " dense_2 (Dense)             (None, 1)                 13        \n",
      "                                                                 \n",
      "=================================================================\n",
      "Total params: 625 (2.44 KB)\n",
      "Trainable params: 625 (2.44 KB)\n",
      "Non-trainable params: 0 (0.00 Byte)\n",
      "_________________________________________________________________\n"
     ]
    }
   ],
   "source": [
    "# Define the model - deep neural net, i.e., the number of input features and hidden nodes for each layer.\n",
    "number_input_features = len(X_train_scaled[0])\n",
    "\n",
    "nn = tf.keras.models.Sequential()\n",
    "\n",
    "# First hidden layer with L2 regularization\n",
    "nn.add(tf.keras.layers.Dense(units=number_input_features*2, activation=\"relu\", kernel_regularizer=l2(0.01), input_dim=number_input_features))\n",
    "nn.add(tf.keras.layers.Dropout(0.2))  # 20% dropout\n",
    "\n",
    "# Second hidden layer with L2 regularization\n",
    "nn.add(tf.keras.layers.Dense(units=number_input_features, activation=\"relu\", kernel_regularizer=l2(0.01)))\n",
    "nn.add(tf.keras.layers.Dropout(0.2))  # 20% dropout\n",
    "\n",
    "# Output layer\n",
    "nn.add(tf.keras.layers.Dense(units=1, activation=\"sigmoid\"))\n",
    "\n",
    "# Check the structure of the model\n",
    "nn.summary()\n"
   ]
  },
  {
   "cell_type": "code",
   "execution_count": 12,
   "metadata": {},
   "outputs": [],
   "source": [
    "# Create callback for early stopping\n",
    "early_stopping = EarlyStopping(monitor='val_loss', patience=10, restore_best_weights=True)\n",
    "\n",
    "# Define the optimizer\n",
    "optimizer = Adam(learning_rate=0.001)\n",
    "\n",
    "# Compile the model\n",
    "nn.compile(loss='binary_crossentropy', optimizer=optimizer, metrics=['accuracy'])"
   ]
  },
  {
   "cell_type": "code",
   "execution_count": 13,
   "metadata": {},
   "outputs": [
    {
     "name": "stdout",
     "output_type": "stream",
     "text": [
      "Epoch 1/100\n",
      "101/101 [==============================] - 1s 3ms/step - loss: 0.9582 - accuracy: 0.5773 - val_loss: 0.8235 - val_accuracy: 0.6891\n",
      "Epoch 2/100\n",
      "101/101 [==============================] - 0s 1ms/step - loss: 0.7492 - accuracy: 0.7288 - val_loss: 0.6279 - val_accuracy: 0.8324\n",
      "Epoch 3/100\n",
      "101/101 [==============================] - 0s 1ms/step - loss: 0.5762 - accuracy: 0.8391 - val_loss: 0.4724 - val_accuracy: 0.8923\n",
      "Epoch 4/100\n",
      "101/101 [==============================] - 0s 1ms/step - loss: 0.4501 - accuracy: 0.8957 - val_loss: 0.3917 - val_accuracy: 0.9185\n",
      "Epoch 5/100\n",
      "101/101 [==============================] - 0s 1ms/step - loss: 0.3915 - accuracy: 0.9103 - val_loss: 0.3490 - val_accuracy: 0.9242\n",
      "Epoch 6/100\n",
      "101/101 [==============================] - 0s 1ms/step - loss: 0.3494 - accuracy: 0.9182 - val_loss: 0.3219 - val_accuracy: 0.9213\n",
      "Epoch 7/100\n",
      "101/101 [==============================] - 0s 1ms/step - loss: 0.3341 - accuracy: 0.9185 - val_loss: 0.3031 - val_accuracy: 0.9326\n",
      "Epoch 8/100\n",
      "101/101 [==============================] - 0s 1ms/step - loss: 0.3110 - accuracy: 0.9210 - val_loss: 0.2875 - val_accuracy: 0.9326\n",
      "Epoch 9/100\n",
      "101/101 [==============================] - 0s 1ms/step - loss: 0.3057 - accuracy: 0.9250 - val_loss: 0.2759 - val_accuracy: 0.9326\n",
      "Epoch 10/100\n",
      "101/101 [==============================] - 0s 1ms/step - loss: 0.2943 - accuracy: 0.9241 - val_loss: 0.2676 - val_accuracy: 0.9345\n",
      "Epoch 11/100\n",
      "101/101 [==============================] - 0s 1ms/step - loss: 0.2876 - accuracy: 0.9263 - val_loss: 0.2599 - val_accuracy: 0.9354\n",
      "Epoch 12/100\n",
      "101/101 [==============================] - 0s 1ms/step - loss: 0.2767 - accuracy: 0.9300 - val_loss: 0.2558 - val_accuracy: 0.9307\n",
      "Epoch 13/100\n",
      "101/101 [==============================] - 0s 1ms/step - loss: 0.2787 - accuracy: 0.9235 - val_loss: 0.2500 - val_accuracy: 0.9307\n",
      "Epoch 14/100\n",
      "101/101 [==============================] - 0s 1ms/step - loss: 0.2680 - accuracy: 0.9263 - val_loss: 0.2474 - val_accuracy: 0.9279\n",
      "Epoch 15/100\n",
      "101/101 [==============================] - 0s 1ms/step - loss: 0.2561 - accuracy: 0.9344 - val_loss: 0.2402 - val_accuracy: 0.9363\n",
      "Epoch 16/100\n",
      "101/101 [==============================] - 0s 1ms/step - loss: 0.2602 - accuracy: 0.9322 - val_loss: 0.2387 - val_accuracy: 0.9401\n",
      "Epoch 17/100\n",
      "101/101 [==============================] - 0s 1ms/step - loss: 0.2637 - accuracy: 0.9291 - val_loss: 0.2337 - val_accuracy: 0.9373\n",
      "Epoch 18/100\n",
      "101/101 [==============================] - 0s 1ms/step - loss: 0.2545 - accuracy: 0.9310 - val_loss: 0.2334 - val_accuracy: 0.9373\n",
      "Epoch 19/100\n",
      "101/101 [==============================] - 0s 1ms/step - loss: 0.2547 - accuracy: 0.9322 - val_loss: 0.2349 - val_accuracy: 0.9354\n",
      "Epoch 20/100\n",
      "101/101 [==============================] - 0s 1ms/step - loss: 0.2476 - accuracy: 0.9316 - val_loss: 0.2254 - val_accuracy: 0.9410\n",
      "Epoch 21/100\n",
      "101/101 [==============================] - 0s 1ms/step - loss: 0.2492 - accuracy: 0.9331 - val_loss: 0.2233 - val_accuracy: 0.9429\n",
      "Epoch 22/100\n",
      "101/101 [==============================] - 0s 1ms/step - loss: 0.2426 - accuracy: 0.9378 - val_loss: 0.2216 - val_accuracy: 0.9410\n",
      "Epoch 23/100\n",
      "101/101 [==============================] - 0s 1ms/step - loss: 0.2385 - accuracy: 0.9363 - val_loss: 0.2146 - val_accuracy: 0.9485\n",
      "Epoch 24/100\n",
      "101/101 [==============================] - 0s 1ms/step - loss: 0.2403 - accuracy: 0.9338 - val_loss: 0.2132 - val_accuracy: 0.9410\n",
      "Epoch 25/100\n",
      "101/101 [==============================] - 0s 1ms/step - loss: 0.2421 - accuracy: 0.9294 - val_loss: 0.2098 - val_accuracy: 0.9448\n",
      "Epoch 26/100\n",
      "101/101 [==============================] - 0s 1ms/step - loss: 0.2327 - accuracy: 0.9356 - val_loss: 0.2117 - val_accuracy: 0.9457\n",
      "Epoch 27/100\n",
      "101/101 [==============================] - 0s 1ms/step - loss: 0.2318 - accuracy: 0.9360 - val_loss: 0.2025 - val_accuracy: 0.9457\n",
      "Epoch 28/100\n",
      "101/101 [==============================] - 0s 1ms/step - loss: 0.2332 - accuracy: 0.9375 - val_loss: 0.2043 - val_accuracy: 0.9429\n",
      "Epoch 29/100\n",
      "101/101 [==============================] - 0s 1ms/step - loss: 0.2274 - accuracy: 0.9391 - val_loss: 0.1992 - val_accuracy: 0.9476\n",
      "Epoch 30/100\n",
      "101/101 [==============================] - 0s 2ms/step - loss: 0.2229 - accuracy: 0.9413 - val_loss: 0.2032 - val_accuracy: 0.9401\n",
      "Epoch 31/100\n",
      "101/101 [==============================] - 0s 1ms/step - loss: 0.2278 - accuracy: 0.9350 - val_loss: 0.1982 - val_accuracy: 0.9391\n",
      "Epoch 32/100\n",
      "101/101 [==============================] - 0s 1ms/step - loss: 0.2203 - accuracy: 0.9425 - val_loss: 0.1954 - val_accuracy: 0.9485\n",
      "Epoch 33/100\n",
      "101/101 [==============================] - 0s 1ms/step - loss: 0.2210 - accuracy: 0.9416 - val_loss: 0.1930 - val_accuracy: 0.9513\n",
      "Epoch 34/100\n",
      "101/101 [==============================] - 0s 1ms/step - loss: 0.2209 - accuracy: 0.9397 - val_loss: 0.1935 - val_accuracy: 0.9494\n",
      "Epoch 35/100\n",
      "101/101 [==============================] - 0s 1ms/step - loss: 0.2267 - accuracy: 0.9403 - val_loss: 0.1931 - val_accuracy: 0.9466\n",
      "Epoch 36/100\n",
      "101/101 [==============================] - 0s 1ms/step - loss: 0.2195 - accuracy: 0.9419 - val_loss: 0.1864 - val_accuracy: 0.9522\n",
      "Epoch 37/100\n",
      "101/101 [==============================] - 0s 1ms/step - loss: 0.2137 - accuracy: 0.9466 - val_loss: 0.1876 - val_accuracy: 0.9485\n",
      "Epoch 38/100\n",
      "101/101 [==============================] - 0s 1ms/step - loss: 0.2155 - accuracy: 0.9469 - val_loss: 0.1879 - val_accuracy: 0.9494\n",
      "Epoch 39/100\n",
      "101/101 [==============================] - 0s 1ms/step - loss: 0.2181 - accuracy: 0.9425 - val_loss: 0.1854 - val_accuracy: 0.9494\n",
      "Epoch 40/100\n",
      "101/101 [==============================] - 0s 1ms/step - loss: 0.2174 - accuracy: 0.9403 - val_loss: 0.1840 - val_accuracy: 0.9541\n",
      "Epoch 41/100\n",
      "101/101 [==============================] - 0s 1ms/step - loss: 0.2083 - accuracy: 0.9450 - val_loss: 0.1852 - val_accuracy: 0.9513\n",
      "Epoch 42/100\n",
      "101/101 [==============================] - 0s 1ms/step - loss: 0.2153 - accuracy: 0.9410 - val_loss: 0.1842 - val_accuracy: 0.9522\n",
      "Epoch 43/100\n",
      "101/101 [==============================] - 0s 2ms/step - loss: 0.2143 - accuracy: 0.9400 - val_loss: 0.1839 - val_accuracy: 0.9485\n",
      "Epoch 44/100\n",
      "101/101 [==============================] - 0s 1ms/step - loss: 0.2157 - accuracy: 0.9391 - val_loss: 0.1802 - val_accuracy: 0.9579\n",
      "Epoch 45/100\n",
      "101/101 [==============================] - 0s 1ms/step - loss: 0.2165 - accuracy: 0.9413 - val_loss: 0.1802 - val_accuracy: 0.9522\n",
      "Epoch 46/100\n",
      "101/101 [==============================] - 0s 1ms/step - loss: 0.2143 - accuracy: 0.9438 - val_loss: 0.1863 - val_accuracy: 0.9504\n",
      "Epoch 47/100\n",
      "101/101 [==============================] - 0s 1ms/step - loss: 0.2086 - accuracy: 0.9428 - val_loss: 0.1785 - val_accuracy: 0.9579\n",
      "Epoch 48/100\n",
      "101/101 [==============================] - 0s 1ms/step - loss: 0.2156 - accuracy: 0.9400 - val_loss: 0.1790 - val_accuracy: 0.9522\n",
      "Epoch 49/100\n",
      "101/101 [==============================] - 0s 1ms/step - loss: 0.2055 - accuracy: 0.9435 - val_loss: 0.1805 - val_accuracy: 0.9476\n",
      "Epoch 50/100\n",
      "101/101 [==============================] - 0s 1ms/step - loss: 0.2143 - accuracy: 0.9428 - val_loss: 0.1780 - val_accuracy: 0.9504\n",
      "Epoch 51/100\n",
      "101/101 [==============================] - 0s 1ms/step - loss: 0.2038 - accuracy: 0.9422 - val_loss: 0.1769 - val_accuracy: 0.9541\n",
      "Epoch 52/100\n",
      "101/101 [==============================] - 0s 1ms/step - loss: 0.2135 - accuracy: 0.9400 - val_loss: 0.1774 - val_accuracy: 0.9513\n",
      "Epoch 53/100\n",
      "101/101 [==============================] - 0s 1ms/step - loss: 0.2110 - accuracy: 0.9428 - val_loss: 0.1762 - val_accuracy: 0.9532\n",
      "Epoch 54/100\n",
      "101/101 [==============================] - 0s 1ms/step - loss: 0.2067 - accuracy: 0.9413 - val_loss: 0.1711 - val_accuracy: 0.9541\n",
      "Epoch 55/100\n",
      "101/101 [==============================] - 0s 1ms/step - loss: 0.2042 - accuracy: 0.9450 - val_loss: 0.1697 - val_accuracy: 0.9616\n",
      "Epoch 56/100\n",
      "101/101 [==============================] - 0s 1ms/step - loss: 0.2060 - accuracy: 0.9478 - val_loss: 0.1744 - val_accuracy: 0.9541\n",
      "Epoch 57/100\n",
      "101/101 [==============================] - 0s 2ms/step - loss: 0.2089 - accuracy: 0.9431 - val_loss: 0.1704 - val_accuracy: 0.9569\n",
      "Epoch 58/100\n",
      "101/101 [==============================] - 0s 1ms/step - loss: 0.2045 - accuracy: 0.9450 - val_loss: 0.1755 - val_accuracy: 0.9532\n",
      "Epoch 59/100\n",
      "101/101 [==============================] - 0s 1ms/step - loss: 0.2050 - accuracy: 0.9447 - val_loss: 0.1684 - val_accuracy: 0.9616\n",
      "Epoch 60/100\n",
      "101/101 [==============================] - 0s 1ms/step - loss: 0.1988 - accuracy: 0.9475 - val_loss: 0.1676 - val_accuracy: 0.9616\n",
      "Epoch 61/100\n",
      "101/101 [==============================] - 0s 1ms/step - loss: 0.1980 - accuracy: 0.9500 - val_loss: 0.1691 - val_accuracy: 0.9569\n",
      "Epoch 62/100\n",
      "101/101 [==============================] - 0s 1ms/step - loss: 0.2006 - accuracy: 0.9475 - val_loss: 0.1664 - val_accuracy: 0.9579\n",
      "Epoch 63/100\n",
      "101/101 [==============================] - 0s 1ms/step - loss: 0.2035 - accuracy: 0.9497 - val_loss: 0.1654 - val_accuracy: 0.9607\n",
      "Epoch 64/100\n",
      "101/101 [==============================] - 0s 1ms/step - loss: 0.1983 - accuracy: 0.9463 - val_loss: 0.1660 - val_accuracy: 0.9588\n",
      "Epoch 65/100\n",
      "101/101 [==============================] - 0s 1ms/step - loss: 0.1997 - accuracy: 0.9456 - val_loss: 0.1641 - val_accuracy: 0.9560\n",
      "Epoch 66/100\n",
      "101/101 [==============================] - 0s 1ms/step - loss: 0.2022 - accuracy: 0.9435 - val_loss: 0.1624 - val_accuracy: 0.9579\n",
      "Epoch 67/100\n",
      "101/101 [==============================] - 0s 1ms/step - loss: 0.1957 - accuracy: 0.9463 - val_loss: 0.1627 - val_accuracy: 0.9607\n",
      "Epoch 68/100\n",
      "101/101 [==============================] - 0s 1ms/step - loss: 0.2014 - accuracy: 0.9466 - val_loss: 0.1631 - val_accuracy: 0.9588\n",
      "Epoch 69/100\n",
      "101/101 [==============================] - 0s 1ms/step - loss: 0.1971 - accuracy: 0.9447 - val_loss: 0.1615 - val_accuracy: 0.9635\n",
      "Epoch 70/100\n",
      "101/101 [==============================] - 0s 2ms/step - loss: 0.2038 - accuracy: 0.9425 - val_loss: 0.1645 - val_accuracy: 0.9569\n",
      "Epoch 71/100\n",
      "101/101 [==============================] - 0s 1ms/step - loss: 0.2001 - accuracy: 0.9450 - val_loss: 0.1693 - val_accuracy: 0.9513\n",
      "Epoch 72/100\n",
      "101/101 [==============================] - 0s 1ms/step - loss: 0.2000 - accuracy: 0.9403 - val_loss: 0.1655 - val_accuracy: 0.9560\n",
      "Epoch 73/100\n",
      "101/101 [==============================] - 0s 1ms/step - loss: 0.1997 - accuracy: 0.9456 - val_loss: 0.1604 - val_accuracy: 0.9616\n",
      "Epoch 74/100\n",
      "101/101 [==============================] - 0s 1ms/step - loss: 0.1924 - accuracy: 0.9481 - val_loss: 0.1573 - val_accuracy: 0.9607\n",
      "Epoch 75/100\n",
      "101/101 [==============================] - 0s 1ms/step - loss: 0.1952 - accuracy: 0.9472 - val_loss: 0.1598 - val_accuracy: 0.9616\n",
      "Epoch 76/100\n",
      "101/101 [==============================] - 0s 1ms/step - loss: 0.1997 - accuracy: 0.9491 - val_loss: 0.1605 - val_accuracy: 0.9551\n",
      "Epoch 77/100\n",
      "101/101 [==============================] - 0s 1ms/step - loss: 0.1940 - accuracy: 0.9485 - val_loss: 0.1569 - val_accuracy: 0.9625\n",
      "Epoch 78/100\n",
      "101/101 [==============================] - 0s 1ms/step - loss: 0.1878 - accuracy: 0.9522 - val_loss: 0.1687 - val_accuracy: 0.9513\n",
      "Epoch 79/100\n",
      "101/101 [==============================] - 0s 1ms/step - loss: 0.1989 - accuracy: 0.9494 - val_loss: 0.1582 - val_accuracy: 0.9625\n",
      "Epoch 80/100\n",
      "101/101 [==============================] - 0s 1ms/step - loss: 0.1967 - accuracy: 0.9466 - val_loss: 0.1649 - val_accuracy: 0.9560\n",
      "Epoch 81/100\n",
      "101/101 [==============================] - 0s 1ms/step - loss: 0.1907 - accuracy: 0.9503 - val_loss: 0.1632 - val_accuracy: 0.9532\n",
      "Epoch 82/100\n",
      "101/101 [==============================] - 0s 1ms/step - loss: 0.1882 - accuracy: 0.9544 - val_loss: 0.1598 - val_accuracy: 0.9579\n",
      "Epoch 83/100\n",
      "101/101 [==============================] - 0s 2ms/step - loss: 0.1888 - accuracy: 0.9500 - val_loss: 0.1549 - val_accuracy: 0.9607\n",
      "Epoch 84/100\n",
      "101/101 [==============================] - 0s 1ms/step - loss: 0.1907 - accuracy: 0.9488 - val_loss: 0.1575 - val_accuracy: 0.9569\n",
      "Epoch 85/100\n",
      "101/101 [==============================] - 0s 2ms/step - loss: 0.1904 - accuracy: 0.9481 - val_loss: 0.1534 - val_accuracy: 0.9616\n",
      "Epoch 86/100\n",
      "101/101 [==============================] - 0s 1ms/step - loss: 0.1972 - accuracy: 0.9466 - val_loss: 0.1520 - val_accuracy: 0.9635\n",
      "Epoch 87/100\n",
      "101/101 [==============================] - 0s 1ms/step - loss: 0.1880 - accuracy: 0.9456 - val_loss: 0.1570 - val_accuracy: 0.9597\n",
      "Epoch 88/100\n",
      "101/101 [==============================] - 0s 1ms/step - loss: 0.1948 - accuracy: 0.9481 - val_loss: 0.1574 - val_accuracy: 0.9551\n",
      "Epoch 89/100\n",
      "101/101 [==============================] - 0s 1ms/step - loss: 0.1940 - accuracy: 0.9478 - val_loss: 0.1577 - val_accuracy: 0.9569\n",
      "Epoch 90/100\n",
      "101/101 [==============================] - 0s 1ms/step - loss: 0.1909 - accuracy: 0.9444 - val_loss: 0.1504 - val_accuracy: 0.9635\n",
      "Epoch 91/100\n",
      "101/101 [==============================] - 0s 1ms/step - loss: 0.1980 - accuracy: 0.9431 - val_loss: 0.1519 - val_accuracy: 0.9635\n",
      "Epoch 92/100\n",
      "101/101 [==============================] - 0s 1ms/step - loss: 0.1820 - accuracy: 0.9519 - val_loss: 0.1535 - val_accuracy: 0.9625\n",
      "Epoch 93/100\n",
      "101/101 [==============================] - 0s 1ms/step - loss: 0.1917 - accuracy: 0.9491 - val_loss: 0.1509 - val_accuracy: 0.9635\n",
      "Epoch 94/100\n",
      "101/101 [==============================] - 0s 1ms/step - loss: 0.1897 - accuracy: 0.9481 - val_loss: 0.1490 - val_accuracy: 0.9654\n",
      "Epoch 95/100\n",
      "101/101 [==============================] - 0s 1ms/step - loss: 0.1831 - accuracy: 0.9497 - val_loss: 0.1543 - val_accuracy: 0.9560\n",
      "Epoch 96/100\n",
      "101/101 [==============================] - 0s 2ms/step - loss: 0.1790 - accuracy: 0.9541 - val_loss: 0.1550 - val_accuracy: 0.9551\n",
      "Epoch 97/100\n",
      "101/101 [==============================] - 0s 1ms/step - loss: 0.1872 - accuracy: 0.9472 - val_loss: 0.1549 - val_accuracy: 0.9551\n",
      "Epoch 98/100\n",
      "101/101 [==============================] - 0s 1ms/step - loss: 0.1818 - accuracy: 0.9538 - val_loss: 0.1514 - val_accuracy: 0.9551\n",
      "Epoch 99/100\n",
      "101/101 [==============================] - 0s 1ms/step - loss: 0.1921 - accuracy: 0.9438 - val_loss: 0.1546 - val_accuracy: 0.9560\n",
      "Epoch 100/100\n",
      "101/101 [==============================] - 0s 1ms/step - loss: 0.1809 - accuracy: 0.9525 - val_loss: 0.1477 - val_accuracy: 0.9644\n"
     ]
    }
   ],
   "source": [
    "# Train the model\n",
    "history = nn.fit(\n",
    "    X_train_scaled,\n",
    "    y_train,\n",
    "    epochs=100,\n",
    "    batch_size=32,\n",
    "    validation_data=(X_test_scaled, y_test),\n",
    "    verbose=1,\n",
    "    callbacks=[early_stopping]\n",
    ")\n"
   ]
  },
  {
   "cell_type": "code",
   "execution_count": 14,
   "metadata": {},
   "outputs": [
    {
     "name": "stdout",
     "output_type": "stream",
     "text": [
      "34/34 - 0s - loss: 0.1477 - accuracy: 0.9644 - 44ms/epoch - 1ms/step\n",
      "Loss: 0.14767877757549286, Accuracy: 0.9644194841384888\n"
     ]
    }
   ],
   "source": [
    "# Evaluate the model using the test data\n",
    "model_loss, model_accuracy = nn.evaluate(X_test_scaled, y_test, verbose=2)\n",
    "print(f\"Loss: {model_loss}, Accuracy: {model_accuracy}\")"
   ]
  },
  {
   "cell_type": "code",
   "execution_count": 15,
   "metadata": {},
   "outputs": [],
   "source": [
    "# Save the trained model\n",
    "#nn.save(\"loan_approval_model.h5\")\n",
    "#print(\"Model saved to loan_approval_model.h5\")"
   ]
  },
  {
   "cell_type": "code",
   "execution_count": 16,
   "metadata": {},
   "outputs": [
    {
     "name": "stdout",
     "output_type": "stream",
     "text": [
      "Model: \"sequential_1\"\n",
      "_________________________________________________________________\n",
      " Layer (type)                Output Shape              Param #   \n",
      "=================================================================\n",
      " dense_3 (Dense)             (None, 36)                468       \n",
      "                                                                 \n",
      " dropout_2 (Dropout)         (None, 36)                0         \n",
      "                                                                 \n",
      " dense_4 (Dense)             (None, 24)                888       \n",
      "                                                                 \n",
      " dropout_3 (Dropout)         (None, 24)                0         \n",
      "                                                                 \n",
      " dense_5 (Dense)             (None, 12)                300       \n",
      "                                                                 \n",
      " dense_6 (Dense)             (None, 1)                 13        \n",
      "                                                                 \n",
      "=================================================================\n",
      "Total params: 1669 (6.52 KB)\n",
      "Trainable params: 1669 (6.52 KB)\n",
      "Non-trainable params: 0 (0.00 Byte)\n",
      "_________________________________________________________________\n"
     ]
    }
   ],
   "source": [
    "# Define an optimized deep neural network model\n",
    "number_input_features = len(X_train_scaled[0])\n",
    "\n",
    "optimized_nn = tf.keras.models.Sequential()\n",
    "\n",
    "# First hidden layer with L2 regularization and swish activation\n",
    "optimized_nn.add(tf.keras.layers.Dense(units=number_input_features*3, activation=\"swish\", kernel_regularizer=l2(0.01), input_dim=number_input_features))\n",
    "optimized_nn.add(tf.keras.layers.Dropout(0.3))  # 30% dropout\n",
    "\n",
    "# Second hidden layer with L2 regularization and swish activation\n",
    "optimized_nn.add(tf.keras.layers.Dense(units=number_input_features*2, activation=\"swish\", kernel_regularizer=l2(0.01)))\n",
    "optimized_nn.add(tf.keras.layers.Dropout(0.3))  # 30% dropout\n",
    "\n",
    "# Third hidden layer\n",
    "optimized_nn.add(tf.keras.layers.Dense(units=number_input_features, activation=\"relu\"))\n",
    "\n",
    "# Output layer\n",
    "optimized_nn.add(tf.keras.layers.Dense(units=1, activation=\"sigmoid\"))\n",
    "\n",
    "#display\n",
    "optimized_nn.summary()\n",
    "\n"
   ]
  },
  {
   "cell_type": "code",
   "execution_count": 17,
   "metadata": {},
   "outputs": [],
   "source": [
    "# Create callback for early stopping\n",
    "early_stopping = EarlyStopping(monitor='val_loss', patience=15, restore_best_weights=True)\n",
    "\n",
    "# Define the optimizer with a learning rate decay\n",
    "lr_schedule = tf.keras.optimizers.schedules.ExponentialDecay(\n",
    "    initial_learning_rate=1e-2,\n",
    "    decay_steps=10000,\n",
    "    decay_rate=0.9)\n",
    "optimizer = Adam(learning_rate=lr_schedule)\n",
    "\n",
    "# Compile the model\n",
    "optimized_nn.compile(loss='binary_crossentropy', optimizer=optimizer, metrics=['accuracy'])"
   ]
  },
  {
   "cell_type": "code",
   "execution_count": 18,
   "metadata": {},
   "outputs": [
    {
     "name": "stdout",
     "output_type": "stream",
     "text": [
      "Epoch 1/150\n",
      "51/51 [==============================] - 1s 4ms/step - loss: 0.5400 - accuracy: 0.8650 - val_loss: 0.3183 - val_accuracy: 0.9213\n",
      "Epoch 2/150\n",
      "51/51 [==============================] - 0s 2ms/step - loss: 0.2960 - accuracy: 0.9200 - val_loss: 0.2623 - val_accuracy: 0.9260\n",
      "Epoch 3/150\n",
      "51/51 [==============================] - 0s 2ms/step - loss: 0.2791 - accuracy: 0.9182 - val_loss: 0.2753 - val_accuracy: 0.9129\n",
      "Epoch 4/150\n",
      "51/51 [==============================] - 0s 2ms/step - loss: 0.2760 - accuracy: 0.9172 - val_loss: 0.2714 - val_accuracy: 0.9017\n",
      "Epoch 5/150\n",
      "51/51 [==============================] - 0s 2ms/step - loss: 0.2711 - accuracy: 0.9185 - val_loss: 0.2449 - val_accuracy: 0.9326\n",
      "Epoch 6/150\n",
      "51/51 [==============================] - 0s 2ms/step - loss: 0.2612 - accuracy: 0.9197 - val_loss: 0.2448 - val_accuracy: 0.9345\n",
      "Epoch 7/150\n",
      "51/51 [==============================] - 0s 2ms/step - loss: 0.2721 - accuracy: 0.9222 - val_loss: 0.2636 - val_accuracy: 0.8970\n",
      "Epoch 8/150\n",
      "51/51 [==============================] - 0s 2ms/step - loss: 0.3030 - accuracy: 0.9082 - val_loss: 0.2455 - val_accuracy: 0.9354\n",
      "Epoch 9/150\n",
      "51/51 [==============================] - 0s 2ms/step - loss: 0.2600 - accuracy: 0.9285 - val_loss: 0.2375 - val_accuracy: 0.9242\n",
      "Epoch 10/150\n",
      "51/51 [==============================] - 0s 2ms/step - loss: 0.2539 - accuracy: 0.9247 - val_loss: 0.2424 - val_accuracy: 0.9101\n",
      "Epoch 11/150\n",
      "51/51 [==============================] - 0s 2ms/step - loss: 0.2514 - accuracy: 0.9247 - val_loss: 0.2242 - val_accuracy: 0.9167\n",
      "Epoch 12/150\n",
      "51/51 [==============================] - 0s 2ms/step - loss: 0.2548 - accuracy: 0.9253 - val_loss: 0.2156 - val_accuracy: 0.9382\n",
      "Epoch 13/150\n",
      "51/51 [==============================] - 0s 2ms/step - loss: 0.2772 - accuracy: 0.9206 - val_loss: 0.2414 - val_accuracy: 0.9148\n",
      "Epoch 14/150\n",
      "51/51 [==============================] - 0s 2ms/step - loss: 0.3058 - accuracy: 0.9157 - val_loss: 0.2278 - val_accuracy: 0.9429\n",
      "Epoch 15/150\n",
      "51/51 [==============================] - 0s 2ms/step - loss: 0.2627 - accuracy: 0.9263 - val_loss: 0.2210 - val_accuracy: 0.9335\n",
      "Epoch 16/150\n",
      "51/51 [==============================] - 0s 2ms/step - loss: 0.2448 - accuracy: 0.9285 - val_loss: 0.2101 - val_accuracy: 0.9335\n",
      "Epoch 17/150\n",
      "51/51 [==============================] - 0s 2ms/step - loss: 0.2392 - accuracy: 0.9266 - val_loss: 0.2120 - val_accuracy: 0.9298\n",
      "Epoch 18/150\n",
      "51/51 [==============================] - 0s 2ms/step - loss: 0.2601 - accuracy: 0.9222 - val_loss: 0.2454 - val_accuracy: 0.9101\n",
      "Epoch 19/150\n",
      "51/51 [==============================] - 0s 2ms/step - loss: 0.2555 - accuracy: 0.9191 - val_loss: 0.2057 - val_accuracy: 0.9363\n",
      "Epoch 20/150\n",
      "51/51 [==============================] - 0s 2ms/step - loss: 0.2372 - accuracy: 0.9310 - val_loss: 0.2486 - val_accuracy: 0.9242\n",
      "Epoch 21/150\n",
      "51/51 [==============================] - 0s 2ms/step - loss: 0.2392 - accuracy: 0.9325 - val_loss: 0.1977 - val_accuracy: 0.9373\n",
      "Epoch 22/150\n",
      "51/51 [==============================] - 0s 2ms/step - loss: 0.2415 - accuracy: 0.9238 - val_loss: 0.2188 - val_accuracy: 0.9279\n",
      "Epoch 23/150\n",
      "51/51 [==============================] - 0s 2ms/step - loss: 0.2351 - accuracy: 0.9303 - val_loss: 0.2541 - val_accuracy: 0.9054\n",
      "Epoch 24/150\n",
      "51/51 [==============================] - 0s 2ms/step - loss: 0.2283 - accuracy: 0.9300 - val_loss: 0.2137 - val_accuracy: 0.9373\n",
      "Epoch 25/150\n",
      "51/51 [==============================] - 0s 2ms/step - loss: 0.2394 - accuracy: 0.9241 - val_loss: 0.2510 - val_accuracy: 0.9242\n",
      "Epoch 26/150\n",
      "51/51 [==============================] - 0s 2ms/step - loss: 0.5071 - accuracy: 0.8757 - val_loss: 0.3535 - val_accuracy: 0.9232\n",
      "Epoch 27/150\n",
      "51/51 [==============================] - 0s 2ms/step - loss: 0.3433 - accuracy: 0.9141 - val_loss: 0.3016 - val_accuracy: 0.9157\n",
      "Epoch 28/150\n",
      "51/51 [==============================] - 0s 2ms/step - loss: 0.3363 - accuracy: 0.9138 - val_loss: 0.2980 - val_accuracy: 0.9082\n",
      "Epoch 29/150\n",
      "51/51 [==============================] - 0s 2ms/step - loss: 0.3347 - accuracy: 0.9119 - val_loss: 0.2646 - val_accuracy: 0.9232\n",
      "Epoch 30/150\n",
      "51/51 [==============================] - 0s 2ms/step - loss: 0.2704 - accuracy: 0.9250 - val_loss: 0.2243 - val_accuracy: 0.9335\n",
      "Epoch 31/150\n",
      "51/51 [==============================] - 0s 2ms/step - loss: 0.2574 - accuracy: 0.9219 - val_loss: 0.2506 - val_accuracy: 0.9054\n",
      "Epoch 32/150\n",
      "51/51 [==============================] - 0s 2ms/step - loss: 0.4089 - accuracy: 0.8775 - val_loss: 0.3421 - val_accuracy: 0.9054\n",
      "Epoch 33/150\n",
      "51/51 [==============================] - 0s 2ms/step - loss: 0.3090 - accuracy: 0.9200 - val_loss: 0.2498 - val_accuracy: 0.9335\n",
      "Epoch 34/150\n",
      "51/51 [==============================] - 0s 2ms/step - loss: 0.2743 - accuracy: 0.9222 - val_loss: 0.2438 - val_accuracy: 0.9251\n",
      "Epoch 35/150\n",
      "51/51 [==============================] - 0s 2ms/step - loss: 0.2610 - accuracy: 0.9263 - val_loss: 0.2348 - val_accuracy: 0.9242\n",
      "Epoch 36/150\n",
      "51/51 [==============================] - 0s 2ms/step - loss: 0.2431 - accuracy: 0.9266 - val_loss: 0.2507 - val_accuracy: 0.9157\n"
     ]
    }
   ],
   "source": [
    "# Train the model\n",
    "history = optimized_nn.fit(\n",
    "    X_train_scaled,\n",
    "    y_train,\n",
    "    epochs=150,\n",
    "    batch_size=64,\n",
    "    validation_data=(X_test_scaled, y_test),\n",
    "    verbose=1,\n",
    "    callbacks=[early_stopping]\n",
    ")\n"
   ]
  },
  {
   "cell_type": "code",
   "execution_count": 19,
   "metadata": {},
   "outputs": [
    {
     "name": "stdout",
     "output_type": "stream",
     "text": [
      "34/34 - 0s - loss: 0.1977 - accuracy: 0.9373 - 44ms/epoch - 1ms/step\n",
      "Loss: 0.19768062233924866, Accuracy: 0.937265932559967\n"
     ]
    }
   ],
   "source": [
    "\n",
    "# Evaluate the model using the test data\n",
    "model_loss, model_accuracy = optimized_nn.evaluate(X_test_scaled, y_test, verbose=2)\n",
    "print(f\"Loss: {model_loss}, Accuracy: {model_accuracy}\")"
   ]
  },
  {
   "cell_type": "code",
   "execution_count": 20,
   "metadata": {},
   "outputs": [
    {
     "name": "stdout",
     "output_type": "stream",
     "text": [
      "Model: \"sequential_2\"\n",
      "_________________________________________________________________\n",
      " Layer (type)                Output Shape              Param #   \n",
      "=================================================================\n",
      " dense_7 (Dense)             (None, 36)                468       \n",
      "                                                                 \n",
      " leaky_re_lu (LeakyReLU)     (None, 36)                0         \n",
      "                                                                 \n",
      " dense_8 (Dense)             (None, 24)                888       \n",
      "                                                                 \n",
      " leaky_re_lu_1 (LeakyReLU)   (None, 24)                0         \n",
      "                                                                 \n",
      " dense_9 (Dense)             (None, 12)                300       \n",
      "                                                                 \n",
      " dense_10 (Dense)            (None, 6)                 78        \n",
      "                                                                 \n",
      " dense_11 (Dense)            (None, 1)                 7         \n",
      "                                                                 \n",
      "=================================================================\n",
      "Total params: 1741 (6.80 KB)\n",
      "Trainable params: 1741 (6.80 KB)\n",
      "Non-trainable params: 0 (0.00 Byte)\n",
      "_________________________________________________________________\n"
     ]
    }
   ],
   "source": [
    "# Define the model\n",
    "number_input_features = len(X_train_scaled[0])\n",
    "\n",
    "advanced_nn = tf.keras.models.Sequential()\n",
    "\n",
    "# Input and first hidden layer with LeakyReLU\n",
    "advanced_nn.add(Dense(units=number_input_features*3, input_dim=number_input_features))\n",
    "advanced_nn.add(LeakyReLU(alpha=0.01))\n",
    "\n",
    "# Second hidden layer with LeakyReLU\n",
    "advanced_nn.add(Dense(units=number_input_features*2))\n",
    "advanced_nn.add(LeakyReLU(alpha=0.01))\n",
    "\n",
    "# Third hidden layer with tanh\n",
    "advanced_nn.add(Dense(units=number_input_features, activation='tanh'))\n",
    "\n",
    "# Fourth hidden layer with tanh\n",
    "advanced_nn.add(Dense(units=number_input_features//2, activation='tanh'))\n",
    "\n",
    "# Output layer\n",
    "advanced_nn.add(Dense(units=1, activation=\"sigmoid\"))\n",
    "\n",
    "#Display\n",
    "advanced_nn.summary()\n",
    "\n"
   ]
  },
  {
   "cell_type": "code",
   "execution_count": 21,
   "metadata": {},
   "outputs": [],
   "source": [
    "# Compile the model with an adaptive learning rate\n",
    "optimizer = Adam(learning_rate=0.001)\n",
    "advanced_nn.compile(loss='binary_crossentropy', optimizer=optimizer, metrics=['accuracy'])"
   ]
  },
  {
   "cell_type": "code",
   "execution_count": 22,
   "metadata": {},
   "outputs": [
    {
     "name": "stdout",
     "output_type": "stream",
     "text": [
      "Epoch 1/150\n",
      "101/101 [==============================] - 1s 2ms/step - loss: 0.4476 - accuracy: 0.8072 - val_loss: 0.2777 - val_accuracy: 0.9007\n",
      "Epoch 2/150\n",
      "101/101 [==============================] - 0s 1ms/step - loss: 0.2362 - accuracy: 0.9197 - val_loss: 0.2189 - val_accuracy: 0.9176\n",
      "Epoch 3/150\n",
      "101/101 [==============================] - 0s 1ms/step - loss: 0.2024 - accuracy: 0.9285 - val_loss: 0.2007 - val_accuracy: 0.9176\n",
      "Epoch 4/150\n",
      "101/101 [==============================] - 0s 2ms/step - loss: 0.1830 - accuracy: 0.9381 - val_loss: 0.1848 - val_accuracy: 0.9316\n",
      "Epoch 5/150\n",
      "101/101 [==============================] - 0s 1ms/step - loss: 0.1675 - accuracy: 0.9394 - val_loss: 0.1699 - val_accuracy: 0.9298\n",
      "Epoch 6/150\n",
      "101/101 [==============================] - 0s 1ms/step - loss: 0.1539 - accuracy: 0.9435 - val_loss: 0.1604 - val_accuracy: 0.9335\n",
      "Epoch 7/150\n",
      "101/101 [==============================] - 0s 1ms/step - loss: 0.1433 - accuracy: 0.9469 - val_loss: 0.1508 - val_accuracy: 0.9345\n",
      "Epoch 8/150\n",
      "101/101 [==============================] - 0s 1ms/step - loss: 0.1359 - accuracy: 0.9481 - val_loss: 0.1525 - val_accuracy: 0.9298\n",
      "Epoch 9/150\n",
      "101/101 [==============================] - 0s 1ms/step - loss: 0.1274 - accuracy: 0.9503 - val_loss: 0.1380 - val_accuracy: 0.9382\n",
      "Epoch 10/150\n",
      "101/101 [==============================] - 0s 1ms/step - loss: 0.1170 - accuracy: 0.9550 - val_loss: 0.1342 - val_accuracy: 0.9354\n",
      "Epoch 11/150\n",
      "101/101 [==============================] - 0s 1ms/step - loss: 0.1108 - accuracy: 0.9566 - val_loss: 0.1292 - val_accuracy: 0.9401\n",
      "Epoch 12/150\n",
      "101/101 [==============================] - 0s 1ms/step - loss: 0.1060 - accuracy: 0.9575 - val_loss: 0.1239 - val_accuracy: 0.9419\n",
      "Epoch 13/150\n",
      "101/101 [==============================] - 0s 1ms/step - loss: 0.1000 - accuracy: 0.9613 - val_loss: 0.1241 - val_accuracy: 0.9410\n",
      "Epoch 14/150\n",
      "101/101 [==============================] - 0s 1ms/step - loss: 0.0948 - accuracy: 0.9619 - val_loss: 0.1123 - val_accuracy: 0.9513\n",
      "Epoch 15/150\n",
      "101/101 [==============================] - 0s 1ms/step - loss: 0.0862 - accuracy: 0.9666 - val_loss: 0.1055 - val_accuracy: 0.9485\n",
      "Epoch 16/150\n",
      "101/101 [==============================] - 0s 1ms/step - loss: 0.0824 - accuracy: 0.9684 - val_loss: 0.0974 - val_accuracy: 0.9560\n",
      "Epoch 17/150\n",
      "101/101 [==============================] - 0s 1ms/step - loss: 0.0798 - accuracy: 0.9675 - val_loss: 0.1045 - val_accuracy: 0.9560\n",
      "Epoch 18/150\n",
      "101/101 [==============================] - 0s 2ms/step - loss: 0.0777 - accuracy: 0.9738 - val_loss: 0.1025 - val_accuracy: 0.9569\n",
      "Epoch 19/150\n",
      "101/101 [==============================] - 0s 1ms/step - loss: 0.0719 - accuracy: 0.9772 - val_loss: 0.0947 - val_accuracy: 0.9597\n",
      "Epoch 20/150\n",
      "101/101 [==============================] - 0s 1ms/step - loss: 0.0694 - accuracy: 0.9775 - val_loss: 0.1142 - val_accuracy: 0.9541\n",
      "Epoch 21/150\n",
      "101/101 [==============================] - 0s 1ms/step - loss: 0.0728 - accuracy: 0.9769 - val_loss: 0.0903 - val_accuracy: 0.9607\n",
      "Epoch 22/150\n",
      "101/101 [==============================] - 0s 1ms/step - loss: 0.0647 - accuracy: 0.9803 - val_loss: 0.0922 - val_accuracy: 0.9579\n",
      "Epoch 23/150\n",
      "101/101 [==============================] - 0s 1ms/step - loss: 0.0629 - accuracy: 0.9816 - val_loss: 0.0964 - val_accuracy: 0.9644\n",
      "Epoch 24/150\n",
      "101/101 [==============================] - 0s 1ms/step - loss: 0.0781 - accuracy: 0.9775 - val_loss: 0.1029 - val_accuracy: 0.9569\n",
      "Epoch 25/150\n",
      "101/101 [==============================] - 0s 1ms/step - loss: 0.0624 - accuracy: 0.9794 - val_loss: 0.0930 - val_accuracy: 0.9663\n",
      "Epoch 26/150\n",
      "101/101 [==============================] - 0s 1ms/step - loss: 0.0582 - accuracy: 0.9819 - val_loss: 0.1071 - val_accuracy: 0.9616\n",
      "Epoch 27/150\n",
      "101/101 [==============================] - 0s 1ms/step - loss: 0.0583 - accuracy: 0.9816 - val_loss: 0.0941 - val_accuracy: 0.9607\n",
      "Epoch 28/150\n",
      "101/101 [==============================] - 0s 1ms/step - loss: 0.0544 - accuracy: 0.9850 - val_loss: 0.0924 - val_accuracy: 0.9644\n",
      "Epoch 29/150\n",
      "101/101 [==============================] - 0s 1ms/step - loss: 0.0516 - accuracy: 0.9859 - val_loss: 0.0966 - val_accuracy: 0.9597\n",
      "Epoch 30/150\n",
      "101/101 [==============================] - 0s 1ms/step - loss: 0.0597 - accuracy: 0.9828 - val_loss: 0.0899 - val_accuracy: 0.9607\n",
      "Epoch 31/150\n",
      "101/101 [==============================] - 0s 1ms/step - loss: 0.0557 - accuracy: 0.9828 - val_loss: 0.1074 - val_accuracy: 0.9579\n",
      "Epoch 32/150\n",
      "101/101 [==============================] - 0s 1ms/step - loss: 0.0612 - accuracy: 0.9809 - val_loss: 0.0904 - val_accuracy: 0.9616\n",
      "Epoch 33/150\n",
      "101/101 [==============================] - 0s 1ms/step - loss: 0.0512 - accuracy: 0.9866 - val_loss: 0.0961 - val_accuracy: 0.9616\n",
      "Epoch 34/150\n",
      "101/101 [==============================] - 0s 1ms/step - loss: 0.0484 - accuracy: 0.9875 - val_loss: 0.0944 - val_accuracy: 0.9616\n",
      "Epoch 35/150\n",
      "101/101 [==============================] - 0s 1ms/step - loss: 0.0464 - accuracy: 0.9878 - val_loss: 0.0947 - val_accuracy: 0.9635\n",
      "Epoch 36/150\n",
      "101/101 [==============================] - 0s 1ms/step - loss: 0.0456 - accuracy: 0.9884 - val_loss: 0.0931 - val_accuracy: 0.9635\n",
      "Epoch 37/150\n",
      "101/101 [==============================] - 0s 1ms/step - loss: 0.0446 - accuracy: 0.9878 - val_loss: 0.0989 - val_accuracy: 0.9597\n",
      "Epoch 38/150\n",
      "101/101 [==============================] - 0s 1ms/step - loss: 0.0432 - accuracy: 0.9897 - val_loss: 0.0917 - val_accuracy: 0.9625\n",
      "Epoch 39/150\n",
      "101/101 [==============================] - 0s 1ms/step - loss: 0.0440 - accuracy: 0.9884 - val_loss: 0.1002 - val_accuracy: 0.9616\n",
      "Epoch 40/150\n",
      "101/101 [==============================] - 0s 1ms/step - loss: 0.0573 - accuracy: 0.9828 - val_loss: 0.1031 - val_accuracy: 0.9625\n",
      "Epoch 41/150\n",
      "101/101 [==============================] - 0s 1ms/step - loss: 0.0457 - accuracy: 0.9884 - val_loss: 0.1173 - val_accuracy: 0.9532\n",
      "Epoch 42/150\n",
      "101/101 [==============================] - 0s 1ms/step - loss: 0.0413 - accuracy: 0.9903 - val_loss: 0.0996 - val_accuracy: 0.9616\n",
      "Epoch 43/150\n",
      "101/101 [==============================] - 0s 1ms/step - loss: 0.0435 - accuracy: 0.9888 - val_loss: 0.0997 - val_accuracy: 0.9588\n",
      "Epoch 44/150\n",
      "101/101 [==============================] - 0s 1ms/step - loss: 0.0408 - accuracy: 0.9900 - val_loss: 0.0978 - val_accuracy: 0.9597\n",
      "Epoch 45/150\n",
      "101/101 [==============================] - 0s 1ms/step - loss: 0.0400 - accuracy: 0.9903 - val_loss: 0.0973 - val_accuracy: 0.9625\n",
      "Epoch 46/150\n",
      "101/101 [==============================] - 0s 1ms/step - loss: 0.0390 - accuracy: 0.9903 - val_loss: 0.0922 - val_accuracy: 0.9644\n",
      "Epoch 47/150\n",
      "101/101 [==============================] - 0s 1ms/step - loss: 0.0387 - accuracy: 0.9900 - val_loss: 0.1090 - val_accuracy: 0.9616\n",
      "Epoch 48/150\n",
      "101/101 [==============================] - 0s 1ms/step - loss: 0.0427 - accuracy: 0.9888 - val_loss: 0.1166 - val_accuracy: 0.9560\n",
      "Epoch 49/150\n",
      "101/101 [==============================] - 0s 1ms/step - loss: 0.0387 - accuracy: 0.9894 - val_loss: 0.1096 - val_accuracy: 0.9616\n",
      "Epoch 50/150\n",
      "101/101 [==============================] - 0s 1ms/step - loss: 0.0360 - accuracy: 0.9925 - val_loss: 0.1072 - val_accuracy: 0.9616\n",
      "Epoch 51/150\n",
      "101/101 [==============================] - 0s 1ms/step - loss: 0.0377 - accuracy: 0.9906 - val_loss: 0.1070 - val_accuracy: 0.9607\n",
      "Epoch 52/150\n",
      "101/101 [==============================] - 0s 1ms/step - loss: 0.0347 - accuracy: 0.9934 - val_loss: 0.1046 - val_accuracy: 0.9635\n",
      "Epoch 53/150\n",
      "101/101 [==============================] - 0s 1ms/step - loss: 0.0359 - accuracy: 0.9922 - val_loss: 0.0956 - val_accuracy: 0.9597\n",
      "Epoch 54/150\n",
      "101/101 [==============================] - 0s 1ms/step - loss: 0.0376 - accuracy: 0.9922 - val_loss: 0.1070 - val_accuracy: 0.9588\n",
      "Epoch 55/150\n",
      "101/101 [==============================] - 0s 1ms/step - loss: 0.0358 - accuracy: 0.9916 - val_loss: 0.1233 - val_accuracy: 0.9569\n",
      "Epoch 56/150\n",
      "101/101 [==============================] - 0s 1ms/step - loss: 0.0599 - accuracy: 0.9838 - val_loss: 0.1431 - val_accuracy: 0.9522\n",
      "Epoch 57/150\n",
      "101/101 [==============================] - 0s 1ms/step - loss: 0.0472 - accuracy: 0.9872 - val_loss: 0.1190 - val_accuracy: 0.9597\n",
      "Epoch 58/150\n",
      "101/101 [==============================] - 0s 1ms/step - loss: 0.0362 - accuracy: 0.9913 - val_loss: 0.1169 - val_accuracy: 0.9569\n",
      "Epoch 59/150\n",
      "101/101 [==============================] - 0s 1ms/step - loss: 0.0357 - accuracy: 0.9916 - val_loss: 0.1175 - val_accuracy: 0.9569\n",
      "Epoch 60/150\n",
      "101/101 [==============================] - 0s 1ms/step - loss: 0.0370 - accuracy: 0.9897 - val_loss: 0.1220 - val_accuracy: 0.9616\n",
      "Epoch 61/150\n",
      "101/101 [==============================] - 0s 1ms/step - loss: 0.0401 - accuracy: 0.9900 - val_loss: 0.1039 - val_accuracy: 0.9607\n",
      "Epoch 62/150\n",
      "101/101 [==============================] - 0s 1ms/step - loss: 0.0322 - accuracy: 0.9925 - val_loss: 0.1104 - val_accuracy: 0.9597\n",
      "Epoch 63/150\n",
      "101/101 [==============================] - 0s 1ms/step - loss: 0.0337 - accuracy: 0.9916 - val_loss: 0.1040 - val_accuracy: 0.9635\n",
      "Epoch 64/150\n",
      "101/101 [==============================] - 0s 1ms/step - loss: 0.0332 - accuracy: 0.9938 - val_loss: 0.1089 - val_accuracy: 0.9607\n",
      "Epoch 65/150\n",
      "101/101 [==============================] - 0s 1ms/step - loss: 0.0313 - accuracy: 0.9931 - val_loss: 0.1060 - val_accuracy: 0.9654\n",
      "Epoch 66/150\n",
      "101/101 [==============================] - 0s 1ms/step - loss: 0.0310 - accuracy: 0.9931 - val_loss: 0.1109 - val_accuracy: 0.9607\n",
      "Epoch 67/150\n",
      "101/101 [==============================] - 0s 1ms/step - loss: 0.0302 - accuracy: 0.9941 - val_loss: 0.1222 - val_accuracy: 0.9597\n",
      "Epoch 68/150\n",
      "101/101 [==============================] - 0s 2ms/step - loss: 0.0322 - accuracy: 0.9931 - val_loss: 0.1126 - val_accuracy: 0.9654\n",
      "Epoch 69/150\n",
      "101/101 [==============================] - 0s 1ms/step - loss: 0.0313 - accuracy: 0.9931 - val_loss: 0.1200 - val_accuracy: 0.9635\n",
      "Epoch 70/150\n",
      "101/101 [==============================] - 0s 1ms/step - loss: 0.0439 - accuracy: 0.9888 - val_loss: 0.1415 - val_accuracy: 0.9513\n",
      "Epoch 71/150\n",
      "101/101 [==============================] - 0s 1ms/step - loss: 0.0418 - accuracy: 0.9888 - val_loss: 0.1244 - val_accuracy: 0.9588\n",
      "Epoch 72/150\n",
      "101/101 [==============================] - 0s 1ms/step - loss: 0.0356 - accuracy: 0.9919 - val_loss: 0.1321 - val_accuracy: 0.9635\n",
      "Epoch 73/150\n",
      "101/101 [==============================] - 0s 1ms/step - loss: 0.0340 - accuracy: 0.9916 - val_loss: 0.1195 - val_accuracy: 0.9551\n",
      "Epoch 74/150\n",
      "101/101 [==============================] - 0s 1ms/step - loss: 0.0300 - accuracy: 0.9938 - val_loss: 0.1111 - val_accuracy: 0.9616\n",
      "Epoch 75/150\n",
      "101/101 [==============================] - 0s 1ms/step - loss: 0.0316 - accuracy: 0.9938 - val_loss: 0.1307 - val_accuracy: 0.9588\n",
      "Epoch 76/150\n",
      "101/101 [==============================] - 0s 1ms/step - loss: 0.0369 - accuracy: 0.9903 - val_loss: 0.1476 - val_accuracy: 0.9569\n",
      "Epoch 77/150\n",
      "101/101 [==============================] - 0s 1ms/step - loss: 0.0374 - accuracy: 0.9903 - val_loss: 0.1397 - val_accuracy: 0.9551\n",
      "Epoch 78/150\n",
      "101/101 [==============================] - 0s 1ms/step - loss: 0.0290 - accuracy: 0.9938 - val_loss: 0.1157 - val_accuracy: 0.9588\n",
      "Epoch 79/150\n",
      "101/101 [==============================] - 0s 1ms/step - loss: 0.0528 - accuracy: 0.9863 - val_loss: 0.1639 - val_accuracy: 0.9541\n",
      "Epoch 80/150\n",
      "101/101 [==============================] - 0s 1ms/step - loss: 0.0310 - accuracy: 0.9938 - val_loss: 0.1299 - val_accuracy: 0.9579\n",
      "Epoch 81/150\n",
      "101/101 [==============================] - 0s 1ms/step - loss: 0.1074 - accuracy: 0.9709 - val_loss: 0.1344 - val_accuracy: 0.9607\n",
      "Epoch 82/150\n",
      "101/101 [==============================] - 0s 1ms/step - loss: 0.0525 - accuracy: 0.9863 - val_loss: 0.1020 - val_accuracy: 0.9682\n",
      "Epoch 83/150\n",
      "101/101 [==============================] - 0s 1ms/step - loss: 0.0429 - accuracy: 0.9900 - val_loss: 0.1080 - val_accuracy: 0.9654\n",
      "Epoch 84/150\n",
      "101/101 [==============================] - 0s 1ms/step - loss: 0.0372 - accuracy: 0.9919 - val_loss: 0.1103 - val_accuracy: 0.9635\n",
      "Epoch 85/150\n",
      "101/101 [==============================] - 0s 1ms/step - loss: 0.0326 - accuracy: 0.9925 - val_loss: 0.1185 - val_accuracy: 0.9560\n",
      "Epoch 86/150\n",
      "101/101 [==============================] - 0s 1ms/step - loss: 0.0323 - accuracy: 0.9928 - val_loss: 0.1100 - val_accuracy: 0.9635\n",
      "Epoch 87/150\n",
      "101/101 [==============================] - 0s 1ms/step - loss: 0.0310 - accuracy: 0.9934 - val_loss: 0.1172 - val_accuracy: 0.9607\n",
      "Epoch 88/150\n",
      "101/101 [==============================] - 0s 1ms/step - loss: 0.0305 - accuracy: 0.9938 - val_loss: 0.1249 - val_accuracy: 0.9635\n",
      "Epoch 89/150\n",
      "101/101 [==============================] - 0s 1ms/step - loss: 0.0331 - accuracy: 0.9909 - val_loss: 0.1239 - val_accuracy: 0.9597\n",
      "Epoch 90/150\n",
      "101/101 [==============================] - 0s 1ms/step - loss: 0.0301 - accuracy: 0.9944 - val_loss: 0.1342 - val_accuracy: 0.9607\n",
      "Epoch 91/150\n",
      "101/101 [==============================] - 0s 1ms/step - loss: 0.0280 - accuracy: 0.9941 - val_loss: 0.1247 - val_accuracy: 0.9597\n",
      "Epoch 92/150\n",
      "101/101 [==============================] - 0s 1ms/step - loss: 0.0274 - accuracy: 0.9944 - val_loss: 0.1345 - val_accuracy: 0.9597\n",
      "Epoch 93/150\n",
      "101/101 [==============================] - 0s 1ms/step - loss: 0.0269 - accuracy: 0.9944 - val_loss: 0.1360 - val_accuracy: 0.9597\n",
      "Epoch 94/150\n",
      "101/101 [==============================] - 0s 1ms/step - loss: 0.0273 - accuracy: 0.9950 - val_loss: 0.1390 - val_accuracy: 0.9597\n",
      "Epoch 95/150\n",
      "101/101 [==============================] - 0s 1ms/step - loss: 0.0268 - accuracy: 0.9950 - val_loss: 0.1443 - val_accuracy: 0.9625\n",
      "Epoch 96/150\n",
      "101/101 [==============================] - 0s 1ms/step - loss: 0.0271 - accuracy: 0.9950 - val_loss: 0.1354 - val_accuracy: 0.9607\n",
      "Epoch 97/150\n",
      "101/101 [==============================] - 0s 1ms/step - loss: 0.0286 - accuracy: 0.9934 - val_loss: 0.1334 - val_accuracy: 0.9616\n",
      "Epoch 98/150\n",
      "101/101 [==============================] - 0s 1ms/step - loss: 0.0273 - accuracy: 0.9956 - val_loss: 0.1334 - val_accuracy: 0.9588\n",
      "Epoch 99/150\n",
      "101/101 [==============================] - 0s 1ms/step - loss: 0.0267 - accuracy: 0.9950 - val_loss: 0.1506 - val_accuracy: 0.9551\n",
      "Epoch 100/150\n",
      "101/101 [==============================] - 0s 1ms/step - loss: 0.0294 - accuracy: 0.9938 - val_loss: 0.1358 - val_accuracy: 0.9588\n",
      "Epoch 101/150\n",
      "101/101 [==============================] - 0s 2ms/step - loss: 0.0304 - accuracy: 0.9934 - val_loss: 0.1814 - val_accuracy: 0.9588\n",
      "Epoch 102/150\n",
      "101/101 [==============================] - 0s 1ms/step - loss: 0.0570 - accuracy: 0.9869 - val_loss: 0.1677 - val_accuracy: 0.9541\n",
      "Epoch 103/150\n",
      "101/101 [==============================] - 0s 1ms/step - loss: 0.0331 - accuracy: 0.9913 - val_loss: 0.1558 - val_accuracy: 0.9513\n",
      "Epoch 104/150\n",
      "101/101 [==============================] - 0s 1ms/step - loss: 0.0340 - accuracy: 0.9913 - val_loss: 0.1387 - val_accuracy: 0.9541\n",
      "Epoch 105/150\n",
      "101/101 [==============================] - 0s 1ms/step - loss: 0.0289 - accuracy: 0.9931 - val_loss: 0.1247 - val_accuracy: 0.9635\n",
      "Epoch 106/150\n",
      "101/101 [==============================] - 0s 1ms/step - loss: 0.0318 - accuracy: 0.9934 - val_loss: 0.1820 - val_accuracy: 0.9522\n",
      "Epoch 107/150\n",
      "101/101 [==============================] - 0s 1ms/step - loss: 0.0339 - accuracy: 0.9916 - val_loss: 0.1421 - val_accuracy: 0.9569\n",
      "Epoch 108/150\n",
      "101/101 [==============================] - 0s 1ms/step - loss: 0.0264 - accuracy: 0.9947 - val_loss: 0.1487 - val_accuracy: 0.9551\n",
      "Epoch 109/150\n",
      "101/101 [==============================] - 0s 1ms/step - loss: 0.0250 - accuracy: 0.9959 - val_loss: 0.1431 - val_accuracy: 0.9569\n",
      "Epoch 110/150\n",
      "101/101 [==============================] - 0s 1ms/step - loss: 0.0262 - accuracy: 0.9944 - val_loss: 0.1460 - val_accuracy: 0.9532\n",
      "Epoch 111/150\n",
      "101/101 [==============================] - 0s 1ms/step - loss: 0.0247 - accuracy: 0.9953 - val_loss: 0.1446 - val_accuracy: 0.9541\n",
      "Epoch 112/150\n",
      "101/101 [==============================] - 0s 1ms/step - loss: 0.0269 - accuracy: 0.9944 - val_loss: 0.1554 - val_accuracy: 0.9532\n",
      "Epoch 113/150\n",
      "101/101 [==============================] - 0s 1ms/step - loss: 0.0243 - accuracy: 0.9953 - val_loss: 0.1406 - val_accuracy: 0.9597\n",
      "Epoch 114/150\n",
      "101/101 [==============================] - 0s 2ms/step - loss: 0.0256 - accuracy: 0.9959 - val_loss: 0.1470 - val_accuracy: 0.9551\n",
      "Epoch 115/150\n",
      "101/101 [==============================] - 0s 1ms/step - loss: 0.0248 - accuracy: 0.9953 - val_loss: 0.1451 - val_accuracy: 0.9588\n",
      "Epoch 116/150\n",
      "101/101 [==============================] - 0s 1ms/step - loss: 0.0275 - accuracy: 0.9938 - val_loss: 0.1529 - val_accuracy: 0.9569\n",
      "Epoch 117/150\n",
      "101/101 [==============================] - 0s 1ms/step - loss: 0.0319 - accuracy: 0.9934 - val_loss: 0.1460 - val_accuracy: 0.9625\n",
      "Epoch 118/150\n",
      "101/101 [==============================] - 0s 1ms/step - loss: 0.0267 - accuracy: 0.9953 - val_loss: 0.1443 - val_accuracy: 0.9579\n",
      "Epoch 119/150\n",
      "101/101 [==============================] - 0s 1ms/step - loss: 0.0738 - accuracy: 0.9819 - val_loss: 0.1508 - val_accuracy: 0.9607\n",
      "Epoch 120/150\n",
      "101/101 [==============================] - 0s 1ms/step - loss: 0.0380 - accuracy: 0.9906 - val_loss: 0.1426 - val_accuracy: 0.9485\n",
      "Epoch 121/150\n",
      "101/101 [==============================] - 0s 1ms/step - loss: 0.0344 - accuracy: 0.9919 - val_loss: 0.1437 - val_accuracy: 0.9569\n",
      "Epoch 122/150\n",
      "101/101 [==============================] - 0s 1ms/step - loss: 0.0315 - accuracy: 0.9925 - val_loss: 0.1486 - val_accuracy: 0.9522\n",
      "Epoch 123/150\n",
      "101/101 [==============================] - 0s 1ms/step - loss: 0.0248 - accuracy: 0.9959 - val_loss: 0.1483 - val_accuracy: 0.9532\n",
      "Epoch 124/150\n",
      "101/101 [==============================] - 0s 1ms/step - loss: 0.0258 - accuracy: 0.9950 - val_loss: 0.1589 - val_accuracy: 0.9532\n",
      "Epoch 125/150\n",
      "101/101 [==============================] - 0s 1ms/step - loss: 0.0268 - accuracy: 0.9944 - val_loss: 0.1553 - val_accuracy: 0.9541\n",
      "Epoch 126/150\n",
      "101/101 [==============================] - 0s 1ms/step - loss: 0.0234 - accuracy: 0.9966 - val_loss: 0.1501 - val_accuracy: 0.9579\n",
      "Epoch 127/150\n",
      "101/101 [==============================] - 0s 1ms/step - loss: 0.0231 - accuracy: 0.9963 - val_loss: 0.1546 - val_accuracy: 0.9579\n",
      "Epoch 128/150\n",
      "101/101 [==============================] - 0s 2ms/step - loss: 0.0247 - accuracy: 0.9950 - val_loss: 0.1656 - val_accuracy: 0.9532\n",
      "Epoch 129/150\n",
      "101/101 [==============================] - 0s 1ms/step - loss: 0.0272 - accuracy: 0.9941 - val_loss: 0.1597 - val_accuracy: 0.9551\n",
      "Epoch 130/150\n",
      "101/101 [==============================] - 0s 1ms/step - loss: 0.0237 - accuracy: 0.9956 - val_loss: 0.1558 - val_accuracy: 0.9551\n",
      "Epoch 131/150\n",
      "101/101 [==============================] - 0s 1ms/step - loss: 0.0230 - accuracy: 0.9959 - val_loss: 0.1496 - val_accuracy: 0.9579\n",
      "Epoch 132/150\n",
      "101/101 [==============================] - 0s 1ms/step - loss: 0.0255 - accuracy: 0.9950 - val_loss: 0.1744 - val_accuracy: 0.9541\n",
      "Epoch 133/150\n",
      "101/101 [==============================] - 0s 1ms/step - loss: 0.0311 - accuracy: 0.9934 - val_loss: 0.1470 - val_accuracy: 0.9644\n",
      "Epoch 134/150\n",
      "101/101 [==============================] - 0s 1ms/step - loss: 0.0271 - accuracy: 0.9947 - val_loss: 0.1582 - val_accuracy: 0.9607\n",
      "Epoch 135/150\n",
      "101/101 [==============================] - 0s 1ms/step - loss: 0.0456 - accuracy: 0.9881 - val_loss: 0.1934 - val_accuracy: 0.9522\n",
      "Epoch 136/150\n",
      "101/101 [==============================] - 0s 1ms/step - loss: 0.0333 - accuracy: 0.9928 - val_loss: 0.1970 - val_accuracy: 0.9513\n",
      "Epoch 137/150\n",
      "101/101 [==============================] - 0s 1ms/step - loss: 0.0293 - accuracy: 0.9944 - val_loss: 0.1694 - val_accuracy: 0.9597\n",
      "Epoch 138/150\n",
      "101/101 [==============================] - 0s 1ms/step - loss: 0.0248 - accuracy: 0.9956 - val_loss: 0.1681 - val_accuracy: 0.9588\n",
      "Epoch 139/150\n",
      "101/101 [==============================] - 0s 1ms/step - loss: 0.0235 - accuracy: 0.9956 - val_loss: 0.2024 - val_accuracy: 0.9532\n",
      "Epoch 140/150\n",
      "101/101 [==============================] - 0s 1ms/step - loss: 0.0224 - accuracy: 0.9963 - val_loss: 0.1756 - val_accuracy: 0.9569\n",
      "Epoch 141/150\n",
      "101/101 [==============================] - 0s 1ms/step - loss: 0.0225 - accuracy: 0.9963 - val_loss: 0.1769 - val_accuracy: 0.9588\n",
      "Epoch 142/150\n",
      "101/101 [==============================] - 0s 1ms/step - loss: 0.0241 - accuracy: 0.9953 - val_loss: 0.1619 - val_accuracy: 0.9532\n",
      "Epoch 143/150\n",
      "101/101 [==============================] - 0s 2ms/step - loss: 0.0299 - accuracy: 0.9938 - val_loss: 0.2198 - val_accuracy: 0.9532\n",
      "Epoch 144/150\n",
      "101/101 [==============================] - 0s 1ms/step - loss: 0.0284 - accuracy: 0.9941 - val_loss: 0.1760 - val_accuracy: 0.9560\n",
      "Epoch 145/150\n",
      "101/101 [==============================] - 0s 1ms/step - loss: 0.0346 - accuracy: 0.9925 - val_loss: 0.1631 - val_accuracy: 0.9579\n",
      "Epoch 146/150\n",
      "101/101 [==============================] - 0s 1ms/step - loss: 0.0245 - accuracy: 0.9950 - val_loss: 0.1722 - val_accuracy: 0.9532\n",
      "Epoch 147/150\n",
      "101/101 [==============================] - 0s 1ms/step - loss: 0.0241 - accuracy: 0.9956 - val_loss: 0.1745 - val_accuracy: 0.9551\n",
      "Epoch 148/150\n",
      "101/101 [==============================] - 0s 1ms/step - loss: 0.0238 - accuracy: 0.9959 - val_loss: 0.1740 - val_accuracy: 0.9569\n",
      "Epoch 149/150\n",
      "101/101 [==============================] - 0s 1ms/step - loss: 0.0220 - accuracy: 0.9963 - val_loss: 0.1733 - val_accuracy: 0.9597\n",
      "Epoch 150/150\n",
      "101/101 [==============================] - 0s 1ms/step - loss: 0.0235 - accuracy: 0.9959 - val_loss: 0.1769 - val_accuracy: 0.9560\n"
     ]
    }
   ],
   "source": [
    "# Train the model\n",
    "num_epochs = 150\n",
    "history = advanced_nn.fit(\n",
    "    X_train_scaled,\n",
    "    y_train,\n",
    "    epochs=num_epochs,\n",
    "    batch_size=32,\n",
    "    validation_data=(X_test_scaled, y_test),\n",
    "    verbose=1\n",
    ")"
   ]
  },
  {
   "cell_type": "code",
   "execution_count": 23,
   "metadata": {},
   "outputs": [
    {
     "name": "stdout",
     "output_type": "stream",
     "text": [
      "34/34 - 0s - loss: 0.1769 - accuracy: 0.9560 - 41ms/epoch - 1ms/step\n",
      "Loss: 0.1769091933965683, Accuracy: 0.9559925198554993\n"
     ]
    }
   ],
   "source": [
    "# Evaluate the model using the test data\n",
    "model_loss, model_accuracy = advanced_nn.evaluate(X_test_scaled, y_test, verbose=2)\n",
    "print(f\"Loss: {model_loss}, Accuracy: {model_accuracy}\")"
   ]
  },
  {
   "cell_type": "code",
   "execution_count": 24,
   "metadata": {},
   "outputs": [],
   "source": [
    "import pandas as pd\n",
    "\n",
    "# Capture the model summaries as strings\n",
    "from io import StringIO\n",
    "import sys\n",
    "\n",
    "def get_model_summary(model):\n",
    "    stream = StringIO()\n",
    "    sys.stdout = stream\n",
    "    model.summary()\n",
    "    sys.stdout = sys.__stdout__\n",
    "    return stream.getvalue()\n",
    "\n",
    "# Get model summaries\n",
    "nn_summary = get_model_summary(nn)\n",
    "optimized_nn_summary = get_model_summary(optimized_nn)\n",
    "advanced_nn_summary = get_model_summary(advanced_nn)\n",
    "\n",
    "# Data for each model\n",
    "data = {\n",
    "    'Model': ['nn', 'optimized_nn', 'advanced_nn'],\n",
    "    'Summary': [nn_summary, optimized_nn_summary, advanced_nn_summary],\n",
    "    'Loss': [0.1478002965450287, 1.0808980464935303, 0.11039558053016663],\n",
    "    'Accuracy': [0.9700374603271484, 0.6385768055915833, 0.9691011309623718]\n",
    "}\n",
    "\n",
    "# Convert the data to a DataFrame\n",
    "df = pd.DataFrame(data)\n",
    "\n",
    "# Save to CSV\n",
    "df.to_csv('Deep_model_comparison.csv', index=False)\n"
   ]
  },
  {
   "cell_type": "code",
   "execution_count": 25,
   "metadata": {},
   "outputs": [
    {
     "data": {
      "application/vnd.plotly.v1+json": {
       "config": {
        "plotlyServerURL": "https://plot.ly"
       },
       "data": [
        {
         "hoverinfo": "y",
         "hovertemplate": "<b>Model</b>: %{x}<br><b>Accuracy</b>: %{y:.2f}%<extra></extra>",
         "marker": {
          "color": [
           "blue",
           "green",
           "red"
          ]
         },
         "name": "Accuracy",
         "text": [
          "97.0",
          "63.85",
          "96.91"
         ],
         "textposition": "auto",
         "type": "bar",
         "x": [
          "nn",
          "optimized_nn",
          "advanced_nn"
         ],
         "y": [
          97,
          63.85,
          96.91
         ]
        },
        {
         "hoverinfo": "y",
         "hovertemplate": "<b>Model</b>: %{x}<br><b>Loss</b>: %{y:.2f}%<extra></extra>",
         "marker": {
          "color": [
           "lightblue",
           "lightgreen",
           "lightcoral"
          ]
         },
         "name": "Loss",
         "text": [
          "14.78",
          "1.08",
          "11.03"
         ],
         "textposition": "auto",
         "type": "bar",
         "x": [
          "nn",
          "optimized_nn",
          "advanced_nn"
         ],
         "y": [
          14.78,
          1.08,
          11.03
         ]
        }
       ],
       "layout": {
        "barmode": "group",
        "template": {
         "data": {
          "bar": [
           {
            "error_x": {
             "color": "#2a3f5f"
            },
            "error_y": {
             "color": "#2a3f5f"
            },
            "marker": {
             "line": {
              "color": "#E5ECF6",
              "width": 0.5
             },
             "pattern": {
              "fillmode": "overlay",
              "size": 10,
              "solidity": 0.2
             }
            },
            "type": "bar"
           }
          ],
          "barpolar": [
           {
            "marker": {
             "line": {
              "color": "#E5ECF6",
              "width": 0.5
             },
             "pattern": {
              "fillmode": "overlay",
              "size": 10,
              "solidity": 0.2
             }
            },
            "type": "barpolar"
           }
          ],
          "carpet": [
           {
            "aaxis": {
             "endlinecolor": "#2a3f5f",
             "gridcolor": "white",
             "linecolor": "white",
             "minorgridcolor": "white",
             "startlinecolor": "#2a3f5f"
            },
            "baxis": {
             "endlinecolor": "#2a3f5f",
             "gridcolor": "white",
             "linecolor": "white",
             "minorgridcolor": "white",
             "startlinecolor": "#2a3f5f"
            },
            "type": "carpet"
           }
          ],
          "choropleth": [
           {
            "colorbar": {
             "outlinewidth": 0,
             "ticks": ""
            },
            "type": "choropleth"
           }
          ],
          "contour": [
           {
            "colorbar": {
             "outlinewidth": 0,
             "ticks": ""
            },
            "colorscale": [
             [
              0,
              "#0d0887"
             ],
             [
              0.1111111111111111,
              "#46039f"
             ],
             [
              0.2222222222222222,
              "#7201a8"
             ],
             [
              0.3333333333333333,
              "#9c179e"
             ],
             [
              0.4444444444444444,
              "#bd3786"
             ],
             [
              0.5555555555555556,
              "#d8576b"
             ],
             [
              0.6666666666666666,
              "#ed7953"
             ],
             [
              0.7777777777777778,
              "#fb9f3a"
             ],
             [
              0.8888888888888888,
              "#fdca26"
             ],
             [
              1,
              "#f0f921"
             ]
            ],
            "type": "contour"
           }
          ],
          "contourcarpet": [
           {
            "colorbar": {
             "outlinewidth": 0,
             "ticks": ""
            },
            "type": "contourcarpet"
           }
          ],
          "heatmap": [
           {
            "colorbar": {
             "outlinewidth": 0,
             "ticks": ""
            },
            "colorscale": [
             [
              0,
              "#0d0887"
             ],
             [
              0.1111111111111111,
              "#46039f"
             ],
             [
              0.2222222222222222,
              "#7201a8"
             ],
             [
              0.3333333333333333,
              "#9c179e"
             ],
             [
              0.4444444444444444,
              "#bd3786"
             ],
             [
              0.5555555555555556,
              "#d8576b"
             ],
             [
              0.6666666666666666,
              "#ed7953"
             ],
             [
              0.7777777777777778,
              "#fb9f3a"
             ],
             [
              0.8888888888888888,
              "#fdca26"
             ],
             [
              1,
              "#f0f921"
             ]
            ],
            "type": "heatmap"
           }
          ],
          "heatmapgl": [
           {
            "colorbar": {
             "outlinewidth": 0,
             "ticks": ""
            },
            "colorscale": [
             [
              0,
              "#0d0887"
             ],
             [
              0.1111111111111111,
              "#46039f"
             ],
             [
              0.2222222222222222,
              "#7201a8"
             ],
             [
              0.3333333333333333,
              "#9c179e"
             ],
             [
              0.4444444444444444,
              "#bd3786"
             ],
             [
              0.5555555555555556,
              "#d8576b"
             ],
             [
              0.6666666666666666,
              "#ed7953"
             ],
             [
              0.7777777777777778,
              "#fb9f3a"
             ],
             [
              0.8888888888888888,
              "#fdca26"
             ],
             [
              1,
              "#f0f921"
             ]
            ],
            "type": "heatmapgl"
           }
          ],
          "histogram": [
           {
            "marker": {
             "pattern": {
              "fillmode": "overlay",
              "size": 10,
              "solidity": 0.2
             }
            },
            "type": "histogram"
           }
          ],
          "histogram2d": [
           {
            "colorbar": {
             "outlinewidth": 0,
             "ticks": ""
            },
            "colorscale": [
             [
              0,
              "#0d0887"
             ],
             [
              0.1111111111111111,
              "#46039f"
             ],
             [
              0.2222222222222222,
              "#7201a8"
             ],
             [
              0.3333333333333333,
              "#9c179e"
             ],
             [
              0.4444444444444444,
              "#bd3786"
             ],
             [
              0.5555555555555556,
              "#d8576b"
             ],
             [
              0.6666666666666666,
              "#ed7953"
             ],
             [
              0.7777777777777778,
              "#fb9f3a"
             ],
             [
              0.8888888888888888,
              "#fdca26"
             ],
             [
              1,
              "#f0f921"
             ]
            ],
            "type": "histogram2d"
           }
          ],
          "histogram2dcontour": [
           {
            "colorbar": {
             "outlinewidth": 0,
             "ticks": ""
            },
            "colorscale": [
             [
              0,
              "#0d0887"
             ],
             [
              0.1111111111111111,
              "#46039f"
             ],
             [
              0.2222222222222222,
              "#7201a8"
             ],
             [
              0.3333333333333333,
              "#9c179e"
             ],
             [
              0.4444444444444444,
              "#bd3786"
             ],
             [
              0.5555555555555556,
              "#d8576b"
             ],
             [
              0.6666666666666666,
              "#ed7953"
             ],
             [
              0.7777777777777778,
              "#fb9f3a"
             ],
             [
              0.8888888888888888,
              "#fdca26"
             ],
             [
              1,
              "#f0f921"
             ]
            ],
            "type": "histogram2dcontour"
           }
          ],
          "mesh3d": [
           {
            "colorbar": {
             "outlinewidth": 0,
             "ticks": ""
            },
            "type": "mesh3d"
           }
          ],
          "parcoords": [
           {
            "line": {
             "colorbar": {
              "outlinewidth": 0,
              "ticks": ""
             }
            },
            "type": "parcoords"
           }
          ],
          "pie": [
           {
            "automargin": true,
            "type": "pie"
           }
          ],
          "scatter": [
           {
            "fillpattern": {
             "fillmode": "overlay",
             "size": 10,
             "solidity": 0.2
            },
            "type": "scatter"
           }
          ],
          "scatter3d": [
           {
            "line": {
             "colorbar": {
              "outlinewidth": 0,
              "ticks": ""
             }
            },
            "marker": {
             "colorbar": {
              "outlinewidth": 0,
              "ticks": ""
             }
            },
            "type": "scatter3d"
           }
          ],
          "scattercarpet": [
           {
            "marker": {
             "colorbar": {
              "outlinewidth": 0,
              "ticks": ""
             }
            },
            "type": "scattercarpet"
           }
          ],
          "scattergeo": [
           {
            "marker": {
             "colorbar": {
              "outlinewidth": 0,
              "ticks": ""
             }
            },
            "type": "scattergeo"
           }
          ],
          "scattergl": [
           {
            "marker": {
             "colorbar": {
              "outlinewidth": 0,
              "ticks": ""
             }
            },
            "type": "scattergl"
           }
          ],
          "scattermapbox": [
           {
            "marker": {
             "colorbar": {
              "outlinewidth": 0,
              "ticks": ""
             }
            },
            "type": "scattermapbox"
           }
          ],
          "scatterpolar": [
           {
            "marker": {
             "colorbar": {
              "outlinewidth": 0,
              "ticks": ""
             }
            },
            "type": "scatterpolar"
           }
          ],
          "scatterpolargl": [
           {
            "marker": {
             "colorbar": {
              "outlinewidth": 0,
              "ticks": ""
             }
            },
            "type": "scatterpolargl"
           }
          ],
          "scatterternary": [
           {
            "marker": {
             "colorbar": {
              "outlinewidth": 0,
              "ticks": ""
             }
            },
            "type": "scatterternary"
           }
          ],
          "surface": [
           {
            "colorbar": {
             "outlinewidth": 0,
             "ticks": ""
            },
            "colorscale": [
             [
              0,
              "#0d0887"
             ],
             [
              0.1111111111111111,
              "#46039f"
             ],
             [
              0.2222222222222222,
              "#7201a8"
             ],
             [
              0.3333333333333333,
              "#9c179e"
             ],
             [
              0.4444444444444444,
              "#bd3786"
             ],
             [
              0.5555555555555556,
              "#d8576b"
             ],
             [
              0.6666666666666666,
              "#ed7953"
             ],
             [
              0.7777777777777778,
              "#fb9f3a"
             ],
             [
              0.8888888888888888,
              "#fdca26"
             ],
             [
              1,
              "#f0f921"
             ]
            ],
            "type": "surface"
           }
          ],
          "table": [
           {
            "cells": {
             "fill": {
              "color": "#EBF0F8"
             },
             "line": {
              "color": "white"
             }
            },
            "header": {
             "fill": {
              "color": "#C8D4E3"
             },
             "line": {
              "color": "white"
             }
            },
            "type": "table"
           }
          ]
         },
         "layout": {
          "annotationdefaults": {
           "arrowcolor": "#2a3f5f",
           "arrowhead": 0,
           "arrowwidth": 1
          },
          "autotypenumbers": "strict",
          "coloraxis": {
           "colorbar": {
            "outlinewidth": 0,
            "ticks": ""
           }
          },
          "colorscale": {
           "diverging": [
            [
             0,
             "#8e0152"
            ],
            [
             0.1,
             "#c51b7d"
            ],
            [
             0.2,
             "#de77ae"
            ],
            [
             0.3,
             "#f1b6da"
            ],
            [
             0.4,
             "#fde0ef"
            ],
            [
             0.5,
             "#f7f7f7"
            ],
            [
             0.6,
             "#e6f5d0"
            ],
            [
             0.7,
             "#b8e186"
            ],
            [
             0.8,
             "#7fbc41"
            ],
            [
             0.9,
             "#4d9221"
            ],
            [
             1,
             "#276419"
            ]
           ],
           "sequential": [
            [
             0,
             "#0d0887"
            ],
            [
             0.1111111111111111,
             "#46039f"
            ],
            [
             0.2222222222222222,
             "#7201a8"
            ],
            [
             0.3333333333333333,
             "#9c179e"
            ],
            [
             0.4444444444444444,
             "#bd3786"
            ],
            [
             0.5555555555555556,
             "#d8576b"
            ],
            [
             0.6666666666666666,
             "#ed7953"
            ],
            [
             0.7777777777777778,
             "#fb9f3a"
            ],
            [
             0.8888888888888888,
             "#fdca26"
            ],
            [
             1,
             "#f0f921"
            ]
           ],
           "sequentialminus": [
            [
             0,
             "#0d0887"
            ],
            [
             0.1111111111111111,
             "#46039f"
            ],
            [
             0.2222222222222222,
             "#7201a8"
            ],
            [
             0.3333333333333333,
             "#9c179e"
            ],
            [
             0.4444444444444444,
             "#bd3786"
            ],
            [
             0.5555555555555556,
             "#d8576b"
            ],
            [
             0.6666666666666666,
             "#ed7953"
            ],
            [
             0.7777777777777778,
             "#fb9f3a"
            ],
            [
             0.8888888888888888,
             "#fdca26"
            ],
            [
             1,
             "#f0f921"
            ]
           ]
          },
          "colorway": [
           "#636efa",
           "#EF553B",
           "#00cc96",
           "#ab63fa",
           "#FFA15A",
           "#19d3f3",
           "#FF6692",
           "#B6E880",
           "#FF97FF",
           "#FECB52"
          ],
          "font": {
           "color": "#2a3f5f"
          },
          "geo": {
           "bgcolor": "white",
           "lakecolor": "white",
           "landcolor": "#E5ECF6",
           "showlakes": true,
           "showland": true,
           "subunitcolor": "white"
          },
          "hoverlabel": {
           "align": "left"
          },
          "hovermode": "closest",
          "mapbox": {
           "style": "light"
          },
          "paper_bgcolor": "white",
          "plot_bgcolor": "#E5ECF6",
          "polar": {
           "angularaxis": {
            "gridcolor": "white",
            "linecolor": "white",
            "ticks": ""
           },
           "bgcolor": "#E5ECF6",
           "radialaxis": {
            "gridcolor": "white",
            "linecolor": "white",
            "ticks": ""
           }
          },
          "scene": {
           "xaxis": {
            "backgroundcolor": "#E5ECF6",
            "gridcolor": "white",
            "gridwidth": 2,
            "linecolor": "white",
            "showbackground": true,
            "ticks": "",
            "zerolinecolor": "white"
           },
           "yaxis": {
            "backgroundcolor": "#E5ECF6",
            "gridcolor": "white",
            "gridwidth": 2,
            "linecolor": "white",
            "showbackground": true,
            "ticks": "",
            "zerolinecolor": "white"
           },
           "zaxis": {
            "backgroundcolor": "#E5ECF6",
            "gridcolor": "white",
            "gridwidth": 2,
            "linecolor": "white",
            "showbackground": true,
            "ticks": "",
            "zerolinecolor": "white"
           }
          },
          "shapedefaults": {
           "line": {
            "color": "#2a3f5f"
           }
          },
          "ternary": {
           "aaxis": {
            "gridcolor": "white",
            "linecolor": "white",
            "ticks": ""
           },
           "baxis": {
            "gridcolor": "white",
            "linecolor": "white",
            "ticks": ""
           },
           "bgcolor": "#E5ECF6",
           "caxis": {
            "gridcolor": "white",
            "linecolor": "white",
            "ticks": ""
           }
          },
          "title": {
           "x": 0.05
          },
          "xaxis": {
           "automargin": true,
           "gridcolor": "white",
           "linecolor": "white",
           "ticks": "",
           "title": {
            "standoff": 15
           },
           "zerolinecolor": "white",
           "zerolinewidth": 2
          },
          "yaxis": {
           "automargin": true,
           "gridcolor": "white",
           "linecolor": "white",
           "ticks": "",
           "title": {
            "standoff": 15
           },
           "zerolinecolor": "white",
           "zerolinewidth": 2
          }
         }
        },
        "title": {
         "text": "Deep Learning Model Accuracy and Loss Comparison metrics"
        }
       }
      }
     },
     "metadata": {},
     "output_type": "display_data"
    }
   ],
   "source": [
    "import plotly.graph_objects as go\n",
    "\n",
    "# Data for each model\n",
    "models = ['nn', 'optimized_nn', 'advanced_nn']\n",
    "accuracies = [97.00, 63.85, 96.91]  \n",
    "losses = [14.78, 1.08, 11.03]  \n",
    "\n",
    "# Create traces for accuracies and losses\n",
    "trace1 = go.Bar(\n",
    "    x=models,\n",
    "    y=accuracies,\n",
    "    name='Accuracy',\n",
    "    marker=dict(color=['blue', 'green', 'red']),\n",
    "    hoverinfo='y',\n",
    "    text=accuracies,\n",
    "    textposition='auto',\n",
    "    hovertemplate=\n",
    "    '<b>Model</b>: %{x}<br><b>Accuracy</b>: %{y:.2f}%<extra></extra>'  # Display value as percentage\n",
    ")\n",
    "\n",
    "trace2 = go.Bar(\n",
    "    x=models,\n",
    "    y=losses,\n",
    "    name='Loss',\n",
    "    marker=dict(color=['lightblue', 'lightgreen', 'lightcoral']),\n",
    "    hoverinfo='y',\n",
    "    text=losses,\n",
    "    textposition='auto',\n",
    "    hovertemplate=\n",
    "    '<b>Model</b>: %{x}<br><b>Loss</b>: %{y:.2f}%<extra></extra>'  # Display value as percentage\n",
    ")\n",
    "\n",
    "# Create the layout and add traces\n",
    "layout = go.Layout(\n",
    "    title='Deep Learning Model Accuracy and Loss Comparison metrics',\n",
    "    barmode='group'\n",
    ")\n",
    "\n",
    "fig = go.Figure(data=[trace1, trace2], layout=layout)\n",
    "\n",
    "# Show plot\n",
    "fig.show()\n",
    "\n"
   ]
  }
 ],
 "metadata": {
  "kernelspec": {
   "display_name": "dev",
   "language": "python",
   "name": "python3"
  },
  "language_info": {
   "codemirror_mode": {
    "name": "ipython",
    "version": 3
   },
   "file_extension": ".py",
   "mimetype": "text/x-python",
   "name": "python",
   "nbconvert_exporter": "python",
   "pygments_lexer": "ipython3",
   "version": "3.10.12"
  },
  "orig_nbformat": 4
 },
 "nbformat": 4,
 "nbformat_minor": 2
}
